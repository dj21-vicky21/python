{
 "cells": [
  {
   "cell_type": "markdown",
   "id": "4846c1c8",
   "metadata": {},
   "source": [
    "# class"
   ]
  },
  {
   "cell_type": "code",
   "execution_count": 36,
   "id": "01cc1786",
   "metadata": {},
   "outputs": [
    {
     "name": "stdout",
     "output_type": "stream",
     "text": [
      "carlo\n"
     ]
    }
   ],
   "source": [
    "class Dog_name:\n",
    "    def __init__(self,name):\n",
    "        self.name=name\n",
    "    '''def __str__(self):      #also using this function\n",
    "        print(\"{}\".format(self.name))\n",
    "    def  tree(self):\n",
    "        print(\"{}\".format(self.name))'''\n",
    "        \n",
    "one=Dog_name(\"carlo\")\n",
    "two=Dog_name(\"victor\")\n",
    "one.tree()\n"
   ]
  },
  {
   "cell_type": "code",
   "execution_count": 34,
   "id": "a2b60c7e",
   "metadata": {},
   "outputs": [
    {
     "data": {
      "text/plain": [
       "'curvely bend'"
      ]
     },
     "execution_count": 34,
     "metadata": {},
     "output_type": "execute_result"
    }
   ],
   "source": [
    "class fruits:\n",
    "    def __init__(self,name,color,shape,flavour):\n",
    "        self.name = name\n",
    "        self.color = color\n",
    "        self.shape = shape\n",
    "        self.flavour = flavour\n",
    "        \n",
    "class Apple(fruits):\n",
    "    pass\n",
    "class Mango(fruits):\n",
    "    pass\n",
    "class Grape(fruits):\n",
    "    pass\n",
    "class Banana(fruits):\n",
    "    pass\n",
    "banana=Banana('banana','yellow','curvely bend','sweet')\n",
    "mango=Mango('mango','orange yellow','sweet','very swee')\n",
    "apple=Apple('apple','red','circle','light sweet')\n",
    "grape=Grape('grape','purple','circle','tart')\n",
    "banana.shape       # change "
   ]
  },
  {
   "cell_type": "code",
   "execution_count": 25,
   "id": "f46cb2ea",
   "metadata": {},
   "outputs": [],
   "source": [
    "def current_details(event):\n",
    "    details={}\n",
    "    self.details[value]=self.name\n",
    "    self.details[key]=self.mark\n",
    "    print(details)\n",
    "    \n",
    "class event:\n",
    "    event=(\"dj\",'33')\n",
    "    \n",
    "        \n",
    "        \n",
    "        \n",
    "    \n",
    "    "
   ]
  },
  {
   "cell_type": "code",
   "execution_count": null,
   "id": "f0e74388",
   "metadata": {},
   "outputs": [],
   "source": [
    "\n"
   ]
  }
 ],
 "metadata": {
  "kernelspec": {
   "display_name": "Python 3",
   "language": "python",
   "name": "python3"
  },
  "language_info": {
   "codemirror_mode": {
    "name": "ipython",
    "version": 3
   },
   "file_extension": ".py",
   "mimetype": "text/x-python",
   "name": "python",
   "nbconvert_exporter": "python",
   "pygments_lexer": "ipython3",
   "version": "3.6.9"
  }
 },
 "nbformat": 4,
 "nbformat_minor": 5
}
