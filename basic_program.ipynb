{
 "cells": [
  {
   "cell_type": "markdown",
   "id": "96f66d9d",
   "metadata": {},
   "source": [
    "# check even are odd"
   ]
  },
  {
   "cell_type": "code",
   "execution_count": 1,
   "id": "979aa3dc",
   "metadata": {},
   "outputs": [
    {
     "name": "stdout",
     "output_type": "stream",
     "text": [
      "Enter The Number: 2\n",
      "2 is Even\n"
     ]
    }
   ],
   "source": [
    "num=int(input('Enter The Number: '))\n",
    "if(int(num) >= 2):\n",
    "    if((num%2) == 0):\n",
    "        print(num,'is Even')\n",
    "    else:\n",
    "        print(num,'is Odd')\n",
    "else:\n",
    "    print('enter greater than 2')"
   ]
  },
  {
   "cell_type": "markdown",
   "id": "0e5f683f",
   "metadata": {},
   "source": [
    "# find squareroot of num"
   ]
  },
  {
   "cell_type": "code",
   "execution_count": 17,
   "id": "76759145",
   "metadata": {},
   "outputs": [
    {
     "name": "stdout",
     "output_type": "stream",
     "text": [
      "enter the number: 81\n",
      "square root of 81 is 9.0\n"
     ]
    }
   ],
   "source": [
    "num=int(input('enter the number: '))\n",
    "if(num>=1):\n",
    "    ans=num**0.5\n",
    "    print('square root of '+ str(num) +' is '+ str(ans))\n",
    "else:\n",
    "    print('enter greater than 1')\n",
    "    "
   ]
  },
  {
   "cell_type": "markdown",
   "id": "eda3728c",
   "metadata": {},
   "source": [
    "# find square "
   ]
  },
  {
   "cell_type": "code",
   "execution_count": 15,
   "id": "186f515f",
   "metadata": {},
   "outputs": [
    {
     "name": "stdout",
     "output_type": "stream",
     "text": [
      "Enter The Number9\n",
      "81\n"
     ]
    }
   ],
   "source": [
    "num=int(input('Enter The Number'))\n",
    "if(num>1):\n",
    "    ans=num*num\n",
    "    print(ans)\n",
    "else:\n",
    "    print('enter greater than 1')\n"
   ]
  },
  {
   "cell_type": "markdown",
   "id": "b79d02a2",
   "metadata": {},
   "source": [
    "# calculate area of triangle"
   ]
  },
  {
   "cell_type": "code",
   "execution_count": 21,
   "id": "6e358cd2",
   "metadata": {},
   "outputs": [
    {
     "name": "stdout",
     "output_type": "stream",
     "text": [
      "enter the base: 4\n",
      "enter the height: 2\n",
      "area of triangle is 4.0\n"
     ]
    }
   ],
   "source": [
    "base = int(input('enter the base: '))\n",
    "height = int(input('enter the height: '))\n",
    "area = height*base/2\n",
    "print('area of triangle is',area)"
   ]
  },
  {
   "cell_type": "markdown",
   "id": "a083f02a",
   "metadata": {},
   "source": [
    "# calculate area of triangle three sides"
   ]
  },
  {
   "cell_type": "code",
   "execution_count": 59,
   "id": "ca1b7de3",
   "metadata": {},
   "outputs": [
    {
     "name": "stdout",
     "output_type": "stream",
     "text": [
      "enter a: 5\n",
      "enter b: 6\n",
      "enter c: 7\n",
      "the semi-perimeter of triangle is 9.0\n",
      "14.70\n"
     ]
    }
   ],
   "source": [
    "a = float(input('enter a: '))\n",
    "b = float(input('enter b: '))\n",
    "c = float(input('enter c: '))\n",
    "s = (a+b+c)/2\n",
    "area = ((s*(s-a)*(s-b)*(s-c))**0.5)\n",
    "print('the semi-perimeter of triangle is',float(s))\n",
    "print('{:.2f}'.format(area))\n"
   ]
  },
  {
   "cell_type": "markdown",
   "id": "4c2c3771",
   "metadata": {},
   "source": [
    "# solve quadratic equation"
   ]
  },
  {
   "cell_type": "code",
   "execution_count": 69,
   "id": "03c164af",
   "metadata": {},
   "outputs": [
    {
     "name": "stdout",
     "output_type": "stream",
     "text": [
      "enter a: 1\n",
      "enter b: 5\n",
      "enter c: 6\n",
      "-2.0 -3.0\n"
     ]
    }
   ],
   "source": [
    "import cmath\n",
    "a =float(input('enter a: '))\n",
    "b =float(input('enter b: '))\n",
    "c =float(input('enter c: '))\n",
    "d=b**2\n",
    "e=4*a*c\n",
    "sol1 = (-b+(d-e)**0.5)/(2*a)\n",
    "sol2 = (-b-(d-e)**0.5)/(2*a)\n",
    "print(sol1,sol2)"
   ]
  },
  {
   "cell_type": "markdown",
   "id": "5a0785df",
   "metadata": {},
   "source": [
    "# Swap Two Variables"
   ]
  },
  {
   "cell_type": "code",
   "execution_count": 70,
   "id": "b1898688",
   "metadata": {},
   "outputs": [
    {
     "name": "stdout",
     "output_type": "stream",
     "text": [
      "enter the first number 2\n",
      "enter the second number3\n",
      "the first number after swap is 3\n",
      "the second number after swap is 2\n"
     ]
    }
   ],
   "source": [
    "a =int(input('enter the first number: '))\n",
    "b = int(input('enter the second number: '))\n",
    "t = b\n",
    "b = a\n",
    "a = t\n",
    "print('the first number after swap is {}'.format(a))\n",
    "print('the second number after swap is {}'.format(b))"
   ]
  },
  {
   "cell_type": "markdown",
   "id": "ad30167a",
   "metadata": {},
   "source": [
    "# Swap Two Variables without third variable"
   ]
  },
  {
   "cell_type": "code",
   "execution_count": 71,
   "id": "47f5fc88",
   "metadata": {},
   "outputs": [
    {
     "name": "stdout",
     "output_type": "stream",
     "text": [
      "enter the first number 3\n",
      "enter the second number4\n",
      "the first number after swap is 4\n",
      "the second number after swap is 3\n"
     ]
    }
   ],
   "source": [
    "a =int(input('enter the first number '))\n",
    "b = int(input('enter the second number '))\n",
    "a = a+b\n",
    "b = a-b\n",
    "a = a-b\n",
    "print('the first number after swap is {}'.format(a))\n",
    "print('the second number after swap is {}'.format(b))"
   ]
  },
  {
   "cell_type": "markdown",
   "id": "2c7106c5",
   "metadata": {},
   "source": [
    "# generate random number"
   ]
  },
  {
   "cell_type": "code",
   "execution_count": 73,
   "id": "711e3cac",
   "metadata": {},
   "outputs": [
    {
     "name": "stdout",
     "output_type": "stream",
     "text": [
      "enter the starting number 1\n",
      "enter the ending number 9\n",
      "3\n"
     ]
    }
   ],
   "source": [
    "import random\n",
    "a =int(input('enter the starting number '))\n",
    "b = int(input('enter the ending number '))\n",
    "print(random.randint(a,b))"
   ]
  },
  {
   "cell_type": "markdown",
   "id": "ab1db3f2",
   "metadata": {},
   "source": [
    "# Convert Kilometers to Miles"
   ]
  },
  {
   "cell_type": "code",
   "execution_count": 86,
   "id": "51e8a056",
   "metadata": {},
   "outputs": [
    {
     "name": "stdout",
     "output_type": "stream",
     "text": [
      "enter the kilometer: 4\n",
      "4.0 Km = 2.49 miles\n"
     ]
    }
   ],
   "source": [
    "km = float(input('enter the kilometer: '))\n",
    "meter = km*0.621371\n",
    "print('{} Km = {:.2f} miles'.format(km,meter))\n"
   ]
  },
  {
   "cell_type": "markdown",
   "id": "ec731232",
   "metadata": {},
   "source": [
    "# Convert  Miles to Kilometers"
   ]
  },
  {
   "cell_type": "code",
   "execution_count": 88,
   "id": "1f9baa7b",
   "metadata": {},
   "outputs": [
    {
     "name": "stdout",
     "output_type": "stream",
     "text": [
      "enter the miles: 2.49\n",
      "2.49 mile = 4.01 km\n"
     ]
    }
   ],
   "source": [
    "mile = float(input('enter the miles: '))\n",
    "km = mile/0.621371\n",
    "print('{} mile = {:.2f} km'.format(mile,km))\n"
   ]
  },
  {
   "cell_type": "markdown",
   "id": "1ccd2137",
   "metadata": {},
   "source": [
    "# Convert Celsius To Fahrenheit"
   ]
  },
  {
   "cell_type": "code",
   "execution_count": 81,
   "id": "f8a039c0",
   "metadata": {},
   "outputs": [
    {
     "name": "stdout",
     "output_type": "stream",
     "text": [
      "enter celsius37.5\n",
      "37.5c = 99.50f\n"
     ]
    }
   ],
   "source": [
    "celsius = float(input('enter celsius'))\n",
    "fah = (celsius*1.8)+32\n",
    "print('{}c = {:.2f}f'.format(celsius,fah))"
   ]
  },
  {
   "cell_type": "markdown",
   "id": "8b691f24",
   "metadata": {},
   "source": [
    "# Convert Fahrenheit to Celsius  "
   ]
  },
  {
   "cell_type": "code",
   "execution_count": 89,
   "id": "cf76992c",
   "metadata": {},
   "outputs": [
    {
     "name": "stdout",
     "output_type": "stream",
     "text": [
      "enter Fahrenheit: 99.50\n",
      "99.5f = 37.50c\n"
     ]
    }
   ],
   "source": [
    "fahrenheit = float(input('enter Fahrenheit: '))\n",
    "celsius =(fahrenheit-32)/1.8\n",
    "print('{}f = {:.2f}c'.format(fahrenheit,celsius))    \n",
    "    "
   ]
  },
  {
   "cell_type": "markdown",
   "id": "0ab56ae9",
   "metadata": {},
   "source": [
    "# check the number  positive are negative are zero"
   ]
  },
  {
   "cell_type": "code",
   "execution_count": 96,
   "id": "8edf2430",
   "metadata": {},
   "outputs": [
    {
     "name": "stdout",
     "output_type": "stream",
     "text": [
      "Enter a Number: -2\n",
      "The Give Number -2 is negative\n"
     ]
    }
   ],
   "source": [
    "num=int(input('Enter a Number: '))\n",
    "if(num ==0 ):\n",
    "    print('The Give Number {} is zero'.format(num))\n",
    "else:\n",
    "    if(num>0):\n",
    "        print('The Give Number {} is positive'.format(num))\n",
    "    else:\n",
    "        print('The Give Number {} is negative'.format(num))\n",
    "        \n"
   ]
  },
  {
   "cell_type": "markdown",
   "id": "c6aaeddc",
   "metadata": {},
   "source": [
    "# find leap year are not"
   ]
  },
  {
   "cell_type": "code",
   "execution_count": 112,
   "id": "13c633a9",
   "metadata": {},
   "outputs": [
    {
     "name": "stdout",
     "output_type": "stream",
     "text": [
      "Enter the Year: 2020\n",
      "2020 Is a leap year\n"
     ]
    }
   ],
   "source": [
    "num = int(input('Enter the Year: '))\n",
    "if(num%4 == 0):\n",
    "    print( num, 'Is a leap year')\n",
    "else:\n",
    "    print(num,'Not a leap year')"
   ]
  },
  {
   "cell_type": "markdown",
   "id": "b740c842",
   "metadata": {},
   "source": [
    "# find the largest number"
   ]
  },
  {
   "cell_type": "markdown",
   "id": "e9920df1",
   "metadata": {},
   "source": [
    "method 1"
   ]
  },
  {
   "cell_type": "code",
   "execution_count": 114,
   "id": "2882857a",
   "metadata": {},
   "outputs": [
    {
     "name": "stdout",
     "output_type": "stream",
     "text": [
      "Enter the First Number: 9\n",
      "Enter the second Number: 1\n",
      "Enter the third Number: 2\n",
      "9 is largest number\n"
     ]
    }
   ],
   "source": [
    "a =int(input('Enter the First Number: '))\n",
    "b =int(input('Enter the second Number: '))\n",
    "c =int(input('Enter the third Number: '))\n",
    "if(a>b):\n",
    "    large = a\n",
    "    if(large>c):\n",
    "        print(large,'is largest number')\n",
    "    else:\n",
    "        print(c,'is largest number')\n",
    "else:\n",
    "    large = b\n",
    "    if(large>c):\n",
    "        print(large,'is largest number')\n",
    "    else:\n",
    "        print(c,'is largest number')"
   ]
  },
  {
   "cell_type": "markdown",
   "id": "5db74b1b",
   "metadata": {},
   "source": [
    "method 2"
   ]
  },
  {
   "cell_type": "code",
   "execution_count": 117,
   "id": "65e0a9ef",
   "metadata": {},
   "outputs": [
    {
     "name": "stdout",
     "output_type": "stream",
     "text": [
      "Enter the First Number: 9\n",
      "Enter the second Number: 2\n",
      "Enter the third Number: 3\n",
      "9 is largest number\n"
     ]
    }
   ],
   "source": [
    "a =int(input('Enter the First Number: '))\n",
    "b =int(input('Enter the second Number: '))\n",
    "c =int(input('Enter the third Number: '))\n",
    "if((a>b)&(a>c)):\n",
    "    print(a,'is largest number')\n",
    "elif(b>a)&(b>c):\n",
    "    print(b,'is largest number')\n",
    "else:\n",
    "    print(c,'is largest number')"
   ]
  },
  {
   "cell_type": "markdown",
   "id": "cf2cabd2",
   "metadata": {},
   "source": [
    "# prime are not"
   ]
  },
  {
   "cell_type": "code",
   "execution_count": 161,
   "id": "2048b8a1",
   "metadata": {},
   "outputs": [
    {
     "name": "stdout",
     "output_type": "stream",
     "text": [
      "Enter the Number: 3\n",
      "3 is a prime\n"
     ]
    }
   ],
   "source": [
    "a =int(input('Enter the Number: '))\n",
    "if(a>1):\n",
    "    for i in range(2,a):\n",
    "        if((a%i) == 0):\n",
    "            print(a,'is not a prime')\n",
    "            break\n",
    "    else:\n",
    "        print(a,'is a prime')\n",
    "else:\n",
    "    print(a,'is a  not a prime ')"
   ]
  },
  {
   "cell_type": "markdown",
   "id": "87baf085",
   "metadata": {},
   "source": [
    "#  find the set  of range  prime numbers"
   ]
  },
  {
   "cell_type": "code",
   "execution_count": 52,
   "id": "e19e0954",
   "metadata": {},
   "outputs": [
    {
     "name": "stdout",
     "output_type": "stream",
     "text": [
      "Enter the starting Number: 11\n",
      "Enter the ending Number: 20\n",
      "11\n",
      "13\n",
      "17\n",
      "19\n"
     ]
    }
   ],
   "source": [
    "a =int(input('Enter the starting Number: '))\n",
    "b =int(input('Enter the ending Number: '))\n",
    "for i in range(a,b):\n",
    "    if(i>1):\n",
    "        for num in range(2,i):\n",
    "            if(i%num)==0:\n",
    "                break\n",
    "        else:\n",
    "            print(i)"
   ]
  },
  {
   "cell_type": "markdown",
   "id": "963aa695",
   "metadata": {},
   "source": [
    "# find factorial number"
   ]
  },
  {
   "cell_type": "markdown",
   "id": "4d1428c0",
   "metadata": {},
   "source": [
    "method 1"
   ]
  },
  {
   "cell_type": "code",
   "execution_count": 59,
   "id": "64526ffd",
   "metadata": {},
   "outputs": [
    {
     "name": "stdout",
     "output_type": "stream",
     "text": [
      "Enter the number6\n",
      "720\n"
     ]
    }
   ],
   "source": [
    "a = int(input('Enter the number'))\n",
    "product = 1\n",
    "for i in range(1,a+1):\n",
    "    product *= i \n",
    "print(product)"
   ]
  },
  {
   "cell_type": "markdown",
   "id": "2f6f8dcc",
   "metadata": {},
   "source": [
    "method 2"
   ]
  },
  {
   "cell_type": "code",
   "execution_count": 62,
   "id": "3cc7dc73",
   "metadata": {},
   "outputs": [
    {
     "name": "stdout",
     "output_type": "stream",
     "text": [
      "Enter the number6\n",
      "720\n"
     ]
    }
   ],
   "source": [
    "import math\n",
    "a = int(input('Enter the number'))\n",
    "print(math.factorial(a))"
   ]
  },
  {
   "cell_type": "markdown",
   "id": "804477bf",
   "metadata": {},
   "source": [
    "# display tables"
   ]
  },
  {
   "cell_type": "code",
   "execution_count": 66,
   "id": "8988fe89",
   "metadata": {},
   "outputs": [
    {
     "name": "stdout",
     "output_type": "stream",
     "text": [
      "Enter the number:13\n",
      "13x1=13\n",
      "13x2=26\n",
      "13x3=39\n",
      "13x4=52\n",
      "13x5=65\n",
      "13x6=78\n",
      "13x7=91\n",
      "13x8=104\n",
      "13x9=117\n",
      "13x10=130\n"
     ]
    }
   ],
   "source": [
    "a = int(input('Enter the number:'))\n",
    "for i in range(1,10+1):\n",
    "    print(\"{}x{}={}\".format(a,i,(a*i)))"
   ]
  },
  {
   "cell_type": "markdown",
   "id": "8987d208",
   "metadata": {},
   "source": [
    "# fibonacci series"
   ]
  },
  {
   "cell_type": "code",
   "execution_count": 14,
   "id": "229686af",
   "metadata": {},
   "outputs": [
    {
     "name": "stdout",
     "output_type": "stream",
     "text": [
      "Enter the number:5\n",
      "0\n",
      "1\n",
      "1\n",
      "2\n",
      "3\n"
     ]
    }
   ],
   "source": [
    "num = int(input('Enter the number:'))\n",
    "a=0\n",
    "b=1\n",
    "count =0\n",
    "print(a)\n",
    "print(b)\n",
    "while(count<num-2):\n",
    "    c = a+b\n",
    "    print(c)\n",
    "    a = b    \n",
    "    b = c\n",
    "    count+=1"
   ]
  },
  {
   "cell_type": "markdown",
   "id": "3266c89b",
   "metadata": {},
   "source": [
    "# find Armstrong Number"
   ]
  },
  {
   "cell_type": "markdown",
   "id": "91af85ca",
   "metadata": {},
   "source": [
    "method 1"
   ]
  },
  {
   "cell_type": "code",
   "execution_count": 13,
   "id": "a2c85fdf",
   "metadata": {},
   "outputs": [
    {
     "name": "stdout",
     "output_type": "stream",
     "text": [
      "enter the number: 153\n",
      "It Is A Armstrong Number\n"
     ]
    }
   ],
   "source": [
    "num = int(input(\"enter the number: \"))\n",
    "\n",
    "hun = num//100\n",
    "ten = (num//10)-(hun*10)\n",
    "one = num - (hun*100)-(ten*10)\n",
    "\n",
    "hun = hun**3\n",
    "ten = ten**3\n",
    "one = one**3\n",
    "\n",
    "if(hun+ten+one == num):\n",
    "    print('It Is A Armstrong Number')\n",
    "else:\n",
    "    print('Not A Armstrong Number')"
   ]
  },
  {
   "cell_type": "markdown",
   "id": "cfb347e0",
   "metadata": {},
   "source": [
    "methos 2"
   ]
  },
  {
   "cell_type": "code",
   "execution_count": 26,
   "id": "ee9d2639",
   "metadata": {},
   "outputs": [
    {
     "name": "stdout",
     "output_type": "stream",
     "text": [
      "enter starting number: 10000\n",
      "enter ending number: 100000\n",
      "54748\n",
      "92727\n",
      "93084\n"
     ]
    }
   ],
   "source": [
    "lower = int(input('enter starting number: '))\n",
    "upper = int(input('enter ending number: '))\n",
    "\n",
    "for num in range(lower, upper + 1):   \n",
    "    order = len(str(num))\n",
    "    sum = 0\n",
    "\n",
    "    temp = num\n",
    "    while temp > 0:\n",
    "        digit = temp % 10\n",
    "        sum += digit ** order\n",
    "        temp //= 10\n",
    "\n",
    "    if num == sum:\n",
    "        print(num)"
   ]
  },
  {
   "cell_type": "code",
   "execution_count": 10,
   "id": "fedc6b1d",
   "metadata": {},
   "outputs": [
    {
     "name": "stdout",
     "output_type": "stream",
     "text": [
      "enter the number: 100\n",
      "enter the number: 900\n",
      "153\n",
      "370\n",
      "371\n",
      "407\n"
     ]
    }
   ],
   "source": [
    "a = int(input(\"enter the number: \"))\n",
    "b = int(input(\"enter the number: \"))\n",
    "for num in range(a,b+1):\n",
    "    hun = num//100\n",
    "    ten = (num//10)-(hun*10)\n",
    "    one = num - (hun*100)-(ten*10)\n",
    "    huns = hun**3\n",
    "    tens = ten**3\n",
    "    ones = one**3\n",
    "    if(huns+tens+ones == num):\n",
    "        print(num)"
   ]
  },
  {
   "cell_type": "markdown",
   "id": "4233dbe9",
   "metadata": {},
   "source": [
    "# sum of natural numbers"
   ]
  },
  {
   "cell_type": "code",
   "execution_count": 19,
   "id": "d7b59424",
   "metadata": {},
   "outputs": [
    {
     "name": "stdout",
     "output_type": "stream",
     "text": [
      "enter the number: 5\n",
      "15\n"
     ]
    }
   ],
   "source": [
    "num = int(input(\"enter the number: \"))\n",
    "sum = 0\n",
    "if(num>0):\n",
    "    for i in range(1,num+1):\n",
    "        sum+=i\n",
    "    print(sum)\n",
    "else:\n",
    "    print('enter greater than 0')"
   ]
  },
  {
   "cell_type": "markdown",
   "id": "a7bb12d5",
   "metadata": {},
   "source": [
    "#  Display Powers of  number"
   ]
  },
  {
   "cell_type": "code",
   "execution_count": 43,
   "id": "a9106ac3",
   "metadata": {},
   "outputs": [
    {
     "name": "stdout",
     "output_type": "stream",
     "text": [
      "enter the number: 2\n",
      "enter the range: 10\n",
      "2 to the power of 0 is 1 \n",
      "2 to the power of 1 is 2 \n",
      "2 to the power of 2 is 4 \n",
      "2 to the power of 3 is 8 \n",
      "2 to the power of 4 is 16 \n",
      "2 to the power of 5 is 32 \n",
      "2 to the power of 6 is 64 \n",
      "2 to the power of 7 is 128 \n",
      "2 to the power of 8 is 256 \n",
      "2 to the power of 9 is 512 \n"
     ]
    }
   ],
   "source": [
    "num1 = int(input(\"enter the number: \"))\n",
    "num2 = int(input(\"enter the range: \"))\n",
    "for i in range(0,num2):\n",
    "    print('{} to the power of {} is {} '.format(num1,i,(num1**i)))"
   ]
  },
  {
   "cell_type": "markdown",
   "id": "a31c549e",
   "metadata": {},
   "source": [
    "#  display division number"
   ]
  },
  {
   "cell_type": "code",
   "execution_count": 63,
   "id": "788dc6d5",
   "metadata": {},
   "outputs": [
    {
     "name": "stdout",
     "output_type": "stream",
     "text": [
      "enter the divison number: 2\n",
      "enter the starting range: 1\n",
      "enter the ending range: 10\n",
      "2\n",
      "4\n",
      "6\n",
      "8\n",
      "10\n"
     ]
    }
   ],
   "source": [
    "div =int(input(\"enter the divison number: \"))\n",
    "start = int(input(\"enter the starting range: \"))\n",
    "end = int(input(\"enter the ending range: \"))\n",
    "lists =[]\n",
    "for i in range(start,end+1):\n",
    "    if((i%div)== 0):\n",
    "#         lists.append(i)\n",
    "          print(i)  \n",
    "# print(lists)"
   ]
  },
  {
   "cell_type": "markdown",
   "id": "473f0c44",
   "metadata": {},
   "source": [
    "# find div number in list"
   ]
  },
  {
   "cell_type": "code",
   "execution_count": 66,
   "id": "75d6eae7",
   "metadata": {},
   "outputs": [
    {
     "name": "stdout",
     "output_type": "stream",
     "text": [
      "enter the divion number13\n",
      "[13, 26, 39, 130]\n"
     ]
    }
   ],
   "source": [
    "num = [13,56,987,26,39,130]   \n",
    "\"\"\"also add some other numbers in a list \"\"\" \n",
    "div = int(input('enter the divion number'))\n",
    "res = list(filter(lambda x: x%div == 0,num))\n",
    "print(res)"
   ]
  },
  {
   "cell_type": "markdown",
   "id": "841577bf",
   "metadata": {},
   "source": [
    "# convert dicimal number into binary and octal and hexa numbers"
   ]
  },
  {
   "cell_type": "code",
   "execution_count": 105,
   "id": "89a5ade5",
   "metadata": {},
   "outputs": [
    {
     "name": "stdout",
     "output_type": "stream",
     "text": [
      "enter the number2\n",
      "Binary  number of 2 0b10, the `0b` refers binary\n",
      "Hexadecimal number of 2 0x2, the `0x` refers hexadecimal  number\n",
      "Octal number of 2 0o2, the `0o` refers octal number\n"
     ]
    }
   ],
   "source": [
    "num= int(input('enter the number'))\n",
    "bina = bin(num)\n",
    "hexa = hex(num)\n",
    "octa = oct(num)\n",
    "print('Binary  number of '+str(num)+ ' ' +bina +\", the `0b` refers binary\")\n",
    "print('Hexadecimal number of '+str(num)+ ' ' +hexa +\", the `0x` refers hexadecimal  number\")\n",
    "print('Octal number of '+str(num)+ ' ' +octa+\", the `0o` refers octal number\")"
   ]
  },
  {
   "cell_type": "markdown",
   "id": "4bb97905",
   "metadata": {},
   "source": [
    "# convert ASCII VALUE OF CHARACTERS "
   ]
  },
  {
   "cell_type": "code",
   "execution_count": 1,
   "id": "f1d10852",
   "metadata": {},
   "outputs": [
    {
     "name": "stdout",
     "output_type": "stream",
     "text": [
      "enter the character: A\n",
      "the ASCII value of character 65\n"
     ]
    }
   ],
   "source": [
    "char = str(input('enter the character: '))\n",
    "if(len(char)==1):\n",
    "    print('the ASCII value of character',ord(char))\n",
    "else:\n",
    "    print('enter single character ')"
   ]
  },
  {
   "cell_type": "markdown",
   "id": "13ab0cf6",
   "metadata": {},
   "source": [
    "# Find GCD"
   ]
  },
  {
   "cell_type": "code",
   "execution_count": 41,
   "id": "9f345e7e",
   "metadata": {},
   "outputs": [
    {
     "name": "stdout",
     "output_type": "stream",
     "text": [
      "Enter the first number:24\n",
      "Enter the second number:18\n",
      "GCD is 6\n"
     ]
    }
   ],
   "source": [
    "def gcd(num1,num2):\n",
    "    num3 = max(num1,num2)\n",
    "    GCD = []\n",
    "    for i in range(1,num3):\n",
    "        if(num1%i == 0) & (num2%i == 0):\n",
    "            GCD.append(i)\n",
    "    print('GCD is',max(GCD))\n",
    "\n",
    "gcd(int(input('Enter the first number:')),int(input('Enter the second number:')));"
   ]
  },
  {
   "cell_type": "markdown",
   "id": "383e3290",
   "metadata": {},
   "source": [
    "# Find LCM"
   ]
  },
  {
   "cell_type": "code",
   "execution_count": 73,
   "id": "0db1d5ba",
   "metadata": {},
   "outputs": [
    {
     "name": "stdout",
     "output_type": "stream",
     "text": [
      "72\n"
     ]
    }
   ],
   "source": [
    "def lcm(num1,num2):\n",
    "    num3 = []\n",
    "    num4 = []\n",
    "    lcm = []\n",
    "    for i in range(1,9):\n",
    "        num3.append(num1*i)\n",
    "        num4.append(num2*i)\n",
    "    for value1 in num3:\n",
    "        for value2 in num4:\n",
    "            if(value1 == value2):\n",
    "                lcm.append(value1)\n",
    "    print(min(lcm))\n",
    "lcm(24,36);"
   ]
  },
  {
   "cell_type": "markdown",
   "id": "b901f7af",
   "metadata": {},
   "source": [
    "# factor of a number"
   ]
  },
  {
   "cell_type": "code",
   "execution_count": 75,
   "id": "c779ce44",
   "metadata": {},
   "outputs": [
    {
     "name": "stdout",
     "output_type": "stream",
     "text": [
      "1\n",
      "2\n",
      "4\n",
      "5\n",
      "8\n",
      "10\n",
      "16\n",
      "20\n",
      "32\n",
      "40\n",
      "64\n",
      "80\n",
      "160\n",
      "320\n"
     ]
    }
   ],
   "source": [
    "def fac(num):\n",
    "    for i in  range(1,num+1):\n",
    "        if(num%i == 0):\n",
    "            print(i)\n",
    "fac(320);"
   ]
  },
  {
   "cell_type": "markdown",
   "id": "dd3e69c6",
   "metadata": {},
   "source": [
    "# simple calculation"
   ]
  },
  {
   "cell_type": "code",
   "execution_count": 4,
   "id": "621b91fb",
   "metadata": {},
   "outputs": [
    {
     "name": "stdout",
     "output_type": "stream",
     "text": [
      "enter the first number: 4\n",
      "enter the second number: 2\n",
      "1.addition: 6\n",
      "2.subtraction: 2\n",
      "3.multiplication: 8\n",
      "4.divition: 2.0\n"
     ]
    }
   ],
   "source": [
    "num1 =int(input('enter the first number: '))\n",
    "num2 =int(input('enter the second number: '))\n",
    "# addition\n",
    "print(\"1.addition:\",num1+num2)\n",
    "# subtraction\n",
    "if(num1>num2): print(\"2.subtraction:\",num1-num2) \n",
    "else: print(\"2.subtraction:\",num2-num1)\n",
    "# multiplication\n",
    "print(\"3.multiplication:\",num1*num2)\n",
    "# divition\n",
    "if(num1>num2): print(\"4.divition:\",num1/num2) \n",
    "else: print(\"4.divition:\",num2/num1)"
   ]
  },
  {
   "cell_type": "markdown",
   "id": "060aa6fb",
   "metadata": {},
   "source": [
    "# display random  number of cards"
   ]
  },
  {
   "cell_type": "code",
   "execution_count": 25,
   "id": "8a39fdcf",
   "metadata": {},
   "outputs": [
    {
     "name": "stdout",
     "output_type": "stream",
     "text": [
      "4 of Club\n",
      "2 of Heart\n",
      "3 of Spade\n",
      "4 of Spade\n"
     ]
    }
   ],
   "source": [
    "import random\n",
    "lists = ['Spade','Heart','Diamond','Club']\n",
    "for i in range(len(lists)):\n",
    "    ran = random.choice(lists)\n",
    "    rans = random.randint(1,len(lists))\n",
    "    print(rans ,'of',ran)\n"
   ]
  },
  {
   "cell_type": "markdown",
   "id": "3cb90d52",
   "metadata": {},
   "source": [
    "# display a calendar"
   ]
  },
  {
   "cell_type": "code",
   "execution_count": 36,
   "id": "5c6a0fbc",
   "metadata": {},
   "outputs": [
    {
     "name": "stdout",
     "output_type": "stream",
     "text": [
      "enter the year:2022\n",
      "enter the month:1\n",
      "    January 2022\n",
      "Mo Tu We Th Fr Sa Su\n",
      "                1  2\n",
      " 3  4  5  6  7  8  9\n",
      "10 11 12 13 14 15 16\n",
      "17 18 19 20 21 22 23\n",
      "24 25 26 27 28 29 30\n",
      "31\n",
      "\n"
     ]
    }
   ],
   "source": [
    "import calendar\n",
    "year = int(input('enter the year:'))\n",
    "month = int(input('enter the month:'))\n",
    "print(calendar.month(year,month))\n"
   ]
  },
  {
   "cell_type": "markdown",
   "id": "9430d6f4",
   "metadata": {},
   "source": [
    "# Get fib series using recrusion"
   ]
  },
  {
   "cell_type": "code",
   "execution_count": 18,
   "id": "7d78bea0",
   "metadata": {},
   "outputs": [
    {
     "name": "stdout",
     "output_type": "stream",
     "text": [
      "Enter a number: 10\n",
      "Fibonacci sequence\n",
      "0\n",
      "1\n",
      "1\n",
      "2\n",
      "3\n",
      "5\n",
      "8\n",
      "13\n",
      "21\n",
      "34\n"
     ]
    }
   ],
   "source": [
    "def recur_fibo(n):\n",
    "   if n <= 1:\n",
    "       return n\n",
    "   else:\n",
    "       return(recur_fibo(n-1) + recur_fibo(n-2))\n",
    "\n",
    "nterms = int(input('Enter a number: '))\n",
    "if nterms <= 0:\n",
    "   print(\"Plese enter a positive integer\")\n",
    "else:\n",
    "   print(\"Fibonacci sequence\")\n",
    "   for i in range(nterms):\n",
    "       print(recur_fibo(i))"
   ]
  },
  {
   "cell_type": "markdown",
   "id": "dc66a7c4",
   "metadata": {},
   "source": [
    "# sum natural number using recrusion"
   ]
  },
  {
   "cell_type": "code",
   "execution_count": 26,
   "id": "b1c5bbc5",
   "metadata": {},
   "outputs": [
    {
     "name": "stdout",
     "output_type": "stream",
     "text": [
      "How Many Number You Want  To Add:100\n",
      "The sum of natural number is 5050\n"
     ]
    }
   ],
   "source": [
    "def nat(num):\n",
    "    if(num<=1):\n",
    "         return  num\n",
    "    else:\n",
    "        return  num + nat(num-1)\n",
    "    print(result)\n",
    "    \n",
    "print('The sum of natural number is',nat(int(input('How Many Number You Want  To Add:'))))"
   ]
  },
  {
   "cell_type": "markdown",
   "id": "8ffd0bd1",
   "metadata": {},
   "source": []
  },
  {
   "cell_type": "code",
   "execution_count": null,
   "id": "ea6a6285",
   "metadata": {},
   "outputs": [],
   "source": []
  }
 ],
 "metadata": {
  "kernelspec": {
   "display_name": "Python 3",
   "language": "python",
   "name": "python3"
  },
  "language_info": {
   "codemirror_mode": {
    "name": "ipython",
    "version": 3
   },
   "file_extension": ".py",
   "mimetype": "text/x-python",
   "name": "python",
   "nbconvert_exporter": "python",
   "pygments_lexer": "ipython3",
   "version": "3.6.9"
  }
 },
 "nbformat": 4,
 "nbformat_minor": 5
}
