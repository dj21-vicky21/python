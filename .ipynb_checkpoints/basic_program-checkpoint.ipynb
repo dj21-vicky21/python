{
 "cells": [
  {
   "cell_type": "markdown",
   "id": "96f66d9d",
   "metadata": {},
   "source": [
    "# check even are odd"
   ]
  },
  {
   "cell_type": "code",
   "execution_count": 1,
   "id": "979aa3dc",
   "metadata": {},
   "outputs": [
    {
     "name": "stdout",
     "output_type": "stream",
     "text": [
      "Enter The Number: 2\n",
      "2 is Even\n"
     ]
    }
   ],
   "source": [
    "num=int(input('Enter The Number: '))\n",
    "if(int(num) >= 2):\n",
    "    if((num%2) == 0):\n",
    "        print(num,'is Even')\n",
    "    else:\n",
    "        print(num,'is Odd')\n",
    "else:\n",
    "    print('enter greater than 2')"
   ]
  },
  {
   "cell_type": "markdown",
   "id": "0e5f683f",
   "metadata": {},
   "source": [
    "# find squareroot of num"
   ]
  },
  {
   "cell_type": "code",
   "execution_count": 17,
   "id": "76759145",
   "metadata": {},
   "outputs": [
    {
     "name": "stdout",
     "output_type": "stream",
     "text": [
      "enter the number: 81\n",
      "square root of 81 is 9.0\n"
     ]
    }
   ],
   "source": [
    "num=int(input('enter the number: '))\n",
    "if(num>=1):\n",
    "    ans=num**0.5\n",
    "    print('square root of '+ str(num) +' is '+ str(ans))\n",
    "else:\n",
    "    print('enter greater than 1')\n",
    "    "
   ]
  },
  {
   "cell_type": "markdown",
   "id": "eda3728c",
   "metadata": {},
   "source": [
    "# find square "
   ]
  },
  {
   "cell_type": "code",
   "execution_count": 15,
   "id": "186f515f",
   "metadata": {},
   "outputs": [
    {
     "name": "stdout",
     "output_type": "stream",
     "text": [
      "Enter The Number9\n",
      "81\n"
     ]
    }
   ],
   "source": [
    "num=int(input('Enter The Number'))\n",
    "if(num>1):\n",
    "    ans=num*num\n",
    "    print(ans)\n",
    "else:\n",
    "    print('enter greater than 1')\n"
   ]
  },
  {
   "cell_type": "markdown",
   "id": "b79d02a2",
   "metadata": {},
   "source": [
    "# calculate area of triangle"
   ]
  },
  {
   "cell_type": "code",
   "execution_count": 21,
   "id": "6e358cd2",
   "metadata": {},
   "outputs": [
    {
     "name": "stdout",
     "output_type": "stream",
     "text": [
      "enter the base: 4\n",
      "enter the height: 2\n",
      "area of triangle is 4.0\n"
     ]
    }
   ],
   "source": [
    "base = int(input('enter the base: '))\n",
    "height = int(input('enter the height: '))\n",
    "area = height*base/2\n",
    "print('area of triangle is',area)"
   ]
  },
  {
   "cell_type": "markdown",
   "id": "a083f02a",
   "metadata": {},
   "source": [
    "# calculate area of triangle three sides"
   ]
  },
  {
   "cell_type": "code",
   "execution_count": 59,
   "id": "ca1b7de3",
   "metadata": {},
   "outputs": [
    {
     "name": "stdout",
     "output_type": "stream",
     "text": [
      "enter a: 5\n",
      "enter b: 6\n",
      "enter c: 7\n",
      "the semi-perimeter of triangle is 9.0\n",
      "14.70\n"
     ]
    }
   ],
   "source": [
    "a = float(input('enter a: '))\n",
    "b = float(input('enter b: '))\n",
    "c = float(input('enter c: '))\n",
    "s = (a+b+c)/2\n",
    "area = ((s*(s-a)*(s-b)*(s-c))**0.5)\n",
    "print('the semi-perimeter of triangle is',float(s))\n",
    "print('{:.2f}'.format(area))\n"
   ]
  },
  {
   "cell_type": "markdown",
   "id": "4c2c3771",
   "metadata": {},
   "source": [
    "# solve quadratic equation"
   ]
  },
  {
   "cell_type": "code",
   "execution_count": 69,
   "id": "03c164af",
   "metadata": {},
   "outputs": [
    {
     "name": "stdout",
     "output_type": "stream",
     "text": [
      "enter a: 1\n",
      "enter b: 5\n",
      "enter c: 6\n",
      "-2.0 -3.0\n"
     ]
    }
   ],
   "source": [
    "import cmath\n",
    "a =float(input('enter a: '))\n",
    "b =float(input('enter b: '))\n",
    "c =float(input('enter c: '))\n",
    "d=b**2\n",
    "e=4*a*c\n",
    "sol1 = (-b+(d-e)**0.5)/(2*a)\n",
    "sol2 = (-b-(d-e)**0.5)/(2*a)\n",
    "print(sol1,sol2)"
   ]
  },
  {
   "cell_type": "markdown",
   "id": "5a0785df",
   "metadata": {},
   "source": [
    "# Swap Two Variables"
   ]
  },
  {
   "cell_type": "code",
   "execution_count": 70,
   "id": "b1898688",
   "metadata": {},
   "outputs": [
    {
     "name": "stdout",
     "output_type": "stream",
     "text": [
      "enter the first number 2\n",
      "enter the second number3\n",
      "the first number after swap is 3\n",
      "the second number after swap is 2\n"
     ]
    }
   ],
   "source": [
    "a =int(input('enter the first number: '))\n",
    "b = int(input('enter the second number: '))\n",
    "t = b\n",
    "b = a\n",
    "a = t\n",
    "print('the first number after swap is {}'.format(a))\n",
    "print('the second number after swap is {}'.format(b))"
   ]
  },
  {
   "cell_type": "markdown",
   "id": "ad30167a",
   "metadata": {},
   "source": [
    "# Swap Two Variables without third variable"
   ]
  },
  {
   "cell_type": "code",
   "execution_count": 71,
   "id": "47f5fc88",
   "metadata": {},
   "outputs": [
    {
     "name": "stdout",
     "output_type": "stream",
     "text": [
      "enter the first number 3\n",
      "enter the second number4\n",
      "the first number after swap is 4\n",
      "the second number after swap is 3\n"
     ]
    }
   ],
   "source": [
    "a =int(input('enter the first number '))\n",
    "b = int(input('enter the second number '))\n",
    "a = a+b\n",
    "b = a-b\n",
    "a = a-b\n",
    "print('the first number after swap is {}'.format(a))\n",
    "print('the second number after swap is {}'.format(b))"
   ]
  },
  {
   "cell_type": "markdown",
   "id": "2c7106c5",
   "metadata": {},
   "source": [
    "# generate random number"
   ]
  },
  {
   "cell_type": "code",
   "execution_count": 73,
   "id": "711e3cac",
   "metadata": {},
   "outputs": [
    {
     "name": "stdout",
     "output_type": "stream",
     "text": [
      "enter the starting number 1\n",
      "enter the ending number 9\n",
      "3\n"
     ]
    }
   ],
   "source": [
    "import random\n",
    "a =int(input('enter the starting number '))\n",
    "b = int(input('enter the ending number '))\n",
    "print(random.randint(a,b))"
   ]
  },
  {
   "cell_type": "markdown",
   "id": "ab1db3f2",
   "metadata": {},
   "source": [
    "# Convert Kilometers to Miles"
   ]
  },
  {
   "cell_type": "code",
   "execution_count": 86,
   "id": "51e8a056",
   "metadata": {},
   "outputs": [
    {
     "name": "stdout",
     "output_type": "stream",
     "text": [
      "enter the kilometer: 4\n",
      "4.0 Km = 2.49 miles\n"
     ]
    }
   ],
   "source": [
    "km = float(input('enter the kilometer: '))\n",
    "meter = km*0.621371\n",
    "print('{} Km = {:.2f} miles'.format(km,meter))\n"
   ]
  },
  {
   "cell_type": "markdown",
   "id": "ec731232",
   "metadata": {},
   "source": [
    "# Convert  Miles to Kilometers"
   ]
  },
  {
   "cell_type": "code",
   "execution_count": 88,
   "id": "1f9baa7b",
   "metadata": {},
   "outputs": [
    {
     "name": "stdout",
     "output_type": "stream",
     "text": [
      "enter the miles: 2.49\n",
      "2.49 mile = 4.01 km\n"
     ]
    }
   ],
   "source": [
    "mile = float(input('enter the miles: '))\n",
    "km = mile/0.621371\n",
    "print('{} mile = {:.2f} km'.format(mile,km))\n"
   ]
  },
  {
   "cell_type": "markdown",
   "id": "1ccd2137",
   "metadata": {},
   "source": [
    "# Convert Celsius To Fahrenheit"
   ]
  },
  {
   "cell_type": "code",
   "execution_count": 81,
   "id": "f8a039c0",
   "metadata": {},
   "outputs": [
    {
     "name": "stdout",
     "output_type": "stream",
     "text": [
      "enter celsius37.5\n",
      "37.5c = 99.50f\n"
     ]
    }
   ],
   "source": [
    "celsius = float(input('enter celsius'))\n",
    "fah = (celsius*1.8)+32\n",
    "print('{}c = {:.2f}f'.format(celsius,fah))"
   ]
  },
  {
   "cell_type": "markdown",
   "id": "8b691f24",
   "metadata": {},
   "source": [
    "# Convert Fahrenheit to Celsius  "
   ]
  },
  {
   "cell_type": "code",
   "execution_count": 89,
   "id": "cf76992c",
   "metadata": {},
   "outputs": [
    {
     "name": "stdout",
     "output_type": "stream",
     "text": [
      "enter Fahrenheit: 99.50\n",
      "99.5f = 37.50c\n"
     ]
    }
   ],
   "source": [
    "fahrenheit = float(input('enter Fahrenheit: '))\n",
    "celsius =(fahrenheit-32)/1.8\n",
    "print('{}f = {:.2f}c'.format(fahrenheit,celsius))    \n",
    "    "
   ]
  },
  {
   "cell_type": "markdown",
   "id": "0ab56ae9",
   "metadata": {},
   "source": [
    "# check the number  positive are negative are zero"
   ]
  },
  {
   "cell_type": "code",
   "execution_count": 96,
   "id": "8edf2430",
   "metadata": {},
   "outputs": [
    {
     "name": "stdout",
     "output_type": "stream",
     "text": [
      "Enter a Number: -2\n",
      "The Give Number -2 is negative\n"
     ]
    }
   ],
   "source": [
    "num=int(input('Enter a Number: '))\n",
    "if(num ==0 ):\n",
    "    print('The Give Number {} is zero'.format(num))\n",
    "else:\n",
    "    if(num>0):\n",
    "        print('The Give Number {} is positive'.format(num))\n",
    "    else:\n",
    "        print('The Give Number {} is negative'.format(num))\n",
    "        \n"
   ]
  },
  {
   "cell_type": "markdown",
   "id": "c6aaeddc",
   "metadata": {},
   "source": [
    "# find leap year are not"
   ]
  },
  {
   "cell_type": "code",
   "execution_count": 112,
   "id": "13c633a9",
   "metadata": {},
   "outputs": [
    {
     "name": "stdout",
     "output_type": "stream",
     "text": [
      "Enter the Year: 2020\n",
      "2020 Is a leap year\n"
     ]
    }
   ],
   "source": [
    "num = int(input('Enter the Year: '))\n",
    "if(num%4 == 0):\n",
    "    print( num, 'Is a leap year')\n",
    "else:\n",
    "    print(num,'Not a leap year')"
   ]
  },
  {
   "cell_type": "markdown",
   "id": "b740c842",
   "metadata": {},
   "source": [
    "# find the largest number"
   ]
  },
  {
   "cell_type": "markdown",
   "id": "e9920df1",
   "metadata": {},
   "source": [
    "method 1"
   ]
  },
  {
   "cell_type": "code",
   "execution_count": 114,
   "id": "2882857a",
   "metadata": {},
   "outputs": [
    {
     "name": "stdout",
     "output_type": "stream",
     "text": [
      "Enter the First Number: 9\n",
      "Enter the second Number: 1\n",
      "Enter the third Number: 2\n",
      "9 is largest number\n"
     ]
    }
   ],
   "source": [
    "a =int(input('Enter the First Number: '))\n",
    "b =int(input('Enter the second Number: '))\n",
    "c =int(input('Enter the third Number: '))\n",
    "if(a>b):\n",
    "    large = a\n",
    "    if(large>c):\n",
    "        print(large,'is largest number')\n",
    "    else:\n",
    "        print(c,'is largest number')\n",
    "else:\n",
    "    large = b\n",
    "    if(large>c):\n",
    "        print(large,'is largest number')\n",
    "    else:\n",
    "        print(c,'is largest number')"
   ]
  },
  {
   "cell_type": "markdown",
   "id": "5db74b1b",
   "metadata": {},
   "source": [
    "method 2"
   ]
  },
  {
   "cell_type": "code",
   "execution_count": 117,
   "id": "65e0a9ef",
   "metadata": {},
   "outputs": [
    {
     "name": "stdout",
     "output_type": "stream",
     "text": [
      "Enter the First Number: 9\n",
      "Enter the second Number: 2\n",
      "Enter the third Number: 3\n",
      "9 is largest number\n"
     ]
    }
   ],
   "source": [
    "a =int(input('Enter the First Number: '))\n",
    "b =int(input('Enter the second Number: '))\n",
    "c =int(input('Enter the third Number: '))\n",
    "if((a>b)&(a>c)):\n",
    "    print(a,'is largest number')\n",
    "elif(b>a)&(b>c):\n",
    "    print(b,'is largest number')\n",
    "else:\n",
    "    print(c,'is largest number')"
   ]
  },
  {
   "cell_type": "markdown",
   "id": "cf2cabd2",
   "metadata": {},
   "source": [
    "# prime are not"
   ]
  },
  {
   "cell_type": "code",
   "execution_count": 161,
   "id": "2048b8a1",
   "metadata": {},
   "outputs": [
    {
     "name": "stdout",
     "output_type": "stream",
     "text": [
      "Enter the Number: 3\n",
      "3 is a prime\n"
     ]
    }
   ],
   "source": [
    "a =int(input('Enter the Number: '))\n",
    "if(a>1):\n",
    "    for i in range(2,a):\n",
    "        if((a%i) == 0):\n",
    "            print(a,'is not a prime')\n",
    "            break\n",
    "    else:\n",
    "        print(a,'is a prime')\n",
    "else:\n",
    "    print(a,'is a  not a prime ')"
   ]
  },
  {
   "cell_type": "markdown",
   "id": "87baf085",
   "metadata": {},
   "source": [
    "#  find the set  of range  prime numbers"
   ]
  },
  {
   "cell_type": "code",
   "execution_count": 52,
   "id": "e19e0954",
   "metadata": {},
   "outputs": [
    {
     "name": "stdout",
     "output_type": "stream",
     "text": [
      "Enter the starting Number: 11\n",
      "Enter the ending Number: 20\n",
      "11\n",
      "13\n",
      "17\n",
      "19\n"
     ]
    }
   ],
   "source": [
    "a =int(input('Enter the starting Number: '))\n",
    "b =int(input('Enter the ending Number: '))\n",
    "for i in range(a,b):\n",
    "    if(i>1):\n",
    "        for num in range(2,i):\n",
    "            if(i%num)==0:\n",
    "                break\n",
    "        else:\n",
    "            print(i)"
   ]
  },
  {
   "cell_type": "markdown",
   "id": "963aa695",
   "metadata": {},
   "source": [
    "# find factorial number"
   ]
  },
  {
   "cell_type": "markdown",
   "id": "4d1428c0",
   "metadata": {},
   "source": [
    "method 1"
   ]
  },
  {
   "cell_type": "code",
   "execution_count": 59,
   "id": "64526ffd",
   "metadata": {},
   "outputs": [
    {
     "name": "stdout",
     "output_type": "stream",
     "text": [
      "Enter the number6\n",
      "720\n"
     ]
    }
   ],
   "source": [
    "a = int(input('Enter the number'))\n",
    "product = 1\n",
    "for i in range(1,a+1):\n",
    "    product *= i \n",
    "print(product)"
   ]
  },
  {
   "cell_type": "markdown",
   "id": "2f6f8dcc",
   "metadata": {},
   "source": [
    "method 2"
   ]
  },
  {
   "cell_type": "code",
   "execution_count": 62,
   "id": "3cc7dc73",
   "metadata": {},
   "outputs": [
    {
     "name": "stdout",
     "output_type": "stream",
     "text": [
      "Enter the number6\n",
      "720\n"
     ]
    }
   ],
   "source": [
    "import math\n",
    "a = int(input('Enter the number'))\n",
    "print(math.factorial(a))"
   ]
  },
  {
   "cell_type": "markdown",
   "id": "804477bf",
   "metadata": {},
   "source": [
    "# display tables"
   ]
  },
  {
   "cell_type": "code",
   "execution_count": 66,
   "id": "8988fe89",
   "metadata": {},
   "outputs": [
    {
     "name": "stdout",
     "output_type": "stream",
     "text": [
      "Enter the number:13\n",
      "13x1=13\n",
      "13x2=26\n",
      "13x3=39\n",
      "13x4=52\n",
      "13x5=65\n",
      "13x6=78\n",
      "13x7=91\n",
      "13x8=104\n",
      "13x9=117\n",
      "13x10=130\n"
     ]
    }
   ],
   "source": [
    "a = int(input('Enter the number:'))\n",
    "for i in range(1,10+1):\n",
    "    print(\"{}x{}={}\".format(a,i,(a*i)))"
   ]
  },
  {
   "cell_type": "markdown",
   "id": "8987d208",
   "metadata": {},
   "source": [
    "# fibonacci series"
   ]
  },
  {
   "cell_type": "code",
   "execution_count": 14,
   "id": "229686af",
   "metadata": {},
   "outputs": [
    {
     "name": "stdout",
     "output_type": "stream",
     "text": [
      "Enter the number:5\n",
      "0\n",
      "1\n",
      "1\n",
      "2\n",
      "3\n"
     ]
    }
   ],
   "source": [
    "num = int(input('Enter the number:'))\n",
    "a=0\n",
    "b=1\n",
    "count =0\n",
    "print(a)\n",
    "print(b)\n",
    "while(count<num-2):\n",
    "    c = a+b\n",
    "    print(c)\n",
    "    a = b    \n",
    "    b = c\n",
    "    count+=1"
   ]
  },
  {
   "cell_type": "markdown",
   "id": "3266c89b",
   "metadata": {},
   "source": [
    "# find Armstrong Number"
   ]
  },
  {
   "cell_type": "markdown",
   "id": "91af85ca",
   "metadata": {},
   "source": [
    "method 1"
   ]
  },
  {
   "cell_type": "code",
   "execution_count": 13,
   "id": "a2c85fdf",
   "metadata": {},
   "outputs": [
    {
     "name": "stdout",
     "output_type": "stream",
     "text": [
      "enter the number: 153\n",
      "It Is A Armstrong Number\n"
     ]
    }
   ],
   "source": [
    "num = int(input(\"enter the number: \"))\n",
    "\n",
    "hun = num//100\n",
    "ten = (num//10)-(hun*10)\n",
    "one = num - (hun*100)-(ten*10)\n",
    "\n",
    "hun = hun**3\n",
    "ten = ten**3\n",
    "one = one**3\n",
    "\n",
    "if(hun+ten+one == num):\n",
    "    print('It Is A Armstrong Number')\n",
    "else:\n",
    "    print('Not A Armstrong Number')"
   ]
  },
  {
   "cell_type": "markdown",
   "id": "cfb347e0",
   "metadata": {},
   "source": [
    "methos 2"
   ]
  },
  {
   "cell_type": "code",
   "execution_count": 26,
   "id": "ee9d2639",
   "metadata": {},
   "outputs": [
    {
     "name": "stdout",
     "output_type": "stream",
     "text": [
      "enter starting number: 10000\n",
      "enter ending number: 100000\n",
      "54748\n",
      "92727\n",
      "93084\n"
     ]
    }
   ],
   "source": [
    "lower = int(input('enter starting number: '))\n",
    "upper = int(input('enter ending number: '))\n",
    "\n",
    "for num in range(lower, upper + 1):   \n",
    "    order = len(str(num))\n",
    "    sum = 0\n",
    "\n",
    "    temp = num\n",
    "    while temp > 0:\n",
    "        digit = temp % 10\n",
    "        sum += digit ** order\n",
    "        temp //= 10\n",
    "\n",
    "    if num == sum:\n",
    "        print(num)"
   ]
  },
  {
   "cell_type": "code",
   "execution_count": 10,
   "id": "fedc6b1d",
   "metadata": {},
   "outputs": [
    {
     "name": "stdout",
     "output_type": "stream",
     "text": [
      "enter the number: 100\n",
      "enter the number: 900\n",
      "153\n",
      "370\n",
      "371\n",
      "407\n"
     ]
    }
   ],
   "source": [
    "a = int(input(\"enter the number: \"))\n",
    "b = int(input(\"enter the number: \"))\n",
    "for num in range(a,b+1):\n",
    "    hun = num//100\n",
    "    ten = (num//10)-(hun*10)\n",
    "    one = num - (hun*100)-(ten*10)\n",
    "    huns = hun**3\n",
    "    tens = ten**3\n",
    "    ones = one**3\n",
    "    if(huns+tens+ones == num):\n",
    "        print(num)"
   ]
  },
  {
   "cell_type": "markdown",
   "id": "4233dbe9",
   "metadata": {},
   "source": [
    "# sum of natural numbers"
   ]
  },
  {
   "cell_type": "code",
   "execution_count": 19,
   "id": "d7b59424",
   "metadata": {},
   "outputs": [
    {
     "name": "stdout",
     "output_type": "stream",
     "text": [
      "enter the number: 5\n",
      "15\n"
     ]
    }
   ],
   "source": [
    "num = int(input(\"enter the number: \"))\n",
    "sum = 0\n",
    "if(num>0):\n",
    "    for i in range(1,num+1):\n",
    "        sum+=i\n",
    "    print(sum)\n",
    "else:\n",
    "    print('enter greater than 0')"
   ]
  },
  {
   "cell_type": "markdown",
   "id": "a7bb12d5",
   "metadata": {},
   "source": [
    "#  Display Powers of  number"
   ]
  },
  {
   "cell_type": "code",
   "execution_count": 43,
   "id": "a9106ac3",
   "metadata": {},
   "outputs": [
    {
     "name": "stdout",
     "output_type": "stream",
     "text": [
      "enter the number: 2\n",
      "enter the range: 10\n",
      "2 to the power of 0 is 1 \n",
      "2 to the power of 1 is 2 \n",
      "2 to the power of 2 is 4 \n",
      "2 to the power of 3 is 8 \n",
      "2 to the power of 4 is 16 \n",
      "2 to the power of 5 is 32 \n",
      "2 to the power of 6 is 64 \n",
      "2 to the power of 7 is 128 \n",
      "2 to the power of 8 is 256 \n",
      "2 to the power of 9 is 512 \n"
     ]
    }
   ],
   "source": [
    "num1 = int(input(\"enter the number: \"))\n",
    "num2 = int(input(\"enter the range: \"))\n",
    "for i in range(0,num2):\n",
    "    print('{} to the power of {} is {} '.format(num1,i,(num1**i)))"
   ]
  },
  {
   "cell_type": "markdown",
   "id": "a31c549e",
   "metadata": {},
   "source": [
    "#  display division number"
   ]
  },
  {
   "cell_type": "code",
   "execution_count": 63,
   "id": "788dc6d5",
   "metadata": {},
   "outputs": [
    {
     "name": "stdout",
     "output_type": "stream",
     "text": [
      "enter the divison number: 2\n",
      "enter the starting range: 1\n",
      "enter the ending range: 10\n",
      "2\n",
      "4\n",
      "6\n",
      "8\n",
      "10\n"
     ]
    }
   ],
   "source": [
    "div =int(input(\"enter the divison number: \"))\n",
    "start = int(input(\"enter the starting range: \"))\n",
    "end = int(input(\"enter the ending range: \"))\n",
    "lists =[]\n",
    "for i in range(start,end+1):\n",
    "    if((i%div)== 0):\n",
    "#         lists.append(i)\n",
    "          print(i)  \n",
    "# print(lists)"
   ]
  },
  {
   "cell_type": "markdown",
   "id": "473f0c44",
   "metadata": {},
   "source": [
    "# find div number in list"
   ]
  },
  {
   "cell_type": "code",
   "execution_count": 66,
   "id": "75d6eae7",
   "metadata": {},
   "outputs": [
    {
     "name": "stdout",
     "output_type": "stream",
     "text": [
      "enter the divion number13\n",
      "[13, 26, 39, 130]\n"
     ]
    }
   ],
   "source": [
    "num = [13,56,987,26,39,130]   \n",
    "\"\"\"also add some other numbers in a list \"\"\" \n",
    "div = int(input('enter the divion number'))\n",
    "res = list(filter(lambda x: x%div == 0,num))\n",
    "print(res)"
   ]
  },
  {
   "cell_type": "markdown",
   "id": "841577bf",
   "metadata": {},
   "source": [
    "# convert dicimal number into binary and octal and hexa numbers"
   ]
  },
  {
   "cell_type": "code",
   "execution_count": 105,
   "id": "89a5ade5",
   "metadata": {},
   "outputs": [
    {
     "name": "stdout",
     "output_type": "stream",
     "text": [
      "enter the number2\n",
      "Binary  number of 2 0b10, the `0b` refers binary\n",
      "Hexadecimal number of 2 0x2, the `0x` refers hexadecimal  number\n",
      "Octal number of 2 0o2, the `0o` refers octal number\n"
     ]
    }
   ],
   "source": [
    "num= int(input('enter the number'))\n",
    "bina = bin(num)\n",
    "hexa = hex(num)\n",
    "octa = oct(num)\n",
    "print('Binary  number of '+str(num)+ ' ' +bina +\", the `0b` refers binary\")\n",
    "print('Hexadecimal number of '+str(num)+ ' ' +hexa +\", the `0x` refers hexadecimal  number\")\n",
    "print('Octal number of '+str(num)+ ' ' +octa+\", the `0o` refers octal number\")"
   ]
  },
  {
   "cell_type": "markdown",
   "id": "1574f1c0",
   "metadata": {},
   "source": [
    "# convert binary to decimal"
   ]
  },
  {
   "cell_type": "code",
   "execution_count": 254,
   "id": "0499c57e",
   "metadata": {},
   "outputs": [
    {
     "name": "stdout",
     "output_type": "stream",
     "text": [
      "7\n"
     ]
    }
   ],
   "source": [
    "def bintodec(value):\n",
    "    rev = value[::-1]\n",
    "    count=0\n",
    "    tot=0\n",
    "    for i in rev:\n",
    "        tot+=int(i)*2**count\n",
    "        count+=1\n",
    "    print(tot)\n",
    "\n",
    "\n",
    "bintodec('111')"
   ]
  },
  {
   "cell_type": "markdown",
   "id": "4bb97905",
   "metadata": {},
   "source": [
    "# convert ASCII VALUE OF CHARACTERS "
   ]
  },
  {
   "cell_type": "code",
   "execution_count": 1,
   "id": "f1d10852",
   "metadata": {},
   "outputs": [
    {
     "name": "stdout",
     "output_type": "stream",
     "text": [
      "enter the character: A\n",
      "the ASCII value of character 65\n"
     ]
    }
   ],
   "source": [
    "char = str(input('enter the character: '))\n",
    "if(len(char)==1):\n",
    "    print('the ASCII value of character',ord(char))\n",
    "else:\n",
    "    print('enter single character ')"
   ]
  },
  {
   "cell_type": "markdown",
   "id": "13ab0cf6",
   "metadata": {},
   "source": [
    "# Find GCD"
   ]
  },
  {
   "cell_type": "code",
   "execution_count": 41,
   "id": "9f345e7e",
   "metadata": {},
   "outputs": [
    {
     "name": "stdout",
     "output_type": "stream",
     "text": [
      "Enter the first number:24\n",
      "Enter the second number:18\n",
      "GCD is 6\n"
     ]
    }
   ],
   "source": [
    "def gcd(num1,num2):\n",
    "    num3 = max(num1,num2)\n",
    "    GCD = []\n",
    "    for i in range(1,num3):\n",
    "        if(num1%i == 0) & (num2%i == 0):\n",
    "            GCD.append(i)\n",
    "    print('GCD is',max(GCD))\n",
    "\n",
    "gcd(int(input('Enter the first number:')),int(input('Enter the second number:')));"
   ]
  },
  {
   "cell_type": "markdown",
   "id": "383e3290",
   "metadata": {},
   "source": [
    "# Find LCM"
   ]
  },
  {
   "cell_type": "code",
   "execution_count": 73,
   "id": "0db1d5ba",
   "metadata": {},
   "outputs": [
    {
     "name": "stdout",
     "output_type": "stream",
     "text": [
      "72\n"
     ]
    }
   ],
   "source": [
    "def lcm(num1,num2):\n",
    "    num3 = []\n",
    "    num4 = []\n",
    "    lcm = []\n",
    "    for i in range(1,9):\n",
    "        num3.append(num1*i)\n",
    "        num4.append(num2*i)\n",
    "    for value1 in num3:\n",
    "        for value2 in num4:\n",
    "            if(value1 == value2):\n",
    "                lcm.append(value1)\n",
    "    print(min(lcm))\n",
    "lcm(24,36);"
   ]
  },
  {
   "cell_type": "markdown",
   "id": "b901f7af",
   "metadata": {},
   "source": [
    "# factor of a number"
   ]
  },
  {
   "cell_type": "code",
   "execution_count": 75,
   "id": "c779ce44",
   "metadata": {},
   "outputs": [
    {
     "name": "stdout",
     "output_type": "stream",
     "text": [
      "1\n",
      "2\n",
      "4\n",
      "5\n",
      "8\n",
      "10\n",
      "16\n",
      "20\n",
      "32\n",
      "40\n",
      "64\n",
      "80\n",
      "160\n",
      "320\n"
     ]
    }
   ],
   "source": [
    "def fac(num):\n",
    "    for i in  range(1,num+1):\n",
    "        if(num%i == 0):\n",
    "            print(i)\n",
    "fac(320);"
   ]
  },
  {
   "cell_type": "markdown",
   "id": "dd3e69c6",
   "metadata": {},
   "source": [
    "# simple calculation"
   ]
  },
  {
   "cell_type": "code",
   "execution_count": 4,
   "id": "621b91fb",
   "metadata": {},
   "outputs": [
    {
     "name": "stdout",
     "output_type": "stream",
     "text": [
      "enter the first number: 4\n",
      "enter the second number: 2\n",
      "1.addition: 6\n",
      "2.subtraction: 2\n",
      "3.multiplication: 8\n",
      "4.divition: 2.0\n"
     ]
    }
   ],
   "source": [
    "num1 =int(input('enter the first number: '))\n",
    "num2 =int(input('enter the second number: '))\n",
    "# addition\n",
    "print(\"1.addition:\",num1+num2)\n",
    "# subtraction\n",
    "if(num1>num2): print(\"2.subtraction:\",num1-num2) \n",
    "else: print(\"2.subtraction:\",num2-num1)\n",
    "# multiplication\n",
    "print(\"3.multiplication:\",num1*num2)\n",
    "# divition\n",
    "if(num1>num2): print(\"4.divition:\",num1/num2) \n",
    "else: print(\"4.divition:\",num2/num1)"
   ]
  },
  {
   "cell_type": "markdown",
   "id": "f764ee2a",
   "metadata": {},
   "source": [
    "# display random  number of cards"
   ]
  },
  {
   "cell_type": "code",
   "execution_count": 25,
   "id": "8a39fdcf",
   "metadata": {},
   "outputs": [
    {
     "name": "stdout",
     "output_type": "stream",
     "text": [
      "4 of Club\n",
      "2 of Heart\n",
      "3 of Spade\n",
      "4 of Spade\n"
     ]
    }
   ],
   "source": [
    "import random\n",
    "lists = ['Spade','Heart','Diamond','Club']\n",
    "for i in range(len(lists)):\n",
    "    ran = random.choice(lists)\n",
    "    rans = random.randint(1,len(lists))\n",
    "    print(rans ,'of',ran)\n"
   ]
  },
  {
   "cell_type": "markdown",
   "id": "10206321",
   "metadata": {},
   "source": [
    "# display a calendar"
   ]
  },
  {
   "cell_type": "code",
   "execution_count": 36,
   "id": "ed569862",
   "metadata": {},
   "outputs": [
    {
     "name": "stdout",
     "output_type": "stream",
     "text": [
      "enter the year:2022\n",
      "enter the month:1\n",
      "    January 2022\n",
      "Mo Tu We Th Fr Sa Su\n",
      "                1  2\n",
      " 3  4  5  6  7  8  9\n",
      "10 11 12 13 14 15 16\n",
      "17 18 19 20 21 22 23\n",
      "24 25 26 27 28 29 30\n",
      "31\n",
      "\n"
     ]
    }
   ],
   "source": [
    "import calendar\n",
    "year = int(input('enter the year:'))\n",
    "month = int(input('enter the month:'))\n",
    "print(calendar.month(year,month))\n"
   ]
  },
  {
   "cell_type": "markdown",
   "id": "7f0943e4",
   "metadata": {},
   "source": [
    "# Get fib series using Recursion"
   ]
  },
  {
   "cell_type": "code",
   "execution_count": 30,
   "id": "4e6ebc0a",
   "metadata": {},
   "outputs": [
    {
     "name": "stdout",
     "output_type": "stream",
     "text": [
      "Enter a number: 10\n",
      "Fibonacci sequence\n",
      "0\n",
      "1\n",
      "1\n",
      "2\n",
      "3\n",
      "5\n",
      "8\n",
      "13\n",
      "21\n",
      "34\n"
     ]
    }
   ],
   "source": [
    "def recur_fibo(n):\n",
    "    if n <= 1:\n",
    "        return n\n",
    "    else:\n",
    "        return(recur_fibo(n-1) + recur_fibo(n-2))\n",
    "\n",
    "nterms = int(input('Enter a number: '))\n",
    "if nterms <= 0:\n",
    "    print(\"Plese enter a positive integer\")\n",
    "else:\n",
    "    print(\"Fibonacci sequence\")\n",
    "    for i in range(nterms):\n",
    "        print(recur_fibo(i))"
   ]
  },
  {
   "cell_type": "markdown",
   "id": "acd3c779",
   "metadata": {},
   "source": [
    "# sum natural number using Recursion"
   ]
  },
  {
   "cell_type": "code",
   "execution_count": 28,
   "id": "a9ee0bfc",
   "metadata": {},
   "outputs": [
    {
     "name": "stdout",
     "output_type": "stream",
     "text": [
      "How Many Number You Want  To Add:100\n",
      "The sum of natural number is 5050\n"
     ]
    }
   ],
   "source": [
    "def nat(num):\n",
    "    if(num ==1):\n",
    "         return  num\n",
    "    else:\n",
    "        return  num + nat(num-1)\n",
    "    print(result)\n",
    "    \n",
    "print('The sum of natural number is',nat(int(input('How Many Number You Want  To Add:'))))"
   ]
  },
  {
   "cell_type": "markdown",
   "id": "56ef4dc9",
   "metadata": {},
   "source": [
    "# Find Factorial of Number Using Recursion"
   ]
  },
  {
   "cell_type": "code",
   "execution_count": 31,
   "id": "5ff69d62",
   "metadata": {},
   "outputs": [
    {
     "name": "stdout",
     "output_type": "stream",
     "text": [
      "Enter the factorial number:4\n"
     ]
    },
    {
     "data": {
      "text/plain": [
       "24"
      ]
     },
     "execution_count": 31,
     "metadata": {},
     "output_type": "execute_result"
    }
   ],
   "source": [
    "def fact(num):\n",
    "    if(num==1):\n",
    "        return num\n",
    "    else:\n",
    "        return num*fact(num-1)\n",
    "fact(int(input('Enter the factorial number:')))"
   ]
  },
  {
   "cell_type": "markdown",
   "id": "cfc77e33",
   "metadata": {},
   "source": [
    " # find binary number using Recursion"
   ]
  },
  {
   "cell_type": "code",
   "execution_count": 94,
   "id": "80656d39",
   "metadata": {},
   "outputs": [
    {
     "name": "stdout",
     "output_type": "stream",
     "text": [
      "enter the number:4\n",
      "100"
     ]
    }
   ],
   "source": [
    "def bina(num):\n",
    "    if(num>1):\n",
    "        bina(num//2)\n",
    "    print(num%2,end='')\n",
    "bina(int(input('enter the number:')))"
   ]
  },
  {
   "cell_type": "markdown",
   "id": "e51718ba",
   "metadata": {},
   "source": [
    "# Addition of Matrix"
   ]
  },
  {
   "cell_type": "code",
   "execution_count": 161,
   "id": "937a815d",
   "metadata": {},
   "outputs": [
    {
     "name": "stdout",
     "output_type": "stream",
     "text": [
      "[1, 2, 3]\n",
      "[1, 2, 3]\n",
      "[1, 2, 3]\n"
     ]
    }
   ],
   "source": [
    "a =[\n",
    "    [1,2,3],\n",
    "    [1,2,3],\n",
    "    [1,2,3]\n",
    "]\n",
    "b=[\n",
    "    [0,0,0],\n",
    "    [0,0,0],\n",
    "    [0,0,0]\n",
    "]\n",
    "c=[\n",
    "    [0,0,0],\n",
    "    [0,0,0],\n",
    "    [0,0,0]\n",
    "]\n",
    "\n",
    "for i in range(len(a)):\n",
    "    for j in range(len(b)):\n",
    "        c[i][j]=(a[i][j]+b[i][j])\n",
    "for i in c:\n",
    "    print(i)\n",
    "\n",
    "    "
   ]
  },
  {
   "cell_type": "markdown",
   "id": "b0a1c5f5",
   "metadata": {},
   "source": [
    "# Transpose of  Matrix"
   ]
  },
  {
   "cell_type": "markdown",
   "id": "87154847",
   "metadata": {},
   "source": [
    "method 1"
   ]
  },
  {
   "cell_type": "code",
   "execution_count": 18,
   "id": "938aabaa",
   "metadata": {},
   "outputs": [
    {
     "name": "stdout",
     "output_type": "stream",
     "text": [
      "[1, 1, 1]\n",
      "[2, 2, 2]\n",
      "[3, 3, 3]\n"
     ]
    }
   ],
   "source": [
    "a =[\n",
    "    [1,2,3],\n",
    "    [1,2,3],\n",
    "    [1,2,3]\n",
    "]\n",
    "b=[\n",
    "    [0,0,0],\n",
    "    [0,0,0],\n",
    "    [0,0,0]\n",
    "]\n",
    "for i in range(len(a)):\n",
    "    for j in range(len(b)):\n",
    "        c[i][j]=(a[j][i]+b[j][i])\n",
    "for i  in c:\n",
    "    print(i)"
   ]
  },
  {
   "cell_type": "markdown",
   "id": "cbf12f95",
   "metadata": {},
   "source": [
    "method 2"
   ]
  },
  {
   "cell_type": "code",
   "execution_count": 23,
   "id": "96f89725",
   "metadata": {},
   "outputs": [
    {
     "name": "stdout",
     "output_type": "stream",
     "text": [
      "[1, 1, 1]\n",
      "[2, 2, 2]\n",
      "[3, 3, 3]\n"
     ]
    }
   ],
   "source": [
    "a = [\n",
    "    [1,2,3],\n",
    "    [1,2,3],\n",
    "    [1,2,3]\n",
    "]\n",
    "for i in range(len(a)):\n",
    "    for j in range(len(a)):\n",
    "        b[i][j] = a[j][i]\n",
    "for i in b:\n",
    "    print(i)    "
   ]
  },
  {
   "cell_type": "markdown",
   "id": "27cc63fd",
   "metadata": {},
   "source": [
    "# Palindrome or Not"
   ]
  },
  {
   "cell_type": "code",
   "execution_count": 125,
   "id": "72a43742",
   "metadata": {},
   "outputs": [
    {
     "name": "stdout",
     "output_type": "stream",
     "text": [
      "Enter The String: eee\n",
      "eee is  a Palindrome\n"
     ]
    }
   ],
   "source": [
    "str1 = str(input('Enter The String: '))\n",
    "str2 = str1.upper()\n",
    "str3 = str2[::-1]    \n",
    "if(str2 == str3):    \n",
    "    print('{} is  a Palindrome'.format(str1)) \n",
    "else:    \n",
    "    print('{}  is not a Palindrome'.format(str1))"
   ]
  },
  {
   "cell_type": "markdown",
   "id": "af137cc8",
   "metadata": {},
   "source": [
    "# remove the punctuations"
   ]
  },
  {
   "cell_type": "code",
   "execution_count": 158,
   "id": "02007d55",
   "metadata": {},
   "outputs": [
    {
     "name": "stdout",
     "output_type": "stream",
     "text": [
      "enter the string: we !@#$%^&*()-{][}\\:\";'<>./?get\n",
      "we get\n"
     ]
    }
   ],
   "source": [
    "str1 = input('enter the string: ')\n",
    "pun =''',./:;}][\\{?<>-'\"!@#$%^&*)('''\n",
    "k=''\n",
    "for i in str1:\n",
    "    if(i not in pun ):\n",
    "        k+=i\n",
    "print(k)"
   ]
  },
  {
   "cell_type": "markdown",
   "id": "73dd5890",
   "metadata": {},
   "source": [
    "# sort the given string"
   ]
  },
  {
   "cell_type": "code",
   "execution_count": 194,
   "id": "9e921120",
   "metadata": {},
   "outputs": [
    {
     "name": "stdout",
     "output_type": "stream",
     "text": [
      "enter the string: the game\n",
      "game the\n"
     ]
    }
   ],
   "source": [
    "str1 =input('enter the string: ')\n",
    "str2 = str1.lower().split()\n",
    "str2.sort()\n",
    "str3 = ' '.join(str2)\n",
    "print(str3)"
   ]
  },
  {
   "cell_type": "markdown",
   "id": "3e6c3ed0",
   "metadata": {},
   "source": [
    "# sets "
   ]
  },
  {
   "cell_type": "code",
   "execution_count": 211,
   "id": "8a88ff09",
   "metadata": {},
   "outputs": [
    {
     "name": "stdout",
     "output_type": "stream",
     "text": [
      "union: {0, 1, 2, 3, 4, 5, 6, 8}\n",
      "intersection: {2, 5}\n",
      "difference: {0, 4, 6}\n",
      "symmetric: {0, 1, 3, 4, 6, 8}\n"
     ]
    }
   ],
   "source": [
    "a = {2,4,5,0,6}\n",
    "b = {1,3,5,8,2}\n",
    "print('union:',a|b)\n",
    "print('intersection:',a&b)\n",
    "print('difference:',a-b)\n",
    "print('symmetric:',a^b)"
   ]
  },
  {
   "cell_type": "markdown",
   "id": "a67cccb7",
   "metadata": {},
   "source": [
    "# count the vowel letters"
   ]
  },
  {
   "cell_type": "code",
   "execution_count": 220,
   "id": "7866702d",
   "metadata": {},
   "outputs": [
    {
     "name": "stdout",
     "output_type": "stream",
     "text": [
      "enter the string: the any letters\n",
      "4\n"
     ]
    }
   ],
   "source": [
    "str1 =input('enter the string: ')\n",
    "str2 ='aeiou'\n",
    "str3 = str1.lower()\n",
    "count = 0\n",
    "for i in str3:\n",
    "    if(i in str2):\n",
    "        count+=1\n",
    "print(count)"
   ]
  },
  {
   "cell_type": "markdown",
   "id": "159ab8a3",
   "metadata": {},
   "source": [
    "# find the image size"
   ]
  },
  {
   "cell_type": "markdown",
   "id": "6469c589",
   "metadata": {},
   "source": [
    "method 1"
   ]
  },
  {
   "cell_type": "code",
   "execution_count": 90,
   "id": "279c2f8a",
   "metadata": {},
   "outputs": [
    {
     "name": "stdout",
     "output_type": "stream",
     "text": [
      "The resolution of the image is 1920 x 1441\n"
     ]
    }
   ],
   "source": [
    "def jpeg_res(filename):\n",
    "    with open(filename,'rb') as img_file:\n",
    "        img_file.seek(163)\n",
    "        a = img_file.read(2)\n",
    "        height = (a[0] << 8)  + a[1]\n",
    "        a = img_file.read(2)\n",
    "        width = (a[0] << 8) + a[1]\n",
    "\n",
    "    print(\"The resolution of the image is\",width,\"x\",height)\n",
    "\n",
    "jpeg_res(\"owl.jpg\")\n"
   ]
  },
  {
   "cell_type": "markdown",
   "id": "bd352d10",
   "metadata": {},
   "source": [
    "method 2"
   ]
  },
  {
   "cell_type": "code",
   "execution_count": 104,
   "id": "07ca88f8",
   "metadata": {},
   "outputs": [
    {
     "name": "stdout",
     "output_type": "stream",
     "text": [
      "The resolution of the image is 1920 x 1441 \n"
     ]
    }
   ],
   "source": [
    "from PIL import Image\n",
    "def img_src(image):\n",
    "    img = Image.open(image)\n",
    "    width,height = img.size\n",
    "    print(\"The resolution of the image is {} x {} \".format(width,height))\n",
    "    \n",
    "    \n",
    "img_src('owl.jpg');"
   ]
  },
  {
   "cell_type": "markdown",
   "id": "fc3ae754",
   "metadata": {},
   "source": [
    "# get hash value"
   ]
  },
  {
   "cell_type": "markdown",
   "id": "d846979b",
   "metadata": {},
   "source": [
    "method 1"
   ]
  },
  {
   "cell_type": "code",
   "execution_count": 123,
   "id": "693ad117",
   "metadata": {},
   "outputs": [
    {
     "name": "stdout",
     "output_type": "stream",
     "text": [
      "d27ad25593ac3515486db1765e05a3d55cb0b979\n"
     ]
    }
   ],
   "source": [
    "import hashlib\n",
    "\n",
    "def hash_file(filename):\n",
    "    h = hashlib.sha1()\n",
    "    with open(filename,'rb') as file:\n",
    "        chunk = 0\n",
    "        while chunk != b'':\n",
    "            chunk = file.read(1024)\n",
    "            h.update(chunk)\n",
    "    return h.hexdigest()\n",
    "message = hash_file(\"sample.mp3\")\n",
    "print(message)"
   ]
  },
  {
   "cell_type": "markdown",
   "id": "7346dd2b",
   "metadata": {},
   "source": [
    "method 2"
   ]
  },
  {
   "cell_type": "code",
   "execution_count": 256,
   "id": "24ca1cf6",
   "metadata": {},
   "outputs": [
    {
     "name": "stdout",
     "output_type": "stream",
     "text": [
      "c284e11c038bab5607850cf21b247f7f120f95d2\n"
     ]
    }
   ],
   "source": [
    "import hashlib\n",
    "def src(file):\n",
    "    with open(file,'rb') as file:\n",
    "        read = file.read()\n",
    "        readed = hashlib.sha1(read)\n",
    "        hashed = readed.hexdigest()\n",
    "    print(hashed)\n",
    "src('kingfisher.jpg');"
   ]
  },
  {
   "cell_type": "markdown",
   "id": "8aa40f54",
   "metadata": {},
   "source": [
    "# create a folder"
   ]
  },
  {
   "cell_type": "markdown",
   "id": "7211c892",
   "metadata": {},
   "source": [
    "#### get basic code in os module"
   ]
  },
  {
   "cell_type": "markdown",
   "id": "fa3e5fce",
   "metadata": {},
   "source": [
    "#  get current working dir"
   ]
  },
  {
   "cell_type": "code",
   "execution_count": 2,
   "id": "69671a61",
   "metadata": {},
   "outputs": [
    {
     "data": {
      "text/plain": [
       "'/home/dj21_vicky21_/Desktop/GIT/python'"
      ]
     },
     "execution_count": 2,
     "metadata": {},
     "output_type": "execute_result"
    }
   ],
   "source": [
    "import os\n",
    "os.getcwd()"
   ]
  },
  {
   "cell_type": "markdown",
   "id": "851b6b18",
   "metadata": {},
   "source": [
    "# find the path of a file"
   ]
  },
  {
   "cell_type": "code",
   "execution_count": 9,
   "id": "f180e37f",
   "metadata": {},
   "outputs": [
    {
     "name": "stdout",
     "output_type": "stream",
     "text": [
      "/home/dj21_vicky21_/Desktop/GIT/python/kingfisher.jpg\n"
     ]
    }
   ],
   "source": [
    "import os\n",
    "def get_path(file):\n",
    "    print(os.path.abspath(file))\n",
    "\n",
    "\n",
    "get_path('kingfisher.jpg');"
   ]
  },
  {
   "cell_type": "markdown",
   "id": "ef5dc7e0",
   "metadata": {},
   "source": [
    "# create a  dir"
   ]
  },
  {
   "cell_type": "code",
   "execution_count": 13,
   "id": "b9daed7b",
   "metadata": {},
   "outputs": [
    {
     "name": "stdout",
     "output_type": "stream",
     "text": [
      "/home/dj21_vicky21_/Desktop/GIT/python\n"
     ]
    }
   ],
   "source": [
    "# import os \n",
    "# os.mkdir('sample')\n",
    "# os.rmdir('sample')"
   ]
  },
  {
   "cell_type": "markdown",
   "id": "c05dffd9",
   "metadata": {},
   "source": [
    "# change dir "
   ]
  },
  {
   "cell_type": "code",
   "execution_count": 28,
   "id": "3d8c3ac4",
   "metadata": {},
   "outputs": [
    {
     "data": {
      "text/plain": [
       "'/home/dj21_vicky21_/Desktop/GIT/python'"
      ]
     },
     "execution_count": 28,
     "metadata": {},
     "output_type": "execute_result"
    }
   ],
   "source": [
    "os.chdir('/home/dj21_vicky21_/Desktop/GIT/python')  #(..) >> back to one dir\n",
    "os.getcwd()"
   ]
  },
  {
   "cell_type": "markdown",
   "id": "4e888704",
   "metadata": {},
   "source": [
    "# Get name and create  a mail"
   ]
  },
  {
   "cell_type": "code",
   "execution_count": 59,
   "id": "e6c9046f",
   "metadata": {},
   "outputs": [
    {
     "name": "stdout",
     "output_type": "stream",
     "text": [
      "mail create successfully,check on :Desktop/GIT/python/mail.txt\n"
     ]
    }
   ],
   "source": [
    "import random\n",
    "with open('name.txt','r') as name:\n",
    "    with open('name2.txt','r') as body:\n",
    "        name_readed = name.readlines()\n",
    "        body_readed = body.read()\n",
    "        for i in name_readed:\n",
    "            rando = random.randint(0,999)\n",
    "            mail = i.strip()+ str(rando) +body_readed \n",
    "            with open('mail.txt','a') as  mails:\n",
    "                mails.write(mail)\n",
    "print('mail create successfully,check on :Desktop/GIT/python/mail.txt')"
   ]
  },
  {
   "cell_type": "markdown",
   "id": "878a4efa",
   "metadata": {},
   "source": [
    "# create a pyramid"
   ]
  },
  {
   "cell_type": "code",
   "execution_count": 97,
   "id": "e017ac8c",
   "metadata": {},
   "outputs": [
    {
     "name": "stdout",
     "output_type": "stream",
     "text": [
      "Enter number of rows: 10\n",
      "                   *\n",
      "                 * * *\n",
      "               * * * * *\n",
      "             * * * * * * *\n",
      "           * * * * * * * * *\n",
      "         * * * * * * * * * * *\n",
      "       * * * * * * * * * * * * *\n",
      "     * * * * * * * * * * * * * * *\n",
      "   * * * * * * * * * * * * * * * * *\n",
      " * * * * * * * * * * * * * * * * * * *\n"
     ]
    }
   ],
   "source": [
    "# num = int(input('Enter the number of rows: '))\n",
    "# for i in range(num+1):\n",
    "#     for j in range(1,i+1):\n",
    "#         print(j,end='')\n",
    "#     print()\n",
    "# #################################\n",
    "# num = int(input('Enter the number of rows: '))\n",
    "# for i in range(num+1,0,-1):\n",
    "#     for j in range(1,i):\n",
    "#         print(j,end='')\n",
    "#     print()\n",
    "# ####################################\n",
    "# num = int(input('Enter the number of rows: '))\n",
    "# for i  in range(num+1):\n",
    "#     print('*'*(num-i))\n",
    "# ##################################\n",
    "# num = int(input(\"Enter number of rows: \"))\n",
    "# k = 0\n",
    "# for i in range(1,num+1):    #for i in range(rows,0,-1):,for reverse the order\n",
    "#     for space in range(1, (num-i)+1):\n",
    "#         print(end=\"  \")\n",
    "   \n",
    "#     while k!=(2*i-1):\n",
    "#         print(\" *\", end=\"\")\n",
    "#         k += 1\n",
    "#     k =0\n",
    "#     print()\n",
    "####################################\n",
    "# num = int(input('Enter the number of rows: '))\n",
    "# for i in range(num+1):\n",
    "#     for j in range(1,i+2):\n",
    "#         print(j,end='')\n",
    "#     print()\n",
    "# for i in range(num+1,0,-1):\n",
    "#     for j in range(1,i):\n",
    "#         print(j,end='')\n",
    "#     print()\n",
    "# ####################################"
   ]
  },
  {
   "cell_type": "markdown",
   "id": "5d060c67",
   "metadata": {},
   "source": [
    "### try my self "
   ]
  },
  {
   "cell_type": "code",
   "execution_count": 5,
   "id": "865fab79",
   "metadata": {},
   "outputs": [
    {
     "name": "stdout",
     "output_type": "stream",
     "text": [
      "Enter the rows: 5\n",
      "            *               \n",
      "          * * *             \n",
      "        * * * * *           \n",
      "      * * * * * * *         \n",
      "    * * * * * * * * *       \n"
     ]
    }
   ],
   "source": [
    "num =int(input('Enter the rows: '))\n",
    "odd=[]\n",
    "for i in range(1,num*num):\n",
    "    if(len(odd)<num):\n",
    "        if(i%2 != 0):\n",
    "            odd.append(i) \n",
    "for j in odd:\n",
    "    multiple = \"* \"*j\n",
    "    center = multiple.center(num*num+1)\n",
    "    print(center,end='  ')\n",
    "    print()"
   ]
  },
  {
   "cell_type": "markdown",
   "id": "3d184821",
   "metadata": {},
   "source": [
    "# merge two  dictionaries"
   ]
  },
  {
   "cell_type": "code",
   "execution_count": 29,
   "id": "566ffe8b",
   "metadata": {},
   "outputs": [
    {
     "name": "stdout",
     "output_type": "stream",
     "text": [
      "{1: 'a', 2: 'b', 3: 'c', 4: 'd'}\n"
     ]
    }
   ],
   "source": [
    "dic1 = {1: 'a', 2: 'b'}\n",
    "dic2 = {3: 'c', 4: 'd'}\n",
    "dic1.update(dic2)\n",
    "print(dic1)"
   ]
  },
  {
   "cell_type": "code",
   "execution_count": 25,
   "id": "329c326b",
   "metadata": {},
   "outputs": [
    {
     "name": "stdout",
     "output_type": "stream",
     "text": [
      "{1: 'a', 2: 'b', 3: 'c', 4: 'd'}\n"
     ]
    }
   ],
   "source": [
    "dic1 = {1: 'a', 2: 'b'}\n",
    "dic2 = {3: 'c', 4: 'd'}\n",
    "print({**dic1,**dic2})"
   ]
  },
  {
   "cell_type": "markdown",
   "id": "64abb984",
   "metadata": {},
   "source": [
    "# print index in  lists"
   ]
  },
  {
   "cell_type": "code",
   "execution_count": 3,
   "id": "828b9395",
   "metadata": {},
   "outputs": [
    {
     "name": "stdout",
     "output_type": "stream",
     "text": [
      "0 first_index\n",
      "1 second_index\n",
      "2 third_index\n",
      "3 fourth_index\n",
      "4 fifth_index\n"
     ]
    }
   ],
   "source": [
    "lists = ['first_index','second_index','third_index','fourth_index','fifth_index']\n",
    "for index, i  in enumerate(lists):\n",
    "    print(index,i)"
   ]
  },
  {
   "cell_type": "markdown",
   "id": "239f0f9d",
   "metadata": {},
   "source": [
    "# slice a list"
   ]
  },
  {
   "cell_type": "markdown",
   "id": "3df7d4ac",
   "metadata": {},
   "source": [
    "## last element remove "
   ]
  },
  {
   "cell_type": "code",
   "execution_count": 26,
   "id": "d14ad772",
   "metadata": {},
   "outputs": [
    {
     "name": "stdout",
     "output_type": "stream",
     "text": [
      "[1, 2, 3, 4, 5, 6]\n"
     ]
    }
   ],
   "source": [
    "list = [1,2,3,4,5,6,7]\n",
    "list.pop(-1)\n",
    "print(list)"
   ]
  },
  {
   "cell_type": "markdown",
   "id": "4a52a097",
   "metadata": {},
   "source": [
    "## Remove between elements"
   ]
  },
  {
   "cell_type": "code",
   "execution_count": 28,
   "id": "1d027172",
   "metadata": {},
   "outputs": [
    {
     "name": "stdout",
     "output_type": "stream",
     "text": [
      "[2, 3, 4, 5, 6]\n"
     ]
    }
   ],
   "source": [
    "list = [1,2,3,4,5,6,7]\n",
    "print(list[1:6])"
   ]
  },
  {
   "cell_type": "markdown",
   "id": "be719af9",
   "metadata": {},
   "source": [
    "### Insert middle  "
   ]
  },
  {
   "cell_type": "code",
   "execution_count": 30,
   "id": "d00fa658",
   "metadata": {},
   "outputs": [
    {
     "name": "stdout",
     "output_type": "stream",
     "text": [
      "[1, 2, 4, 3, 5, 6, 7]\n"
     ]
    }
   ],
   "source": [
    "list = [1,2,4,5,6,7]\n",
    "list.insert(3,3)\n",
    "print(list)"
   ]
  },
  {
   "cell_type": "markdown",
   "id": "779fe9a0",
   "metadata": {},
   "source": [
    "# count the same letters conv into dic"
   ]
  },
  {
   "cell_type": "code",
   "execution_count": 64,
   "id": "de61a8ab",
   "metadata": {},
   "outputs": [
    {
     "name": "stdout",
     "output_type": "stream",
     "text": [
      "{'d': 1, 'h': 1, 'a': 3, 'n': 3, 'j': 1, 'e': 1, 'z': 1, 'i': 1}\n"
     ]
    }
   ],
   "source": [
    "string = 'dhanAnjezian'\n",
    "strings = string.lower()\n",
    "result = {}\n",
    "for i in strings:\n",
    "    if i.isalpha():\n",
    "        if i in result:\n",
    "            result[i] += 1 \n",
    "        else:\n",
    "            result[i] = 1\n",
    "            \n",
    "print(result)"
   ]
  },
  {
   "cell_type": "markdown",
   "id": "2603b2c3",
   "metadata": {},
   "source": [
    "# sort the value in dictionaries"
   ]
  },
  {
   "cell_type": "code",
   "execution_count": 170,
   "id": "cc352023",
   "metadata": {},
   "outputs": [
    {
     "name": "stdout",
     "output_type": "stream",
     "text": [
      "[1, 2, 4]\n"
     ]
    }
   ],
   "source": [
    "dic ={2:2,3:4,4:1}\n",
    "lists=[]\n",
    "for key,i in dic.items():\n",
    "    lists.append(i)\n",
    "print(sorted(lists))"
   ]
  },
  {
   "cell_type": "code",
   "execution_count": 97,
   "id": "986c4e25",
   "metadata": {},
   "outputs": [
    {
     "name": "stdout",
     "output_type": "stream",
     "text": [
      "the given list is empty\n"
     ]
    }
   ],
   "source": [
    "lists= []\n",
    "\n",
    "if len(lists) == 0:\n",
    "    print('the given list is empty')\n",
    "else:\n",
    "    print('the given list contain some lists:{}'.format(lists))"
   ]
  },
  {
   "cell_type": "markdown",
   "id": "1ce14807",
   "metadata": {},
   "source": [
    "# exception error "
   ]
  },
  {
   "cell_type": "code",
   "execution_count": 110,
   "id": "bfd24ecc",
   "metadata": {},
   "outputs": [
    {
     "name": "stdout",
     "output_type": "stream",
     "text": [
      "2\n",
      "2\n",
      "must be str, not int\n"
     ]
    }
   ],
   "source": [
    "string = input()\n",
    "\n",
    "try:\n",
    "    num = int(input())\n",
    "    print(string+num)\n",
    "except (TypeError, ValueError) as e:\n",
    "    print(e)"
   ]
  },
  {
   "cell_type": "markdown",
   "id": "5905e312",
   "metadata": {},
   "source": [
    "# copying a file and check whether the file exist are not "
   ]
  },
  {
   "cell_type": "code",
   "execution_count": 134,
   "id": "eab78ff2",
   "metadata": {},
   "outputs": [
    {
     "name": "stdout",
     "output_type": "stream",
     "text": [
      "sucessfully created\n"
     ]
    }
   ],
   "source": [
    "from shutil import copyfile\n",
    "import os\n",
    "if not os.path.exists('/home/dj21_vicky21_/new.py'):\n",
    "    copyfile('/home/dj21_vicky21_/Desktop/choice_the course.py','/home/dj21_vicky21_/Desktop/new.py')\n",
    "    print('sucessfully created')\n",
    "else:\n",
    "    print('file already exist')"
   ]
  },
  {
   "cell_type": "markdown",
   "id": "49aa4915",
   "metadata": {},
   "source": [
    "# Joint the   lists  "
   ]
  },
  {
   "cell_type": "code",
   "execution_count": 167,
   "id": "fcec966b",
   "metadata": {},
   "outputs": [
    {
     "name": "stdout",
     "output_type": "stream",
     "text": [
      "[1, 2, [3, 4], [5, 6]]\n"
     ]
    }
   ],
   "source": [
    "list1 =[1,2]\n",
    "list2 =[3,4]\n",
    "list3 =[5,6]\n",
    "\n",
    "list2.extend(list3)\n",
    "list1.extend(list2)\n",
    "\n",
    "# list1.append(list2)\n",
    "# list1.append(list3)\n",
    "\n",
    "\n",
    "print(list1)"
   ]
  },
  {
   "cell_type": "code",
   "execution_count": 154,
   "id": "f4249fab",
   "metadata": {},
   "outputs": [
    {
     "name": "stdout",
     "output_type": "stream",
     "text": [
      "[1, 2, 3, 4, 5, 6]\n"
     ]
    }
   ],
   "source": [
    "list1 =[1,2]\n",
    "list2 =[3,4]\n",
    "list3 =[5,6]\n",
    "\n",
    "list4 = list1+list2+list3\n",
    "print(list4)"
   ]
  },
  {
   "cell_type": "code",
   "execution_count": 160,
   "id": "d226ce96",
   "metadata": {},
   "outputs": [
    {
     "name": "stdout",
     "output_type": "stream",
     "text": [
      "[1, 2, 3, 4, 5, 6]\n"
     ]
    }
   ],
   "source": [
    "list1 =[1,2]\n",
    "list2 =[3,4]\n",
    "list3 =[5,6]\n",
    "\n",
    "print([*list1,*list2,*list3])"
   ]
  },
  {
   "cell_type": "markdown",
   "id": "bc4b3ddc",
   "metadata": {},
   "source": [
    "# Evenly split th list"
   ]
  },
  {
   "cell_type": "code",
   "execution_count": 57,
   "id": "47094438",
   "metadata": {},
   "outputs": [
    {
     "name": "stdout",
     "output_type": "stream",
     "text": [
      "how many numbers to split :2\n",
      "[[1, 2], [3, 4], [5, 6], [7, 8], [9, 10], [11, 12]]\n"
     ]
    }
   ],
   "source": [
    "lists = [1,2,3,4,5,6,7,8,9,10,11,12]\n",
    "count = len(lists)\n",
    "split_count =int(input('how many numbers to split :'))\n",
    "emp=[]\n",
    "i = 0\n",
    "e = split_count\n",
    "while e<=count:\n",
    "    emp.append(lists[i:e])        \n",
    "    i+=split_count\n",
    "    e+=split_count\n",
    "if count%2!=0:\n",
    "    emp.append([lists[-1]])\n",
    "\n",
    "print(emp)"
   ]
  },
  {
   "cell_type": "code",
   "execution_count": 63,
   "id": "dde93d00",
   "metadata": {},
   "outputs": [
    {
     "name": "stdout",
     "output_type": "stream",
     "text": [
      "[[1, 2, 3], [4, 5, 6], [7, 8, 9], [10, 11, 12], [13, 14]]\n"
     ]
    }
   ],
   "source": [
    "lists = [1,2,3,4,5,6,7,8,9,10,11,12,13,14]\n",
    "def split(list_a, chunk_size):\n",
    "    for i in range(0, len(list_a), chunk_size):\n",
    "        yield list_a[i:i + chunk_size]\n",
    "\n",
    "size = 3\n",
    "print(list(split(lists, size)))"
   ]
  },
  {
   "cell_type": "markdown",
   "id": "b79445de",
   "metadata": {},
   "source": [
    "# check the dictionarie exist are not "
   ]
  },
  {
   "cell_type": "code",
   "execution_count": 72,
   "id": "efd4df6f",
   "metadata": {},
   "outputs": [
    {
     "name": "stdout",
     "output_type": "stream",
     "text": [
      "Enter the number to check: 3\n",
      "exist\n"
     ]
    }
   ],
   "source": [
    "dic = {1:'one',2:'two',3:\"three\",1:'four'}\n",
    "value = int(input('Enter the number to check: '))\n",
    "if value in dic:\n",
    "    print('exist')\n",
    "else:\n",
    "    print('not exist')\n",
    "            \n",
    "    "
   ]
  },
  {
   "cell_type": "markdown",
   "id": "aacd813d",
   "metadata": {},
   "source": [
    "# string into int  and float into int "
   ]
  },
  {
   "cell_type": "code",
   "execution_count": 69,
   "id": "813a60ef",
   "metadata": {},
   "outputs": [
    {
     "name": "stdout",
     "output_type": "stream",
     "text": [
      "21 <class 'int'>\n",
      "21.04 <class 'float'>\n",
      "21 <class 'str'>\n"
     ]
    }
   ],
   "source": [
    "#  string into int................................\n",
    "string1 = '21'\n",
    "intnumber1 = int(string)\n",
    "print(intnumber1,type(intnumber1))\n",
    "\n",
    "#string into float................................\n",
    "string2 ='21.04'\n",
    "floatnumber2 = float(string2)\n",
    "print(floatnumber2 , type(floatnumber2) )\n",
    "\n",
    "# int into string..................................\n",
    "intnumber2 = 21\n",
    "string3 = str(intnumber2)\n",
    "print(string3 ,type(string3))\n"
   ]
  },
  {
   "cell_type": "markdown",
   "id": "be610310",
   "metadata": {},
   "source": [
    "# change the color of the text\n"
   ]
  },
  {
   "cell_type": "code",
   "execution_count": 89,
   "id": "b1bcd9bc",
   "metadata": {},
   "outputs": [
    {
     "name": "stdout",
     "output_type": "stream",
     "text": [
      "\u001b[32;3;225;59;225mhello\u001b[0m\n",
      "\u001b[38;2;5;86;213mhello\u001b[0m\n"
     ]
    }
   ],
   "source": [
    "# method 1\n",
    "\n",
    "print('\\033[32;3;225;59;225m'+'hello'+'\\033[0m')\n",
    "print('\\x1b[38;2;5;86;213m' + 'hello' + '\\x1b[0m')"
   ]
  },
  {
   "cell_type": "code",
   "execution_count": 101,
   "id": "46e3869e",
   "metadata": {},
   "outputs": [
    {
     "name": "stdout",
     "output_type": "stream",
     "text": [
      "\u001b[31mhello\u001b[0m\n"
     ]
    }
   ],
   "source": [
    "# method 2\n",
    "from termcolor import colored\n",
    "print(colored('hello','red'))"
   ]
  },
  {
   "cell_type": "markdown",
   "id": "d9a5d9cd",
   "metadata": {},
   "source": [
    "# change the string into datetime"
   ]
  },
  {
   "cell_type": "code",
   "execution_count": 223,
   "id": "564d9717",
   "metadata": {},
   "outputs": [
    {
     "name": "stdout",
     "output_type": "stream",
     "text": [
      "<class 'datetime.datetime'>\n",
      "2020-04-21 00:00:00\n"
     ]
    }
   ],
   "source": [
    "from datetime import datetime\n",
    "string ='21 apr 20 '\n",
    "dt =datetime.strptime(string,'%d %b %y')\n",
    "print(type(dt))\n",
    "print(dt)\n",
    "# check the link\n",
    "# https://docs.python.org/3/library/time.html"
   ]
  },
  {
   "cell_type": "code",
   "execution_count": 207,
   "id": "5516c194",
   "metadata": {},
   "outputs": [
    {
     "name": "stdout",
     "output_type": "stream",
     "text": [
      "Tue Feb  1 18:02:45 2022\n"
     ]
    }
   ],
   "source": [
    "from  datetime import datetime\n",
    "time1=datetime.now().time()\n",
    "def time(time1):\n",
    "    print(time1)\n",
    "time(time1)"
   ]
  },
  {
   "cell_type": "code",
   "execution_count": null,
   "id": "02f804fc",
   "metadata": {},
   "outputs": [],
   "source": []
  },
  {
   "cell_type": "code",
   "execution_count": null,
   "id": "9bc3c716",
   "metadata": {},
   "outputs": [],
   "source": []
  }
 ],
 "metadata": {
  "kernelspec": {
   "display_name": "Python 3",
   "language": "python",
   "name": "python3"
  },
  "language_info": {
   "codemirror_mode": {
    "name": "ipython",
    "version": 3
   },
   "file_extension": ".py",
   "mimetype": "text/x-python",
   "name": "python",
   "nbconvert_exporter": "python",
   "pygments_lexer": "ipython3",
   "version": "3.6.9"
  }
 },
 "nbformat": 4,
 "nbformat_minor": 5
}
