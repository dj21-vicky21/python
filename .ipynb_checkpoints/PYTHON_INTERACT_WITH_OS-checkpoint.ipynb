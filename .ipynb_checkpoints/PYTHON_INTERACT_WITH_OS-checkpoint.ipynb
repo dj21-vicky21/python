{
 "cells": [
  {
   "cell_type": "code",
   "execution_count": 2,
   "id": "e4bd29b4",
   "metadata": {},
   "outputs": [
    {
     "name": "stdout",
     "output_type": "stream",
     "text": [
      "     PERSONS  FAILERS\n",
      "MON      123       23\n",
      "TUE      456       45\n",
      "WED      789       67\n",
      "THU      987       88\n",
      "FRI      654       98\n",
      "SAT      321       65\n"
     ]
    }
   ],
   "source": [
    "import pandas\n",
    "peoples = [123,456,789,987,654,321]\n",
    "errors = [23,45,67,88,98,65]\n",
    "datas=pandas.DataFrame({\"PERSONS\":peoples ,\"FAILERS\":errors},index=['MON','TUE','WED','THU','FRI','SAT'])\n",
    "print(datas)"
   ]
  },
  {
   "cell_type": "markdown",
   "id": "910d9653",
   "metadata": {},
   "source": [
    "# using \"mean\" get the average in pandas"
   ]
  },
  {
   "cell_type": "code",
   "execution_count": 47,
   "id": "2f7ed6a8",
   "metadata": {},
   "outputs": [
    {
     "data": {
      "text/plain": [
       "64.33333333333333"
      ]
     },
     "execution_count": 47,
     "metadata": {},
     "output_type": "execute_result"
    }
   ],
   "source": [
    "datas[\"FAILERS\"].mean()"
   ]
  },
  {
   "cell_type": "code",
   "execution_count": 66,
   "id": "bfee6fe2",
   "metadata": {},
   "outputs": [
    {
     "data": {
      "text/plain": [
       "555.0"
      ]
     },
     "execution_count": 66,
     "metadata": {},
     "output_type": "execute_result"
    }
   ],
   "source": [
    "datas[\"PERSONS\"].mean()"
   ]
  },
  {
   "cell_type": "markdown",
   "id": "b8d87de1",
   "metadata": {},
   "source": [
    "#  enter the data "
   ]
  },
  {
   "cell_type": "code",
   "execution_count": 3,
   "id": "5e2a349e",
   "metadata": {},
   "outputs": [
    {
     "name": "stdout",
     "output_type": "stream",
     "text": [
      "   ONE  TWO\n",
      "1   23  678\n",
      "2   45  453\n",
      "3   67  873\n",
      "4   89  984\n",
      "5   21  657\n",
      "6   56  231\n",
      "ONE_AVERAGE--50.166666666666664\n",
      "TWO_AVERAGE--646.0\n"
     ]
    }
   ],
   "source": [
    "import pandas\n",
    "one=[23,45,67,89,21,56]\n",
    "two=[678,453,873,984,657,231]\n",
    "dats=pandas.DataFrame({\"ONE\":one,\"TWO\":two} ,index=[1,2,3,4,5,6])\n",
    "print(dats)\n",
    "print(\"{}--{}\".format('ONE_AVERAGE',dats[\"ONE\"].mean()))\n",
    "print(\"{}--{}\".format(\"TWO_AVERAGE\",dats[\"TWO\"].mean()))"
   ]
  },
  {
   "cell_type": "markdown",
   "id": "61df69ea",
   "metadata": {},
   "source": [
    "# disk usage"
   ]
  },
  {
   "cell_type": "code",
   "execution_count": 3,
   "id": "f48357e8",
   "metadata": {},
   "outputs": [
    {
     "name": "stdout",
     "output_type": "stream",
     "text": [
      "usage(total=491180957696, used=8411881472, free=457747013632)\n"
     ]
    }
   ],
   "source": [
    "import shutil\n",
    "du = shutil.disk_usage('/')\n",
    "print(du)"
   ]
  },
  {
   "cell_type": "code",
   "execution_count": 47,
   "id": "7e89e5e2",
   "metadata": {},
   "outputs": [
    {
     "name": "stdout",
     "output_type": "stream",
     "text": [
      "90.13034874572566\n"
     ]
    }
   ],
   "source": [
    "print(du.free/du.total*100)"
   ]
  },
  {
   "cell_type": "markdown",
   "id": "06bebb93",
   "metadata": {},
   "source": [
    "# check cpu_percent"
   ]
  },
  {
   "cell_type": "code",
   "execution_count": 5,
   "id": "c9aa8a0b",
   "metadata": {},
   "outputs": [
    {
     "name": "stdout",
     "output_type": "stream",
     "text": [
      "33.3\n"
     ]
    }
   ],
   "source": [
    "import psutil\n",
    "cp = psutil.cpu_percent(0.1)\n",
    "print(cp)"
   ]
  },
  {
   "cell_type": "markdown",
   "id": "02b2853e",
   "metadata": {},
   "source": [
    "# check the usage of disk  space & cpu_ percent"
   ]
  },
  {
   "cell_type": "code",
   "execution_count": 1,
   "id": "eeb68c6c",
   "metadata": {},
   "outputs": [
    {
     "name": "stdout",
     "output_type": "stream",
     "text": [
      "everything is fine\n"
     ]
    }
   ],
   "source": [
    "import shutil\n",
    "import psutil\n",
    "\n",
    "def check_usage(disk):\n",
    "    du = shutil.disk_usage(disk)\n",
    "    free = du.free/du.total *100\n",
    "    return free > 20\n",
    "def check_cpu():\n",
    "    di = psutil.cpu_percent(1)\n",
    "    return di < 75\n",
    "if  check_usage('/')  or   check_cpu():\n",
    "    print(\"everything is fine\n",
    "else:\n",
    "    print(\"something wrong\")"
   ]
  },
  {
   "cell_type": "markdown",
   "id": "a6ec9795",
   "metadata": {},
   "source": [
    "# To read a file   using python3"
   ]
  },
  {
   "cell_type": "code",
   "execution_count": 81,
   "id": "9a8c7bfa",
   "metadata": {},
   "outputs": [
    {
     "name": "stdout",
     "output_type": "stream",
     "text": [
      "a = input()\n",
      "\n"
     ]
    }
   ],
   "source": [
    "file = open(\"sample.txt\")\n",
    "print(\"{}\".format(file.readline()) )# print(file.read()) ### to read the  entire txt\n",
    "#file.close() ##  to  close the file  "
   ]
  },
  {
   "cell_type": "code",
   "execution_count": 146,
   "id": "5be75129",
   "metadata": {},
   "outputs": [
    {
     "name": "stdout",
     "output_type": "stream",
     "text": [
      "['create the new file\\n']\n"
     ]
    }
   ],
   "source": [
    "with open(\"sample.txt\") as file: # Using \"with\" function to automatically close  the file\n",
    "    print(file.readlines())"
   ]
  },
  {
   "cell_type": "code",
   "execution_count": 27,
   "id": "ac256a6a",
   "metadata": {},
   "outputs": [
    {
     "name": "stdout",
     "output_type": "stream",
     "text": [
      "TOPIC SENTENCES ARE SIMILAR TO MINI THESIS STATEMENTS. LIKE A THESIS STATEMENT, A TOPIC SENTENCE HAS A SPECIFIC MAIN POINT. WHEREAS THE THESIS IS THE MAIN POINT OF THE ESSAY, THE TOPIC SENTENCE IS THE MAIN POINT OF THE PARAGRAPH. LIKE THE THESIS STATEMENT, A TOPIC SENTENCE HAS A UNIFYING FUNCTION. BUT A THESIS STATEMENT OR TOPIC SENTENCE ALONE DOESN’T GUARANTEE UNITY. AN ESSAY IS UNIFIED IF ALL THE PARAGRAPHS RELATE TO THE THESIS, WHEREAS A PARAGRAPH IS UNIFIED IF ALL THE SENTENCES RELATE TO THE TOPIC SENTENCE. NOTE: NOT ALL PARAGRAPHS NEED TOPIC SENTENCES. IN PARTICULAR, OPENING AND CLOSING PARAGRAPHS, WHICH SERVE DIFFERENT FUNCTIONS FROM BODY PARAGRAPHS, GENERALLY DON’T HAVE TOPIC SENTENCES.\n",
      "\n"
     ]
    }
   ],
   "source": [
    "with open(\"sample.txt\") as files:\n",
    "    for program in files:\n",
    "        print(program.upper())#use strip() method is used to remove the space ##print(program.uppera().strip())##"
   ]
  },
  {
   "cell_type": "code",
   "execution_count": 28,
   "id": "2c25743c",
   "metadata": {},
   "outputs": [
    {
     "name": "stdout",
     "output_type": "stream",
     "text": [
      "['Topic sentences are similar to mini thesis statements. Like a thesis statement, a topic sentence has a specific main point. Whereas the thesis is the main point of the essay, the topic sentence is the main point of the paragraph. Like the thesis statement, a topic sentence has a unifying function. But a thesis statement or topic sentence alone doesn’t guarantee unity. An essay is unified if all the paragraphs relate to the thesis, whereas a paragraph is unified if all the sentences relate to the topic sentence. Note: Not all paragraphs need topic sentences. In particular, opening and closing paragraphs, which serve different functions from body paragraphs, generally don’t have topic sentences.\\n']\n"
     ]
    }
   ],
   "source": [
    "file = open(\"sample.txt\")\n",
    "txt = file.readlines()\n",
    "file.close()\n",
    "txt.sort() #to create a new variable to copy the  \"sample.txt\" after closing the \"sample.txt\" file . we can access same content(sample.txt) in  the new variable\n",
    "print(txt)"
   ]
  },
  {
   "cell_type": "markdown",
   "id": "3e27ed7c",
   "metadata": {},
   "source": [
    "#  write a file  using python"
   ]
  },
  {
   "cell_type": "markdown",
   "id": "93f06af2",
   "metadata": {},
   "source": [
    "# <font color='red'>types :</font>\n",
    "* \"r\" - read only\n",
    "* \"w\" - write only\n",
    "* \"a\" - append only\n",
    "* \"r+\" - read & write\n",
    "* \"b\" - binary mode\n",
    "* \"t\" - text mode (\"its default\")\n",
    "* \"+\" - open for updating (\"it means read and write\")"
   ]
  },
  {
   "cell_type": "code",
   "execution_count": 51,
   "id": "b05e134d",
   "metadata": {},
   "outputs": [
    {
     "name": "stdout",
     "output_type": "stream",
     "text": [
      "a = int(input())\n",
      "b = int(input())\n",
      "c = a+b\n",
      "print(c)\n",
      "\n"
     ]
    }
   ],
   "source": [
    "file =  open(\"adding2numbers.py\",\"r\")\n",
    "#print(file.write(\" excellent\"))\n",
    "print(file.read())"
   ]
  },
  {
   "cell_type": "markdown",
   "id": "6c2504ae",
   "metadata": {},
   "source": [
    "# Rename the file, remove and  check the file in the folder are not"
   ]
  },
  {
   "cell_type": "code",
   "execution_count": 49,
   "id": "d8f5b11a",
   "metadata": {},
   "outputs": [
    {
     "data": {
      "text/plain": [
       "True"
      ]
     },
     "execution_count": 49,
     "metadata": {},
     "output_type": "execute_result"
    }
   ],
   "source": [
    "import os\n",
    "#os.remove(\"sample.py\")\n",
    "#os.rename(\"add2numbers.py\",\"adding2numbers.py\")\n",
    "os.path.exists('adding2numbers.py')"
   ]
  },
  {
   "cell_type": "markdown",
   "id": "6c7dbb55",
   "metadata": {},
   "source": [
    "# Get size"
   ]
  },
  {
   "cell_type": "code",
   "execution_count": 38,
   "id": "0897204a",
   "metadata": {},
   "outputs": [
    {
     "data": {
      "text/plain": [
       "90"
      ]
     },
     "execution_count": 38,
     "metadata": {},
     "output_type": "execute_result"
    }
   ],
   "source": [
    "#Get the file size  \n",
    "import os\n",
    "os.path.getsize(\"adding2numbers.py\") #the file size in bytes"
   ]
  },
  {
   "cell_type": "markdown",
   "id": "45195735",
   "metadata": {},
   "source": [
    "# get time"
   ]
  },
  {
   "cell_type": "code",
   "execution_count": 39,
   "id": "368d9419",
   "metadata": {},
   "outputs": [
    {
     "data": {
      "text/plain": [
       "1628831413.1853976"
      ]
     },
     "execution_count": 39,
     "metadata": {},
     "output_type": "execute_result"
    }
   ],
   "source": [
    "os.path.getmtime(\"adding2numbers.py\") #  the out put is  timestamp"
   ]
  },
  {
   "cell_type": "markdown",
   "id": "dc598f16",
   "metadata": {},
   "source": [
    "#  Get time  easier  to human"
   ]
  },
  {
   "cell_type": "code",
   "execution_count": 40,
   "id": "2e2ff417",
   "metadata": {},
   "outputs": [
    {
     "name": "stdout",
     "output_type": "stream",
     "text": [
      "2021-08-13 10:40:13.185398\n"
     ]
    }
   ],
   "source": [
    "import datetime\n",
    "ts=os.path.getmtime(\"adding2numbers.py\")\n",
    "dt =datetime.datetime.fromtimestamp(ts)\n",
    "print(dt)"
   ]
  },
  {
   "cell_type": "markdown",
   "id": "4374d9a4",
   "metadata": {},
   "source": [
    "# file location "
   ]
  },
  {
   "cell_type": "code",
   "execution_count": 52,
   "id": "1ef4179f",
   "metadata": {},
   "outputs": [
    {
     "data": {
      "text/plain": [
       "'/home/dj21_vicky21_/Desktop/GIT/trial2/sample.txt'"
      ]
     },
     "execution_count": 52,
     "metadata": {},
     "output_type": "execute_result"
    }
   ],
   "source": [
    "os.path.abspath(\"sample.txt\")# abspath is display the  current path location"
   ]
  },
  {
   "cell_type": "code",
   "execution_count": 56,
   "id": "db7f42b6",
   "metadata": {},
   "outputs": [
    {
     "data": {
      "text/plain": [
       "'/home/dj21_vicky21_/Desktop/GIT/trial2'"
      ]
     },
     "execution_count": 56,
     "metadata": {},
     "output_type": "execute_result"
    }
   ],
   "source": [
    "os.getcwd() # current working dir"
   ]
  },
  {
   "cell_type": "markdown",
   "id": "0020b3f0",
   "metadata": {},
   "source": [
    "# create a folder and remove and change the  dir "
   ]
  },
  {
   "cell_type": "code",
   "execution_count": 66,
   "id": "7bac416c",
   "metadata": {},
   "outputs": [],
   "source": [
    "os.mkdir(\"sample\")  # like linux commend to create {mkdir} and remove {rmdir} "
   ]
  },
  {
   "cell_type": "markdown",
   "id": "3ed2fa3c",
   "metadata": {},
   "source": [
    "rmdir function is not deleting  whether the filses are inside the  dir.Emply dir only deleted. "
   ]
  },
  {
   "cell_type": "markdown",
   "id": "51ea5344",
   "metadata": {},
   "source": [
    "# example: rmdir"
   ]
  },
  {
   "cell_type": "code",
   "execution_count": 109,
   "id": "91f844fc",
   "metadata": {},
   "outputs": [
    {
     "ename": "OSError",
     "evalue": "[Errno 39] Directory not empty: 'sample'",
     "output_type": "error",
     "traceback": [
      "\u001b[0;31m---------------------------------------------------------------------------\u001b[0m",
      "\u001b[0;31mOSError\u001b[0m                                   Traceback (most recent call last)",
      "\u001b[0;32m<ipython-input-109-4b8f7fd2a2d3>\u001b[0m in \u001b[0;36m<module>\u001b[0;34m\u001b[0m\n\u001b[1;32m      1\u001b[0m \u001b[0;32mimport\u001b[0m \u001b[0mos\u001b[0m\u001b[0;34m\u001b[0m\u001b[0;34m\u001b[0m\u001b[0m\n\u001b[0;32m----> 2\u001b[0;31m \u001b[0mos\u001b[0m\u001b[0;34m.\u001b[0m\u001b[0mrmdir\u001b[0m\u001b[0;34m(\u001b[0m\u001b[0;34m\"sample\"\u001b[0m\u001b[0;34m)\u001b[0m\u001b[0;34m\u001b[0m\u001b[0;34m\u001b[0m\u001b[0m\n\u001b[0m",
      "\u001b[0;31mOSError\u001b[0m: [Errno 39] Directory not empty: 'sample'"
     ]
    }
   ],
   "source": [
    "import os\n",
    "os.rmdir(\"sample\")"
   ]
  },
  {
   "cell_type": "code",
   "execution_count": 318,
   "id": "af3f8ec4",
   "metadata": {},
   "outputs": [],
   "source": [
    "os.chdir(\"..\")# change the dir"
   ]
  },
  {
   "cell_type": "code",
   "execution_count": 319,
   "id": "345a140e",
   "metadata": {},
   "outputs": [
    {
     "data": {
      "text/plain": [
       "'/home/dj21_vicky21_/Desktop/GIT/trial2'"
      ]
     },
     "execution_count": 319,
     "metadata": {},
     "output_type": "execute_result"
    }
   ],
   "source": [
    "os.getcwd()"
   ]
  },
  {
   "cell_type": "markdown",
   "id": "24109846",
   "metadata": {},
   "source": [
    "#  create a file"
   ]
  },
  {
   "cell_type": "markdown",
   "id": "38eed004",
   "metadata": {},
   "source": [
    "os.mknod(\"filename.extension\")###"
   ]
  },
  {
   "cell_type": "code",
   "execution_count": 149,
   "id": "fb3d57da",
   "metadata": {},
   "outputs": [
    {
     "data": {
      "text/plain": [
       "['class.ipynb',\n",
       " 'PYTHON_INTERACT_WITH_OS.ipynb',\n",
       " '.git',\n",
       " 'sample',\n",
       " '1stweek.ipynb',\n",
       " 'countthewords.ipynb',\n",
       " 'W3school.ipynb',\n",
       " 'sample.txt',\n",
       " '.ipynb_checkpoints',\n",
       " 'README.md',\n",
       " 'adding2numbers.py',\n",
       " '2ndweek.ipynb']"
      ]
     },
     "execution_count": 149,
     "metadata": {},
     "output_type": "execute_result"
    }
   ],
   "source": [
    "os.listdir() #the list in the dir"
   ]
  },
  {
   "cell_type": "markdown",
   "id": "8040d65c",
   "metadata": {},
   "source": [
    "#  check its file are folder"
   ]
  },
  {
   "cell_type": "code",
   "execution_count": 168,
   "id": "2c14622b",
   "metadata": {},
   "outputs": [
    {
     "name": "stdout",
     "output_type": "stream",
     "text": [
      "FILE--trial2/class.ipynb\n",
      "FILE--trial2/PYTHON_INTERACT_WITH_OS.ipynb\n",
      "FOLDER--trial2/.git\n",
      "FOLDER--trial2/sample\n",
      "FILE--trial2/1stweek.ipynb\n",
      "FILE--trial2/countthewords.ipynb\n",
      "FILE--trial2/W3school.ipynb\n",
      "FILE--trial2/sample.txt\n",
      "FOLDER--trial2/.ipynb_checkpoints\n",
      "FILE--trial2/README.md\n",
      "FILE--trial2/adding2numbers.py\n",
      "FILE--trial2/2ndweek.ipynb\n"
     ]
    }
   ],
   "source": [
    "import os\n",
    "var=os.listdir('trial2')\n",
    "dir ='trial2'\n",
    "for content in var:\n",
    "    fullname = os.path.join(dir,content)\n",
    "    if os.path.isdir(fullname):\n",
    "        print(\"{}--{}\".format(\"FOLDER\",fullname))\n",
    "    else:\n",
    "        print(\"{}--{}\".format(\"FILE\",fullname))"
   ]
  },
  {
   "cell_type": "markdown",
   "id": "78e8dae7",
   "metadata": {},
   "source": [
    "# Notes"
   ]
  },
  {
   "cell_type": "code",
   "execution_count": 181,
   "id": "f81c4bc6",
   "metadata": {},
   "outputs": [
    {
     "data": {
      "text/plain": [
       "posix.uname_result(sysname='Linux', nodename='dj', release='5.4.0-80-generic', version='#90~18.04.1-Ubuntu SMP Tue Jul 13 19:40:02 UTC 2021', machine='x86_64')"
      ]
     },
     "execution_count": 181,
     "metadata": {},
     "output_type": "execute_result"
    }
   ],
   "source": [
    "import os\n",
    "os.uname()"
   ]
  },
  {
   "cell_type": "code",
   "execution_count": 182,
   "id": "309cbe82",
   "metadata": {},
   "outputs": [
    {
     "data": {
      "text/plain": [
       "'utf-8'"
      ]
     },
     "execution_count": 182,
     "metadata": {},
     "output_type": "execute_result"
    }
   ],
   "source": [
    "import sys\n",
    "sys.getfilesystemencoding() # unicode format system --- utf"
   ]
  },
  {
   "cell_type": "markdown",
   "id": "326ac2b2",
   "metadata": {},
   "source": [
    "#  create a folder  inside create a file and write some data's "
   ]
  },
  {
   "cell_type": "code",
   "execution_count": 316,
   "id": "05f6c37e",
   "metadata": {},
   "outputs": [
    {
     "name": "stdout",
     "output_type": "stream",
     "text": [
      "2021-08-13\n"
     ]
    }
   ],
   "source": [
    "import os\n",
    "import datetime\n",
    "def file_date(filename):\n",
    "    files = os.mknod(filename)\n",
    "    with open(filename,\"r+\") as fil:\n",
    "        fil.write(\"excellent\")\n",
    "    ts = os.path.getmtime(filename)\n",
    "    dt = datetime.date.fromtimestamp(ts)\n",
    "    print(\"{}\".format(dt))\n",
    "file_date(\"hello_world.txt\")"
   ]
  },
  {
   "cell_type": "code",
   "execution_count": 97,
   "id": "b40e6415",
   "metadata": {},
   "outputs": [
    {
     "name": "stdout",
     "output_type": "stream",
     "text": [
      "NAME : DHANANJEZHIAN  ---Phone : XXXXX-XXXXX---Role : COLLEGE STUDENT  \n",
      "NAME : VICKY  ---Phone : XXXXX-XXXXX---Role : STUDENT \n",
      "NAME : DJ  ---Phone : XXXXX-XXXXX---Role : SCHOOL STDUENT \n"
     ]
    }
   ],
   "source": [
    "import csv\n",
    "f = open(\"csv.txt\")\n",
    "csv_f = csv.reader(f)\n",
    "for row in csv_f:\n",
    "    name,phon,role = row\n",
    "    print(\"NAME : {}  ---Phone : {}---Role : {} \".format(name,phone,role))\n",
    "    #print(\"NAME-{}\".format(row[0]))\n",
    "f.close()"
   ]
  },
  {
   "cell_type": "code",
   "execution_count": 77,
   "id": "fc6ce226",
   "metadata": {},
   "outputs": [],
   "source": [
    "hosts = [[\"wordststion.local\",'192.168.25.46'],['webserver.cloud','10.2.5.6']] \n",
    "with open(\"host.csv\",\"w\") as host_csv:\n",
    "    writer =  csv.writer(host_csv)\n",
    "    writer.writerows(hosts)"
   ]
  },
  {
   "cell_type": "markdown",
   "id": "86666f27",
   "metadata": {},
   "source": [
    "# import the module and try"
   ]
  },
  {
   "cell_type": "code",
   "execution_count": 103,
   "id": "c3dcf60a",
   "metadata": {},
   "outputs": [],
   "source": [
    "import sample\n",
    "file = sample.hosts\n",
    "with open(\"host2.csv\",\"w\") as host_csv:\n",
    "    writer =  csv.writer(host_csv)\n",
    "    writer.writerow(file)"
   ]
  },
  {
   "cell_type": "code",
   "execution_count": 174,
   "id": "08d4b51f",
   "metadata": {},
   "outputs": [],
   "source": [
    "import csv\n",
    "header=[\"name\",\"version\",\"users\"]\n",
    "data =[['bgmi','15.3','50m'],['candycrush','6.5','44m'],['ninja','5.5','10m']]\n",
    "with open(\"sample2.csv\",\"w\") as file:\n",
    "    writer=csv.writer(file)\n",
    "    writer.writerow(header)\n",
    "    writer.writerows(data)\n",
    "    "
   ]
  },
  {
   "cell_type": "code",
   "execution_count": 175,
   "id": "79866b98",
   "metadata": {},
   "outputs": [
    {
     "name": "stdout",
     "output_type": "stream",
     "text": [
      "bgmi has 50m users \n",
      "candycrush has 44m users \n",
      "ninja has 10m users \n"
     ]
    }
   ],
   "source": [
    "with open('sample2.csv') as software:\n",
    "    reader=csv.DictReader(software)\n",
    "    for row in reader:\n",
    "        print((\"{} has {} users \").format(row[\"name\"],row[\"users\"]))\n"
   ]
  },
  {
   "cell_type": "markdown",
   "id": "981174e8",
   "metadata": {},
   "source": [
    "#  create a  dict in csv"
   ]
  },
  {
   "cell_type": "code",
   "execution_count": 31,
   "id": "7eb6e03c",
   "metadata": {},
   "outputs": [
    {
     "name": "stdout",
     "output_type": "stream",
     "text": [
      "a pink carnation is annual\n",
      "a yellow daffodil is perennial\n",
      "a blue iris is perennial\n",
      "a red poinsettia is perennial\n",
      "a yellow sunflower is annual\n",
      "\n"
     ]
    }
   ],
   "source": [
    "import os\n",
    "import csv\n",
    "\n",
    "# Create a file with data in it\n",
    "def create_file(filename):\n",
    "  with open(filename, \"w\") as file:\n",
    "    file.write(\"name,color,type\\n\")\n",
    "    file.write(\"carnation,pink,annual\\n\")\n",
    "    file.write(\"daffodil,yellow,perennial\\n\")\n",
    "    file.write(\"iris,blue,perennial\\n\")\n",
    "    file.write(\"poinsettia,red,perennial\\n\")\n",
    "    file.write(\"sunflower,yellow,annual\\n\")\n",
    "\n",
    "def contents_of_file(filename):\n",
    "  return_string = \"\"\n",
    "\n",
    "  # Call the function to create the file\n",
    "  create_file(filename)\n",
    "\n",
    "  # Open the file\n",
    "  with open(filename) as f:\n",
    "    # Read the rows of the file\n",
    "    rows = csv.reader(f)\n",
    "    headers = next(rows)\n",
    "    # Process each row\n",
    "    for row in rows:\n",
    "      name, color, ty = row\n",
    "      # Format the return string for data rows only          \n",
    "      return_string += \"a {} {} is {}\\n\".format(color , name, ty)\n",
    "\n",
    "  return return_string\n",
    "\n",
    "# Call the function\n",
    "print(contents_of_file(\"flowers.csv\"))"
   ]
  },
  {
   "cell_type": "markdown",
   "id": "60382873",
   "metadata": {},
   "source": [
    "# week3"
   ]
  },
  {
   "cell_type": "code",
   "execution_count": 59,
   "id": "fd3de592",
   "metadata": {},
   "outputs": [
    {
     "name": "stdout",
     "output_type": "stream",
     "text": [
      "ERROR\n"
     ]
    }
   ],
   "source": [
    "log = 'July 31 07:51:48 mycomputer bad_process[12385]: {ERROR} performing package upgrade'\n",
    "tata =log.index('{')\n",
    "tat = log.index(\"}\")\n",
    "print(log[tata+1: tat])#print(log[1:3])"
   ]
  },
  {
   "cell_type": "code",
   "execution_count": 79,
   "id": "3f297140",
   "metadata": {},
   "outputs": [
    {
     "name": "stdout",
     "output_type": "stream",
     "text": [
      "987423232378462462\n"
     ]
    }
   ],
   "source": [
    "import re\n",
    "log = 'July 31 07:51:48 mycomputer bad_process[987423232378462462]: ERROR performing {package} upgrade'\n",
    "regex = r'\\[(\\d+)\\]'#regular expression\n",
    "result = re.search(regex,log)\n",
    "print(result[1])"
   ]
  },
  {
   "cell_type": "code",
   "execution_count": 68,
   "id": "d1503b13",
   "metadata": {},
   "outputs": [
    {
     "name": "stdout",
     "output_type": "stream",
     "text": [
      "<_sre.SRE_Match object; span=(0, 3), match='zel'>\n"
     ]
    }
   ],
   "source": [
    "txt = re.search(r'.el',\"zel\")\n",
    "print(txt)"
   ]
  },
  {
   "cell_type": "markdown",
   "id": "286bf51b",
   "metadata": {},
   "source": [
    "# quit"
   ]
  },
  {
   "cell_type": "code",
   "execution_count": 1,
   "id": "b78a4746",
   "metadata": {},
   "outputs": [
    {
     "name": "stdout",
     "output_type": "stream",
     "text": [
      "True\n",
      "False\n",
      "True\n",
      "False\n",
      "True\n"
     ]
    }
   ],
   "source": [
    "import re\n",
    "def check_web_address(text):\n",
    "  pattern = r\"[\\.com\\.org\\.US]$\"\n",
    "  result = re.search(pattern, text)\n",
    "  return result != None\n",
    "\n",
    "print(check_web_address(\"gmail.com\")) # True\n",
    "print(check_web_address(\"www@google\")) # False\n",
    "print(check_web_address(\"www.Coursera.org\")) # True\n",
    "print(check_web_address(\"web-address.com/homepage\")) # False\n",
    "print(check_web_address(\"My_Favorite-Blog.US\")) # True\n"
   ]
  },
  {
   "cell_type": "code",
   "execution_count": 2,
   "id": "5e5c598e",
   "metadata": {},
   "outputs": [
    {
     "name": "stdout",
     "output_type": "stream",
     "text": [
      "True\n",
      "True\n",
      "False\n",
      "False\n"
     ]
    }
   ],
   "source": [
    "import re\n",
    "def check_time(text):\n",
    "  pattern = r\"[1-9]+[\\s(a-zA-Z)]\"\n",
    "  result = re.search(pattern, text)\n",
    "  return result != None\n",
    "\n",
    "print(check_time(\"12:45pm\")) # True\n",
    "print(check_time(\"9:59 AM\")) # True\n",
    "print(check_time(\"6:60am\")) # False\n",
    "print(check_time(\"five o'clock\")) # False"
   ]
  },
  {
   "cell_type": "code",
   "execution_count": 4,
   "id": "1679de87",
   "metadata": {},
   "outputs": [
    {
     "name": "stdout",
     "output_type": "stream",
     "text": [
      "True\n",
      "True\n",
      "False\n",
      "True\n",
      "True\n"
     ]
    }
   ],
   "source": [
    "import re\n",
    "def contains_acronym(text):\n",
    "  pattern = r\"[()]\" \n",
    "  result = re.search(pattern, text)\n",
    "  return result != None\n",
    "\n",
    "print(contains_acronym(\"Instant messaging (IM) is a set of communication technologies used for text-based communication\")) # True\n",
    "print(contains_acronym(\"American Standard Code for Information Interchange (ASCII) is a character encoding standard for electronic communication\")) # True\n",
    "print(contains_acronym(\"Please do NOT enter without permission!\")) # False\n",
    "print(contains_acronym(\"PostScript is a fourth-generation programming language (4GL)\")) # True\n",
    "print(contains_acronym(\"Have fun using a self-contained underwater breathing apparatus (Scuba)!\")) # True"
   ]
  },
  {
   "cell_type": "code",
   "execution_count": 14,
   "id": "3fa49e43",
   "metadata": {},
   "outputs": [
    {
     "name": "stdout",
     "output_type": "stream",
     "text": [
      "True\n",
      "False\n",
      "True\n",
      "False\n"
     ]
    }
   ],
   "source": [
    "import re\n",
    "def check_zip_code (text):\n",
    "  result = re.search(r\"[0-8].$\", text)\n",
    "  return result != None\n",
    "\n",
    "print(check_zip_code(\"The zip codes for New York are 10001 thru 11104.\")) # True\n",
    "print(check_zip_code(\"90210 is a TV show\")) # False\n",
    "print(check_zip_code(\"Their address is: 123 Main Street, Anytown, AZ 85258-0001.\")) # True\n",
    "print(check_zip_code(\"The Parliament of Canada is at 111 Wellington St, Ottawa, ON K1A0A9.\")) # False"
   ]
  },
  {
   "cell_type": "code",
   "execution_count": 13,
   "id": "d8c383c7",
   "metadata": {},
   "outputs": [
    {
     "name": "stdout",
     "output_type": "stream",
     "text": [
      "<_sre.SRE_Match object; span=(0, 14), match='dhanan,jezhian'>\n",
      "('dhanan', 'jezhian')\n",
      "dhanan,jezhian\n",
      "dhanan\n",
      "jezhian\n",
      "dhanan jezhian\n"
     ]
    }
   ],
   "source": [
    "import re\n",
    "result = re.search(r\"^(\\w*),(\\w*)$\",\"dhanan,jezhian\")\n",
    "print(result)\n",
    "print(result.groups())\n",
    "print(result[0])\n",
    "print(result[1])\n",
    "print(result[2])\n",
    "print(\"{} {}\".format(result[1],result[2]))"
   ]
  },
  {
   "cell_type": "code",
   "execution_count": 64,
   "id": "f8fc4187",
   "metadata": {},
   "outputs": [
    {
     "name": "stdout",
     "output_type": "stream",
     "text": [
      "dhanan.j jezhian\n"
     ]
    }
   ],
   "source": [
    "def rearrange_name(name):\n",
    "    result =re.search(r\"^([\\w\\.\\s]*),([\\w\\.\\s]*)$\",name)\n",
    "    if result is None:\n",
    "        return name\n",
    "    return \"{} {}\".format(result[2],result[1])\n",
    "print(rearrange_name(\"jezhian,dhanan.j\"))"
   ]
  },
  {
   "cell_type": "code",
   "execution_count": 7,
   "id": "cc0c7f67",
   "metadata": {},
   "outputs": [
    {
     "name": "stdout",
     "output_type": "stream",
     "text": [
      "['python']\n"
     ]
    }
   ],
   "source": [
    "import re\n",
    "print(re.findall(r'\\b[a-zA-Z]{6}\\b','i like python programming'))"
   ]
  },
  {
   "cell_type": "code",
   "execution_count": 80,
   "id": "8ffcd65a",
   "metadata": {},
   "outputs": [
    {
     "name": "stdout",
     "output_type": "stream",
     "text": [
      "['really', 'strawberri']\n"
     ]
    }
   ],
   "source": [
    "print(re.findall(r'\\w{5,10}',\"i really like strawberries\"))"
   ]
  },
  {
   "cell_type": "code",
   "execution_count": 81,
   "id": "160a2163",
   "metadata": {},
   "outputs": [
    {
     "name": "stdout",
     "output_type": "stream",
     "text": [
      "['reall', 'straw', 'berri']\n"
     ]
    }
   ],
   "source": [
    "print(re.findall(r'\\w{5}',\"i really like strawberries\"))"
   ]
  },
  {
   "cell_type": "code",
   "execution_count": 79,
   "id": "ae9ebd2e",
   "metadata": {},
   "outputs": [
    {
     "name": "stdout",
     "output_type": "stream",
     "text": [
      "['really', 'strawberries']\n"
     ]
    }
   ],
   "source": [
    "print(re.findall(r'\\w{5,}',\"i really like strawberries\"))"
   ]
  },
  {
   "cell_type": "code",
   "execution_count": 90,
   "id": "b0eadbaf",
   "metadata": {},
   "outputs": [
    {
     "name": "stdout",
     "output_type": "stream",
     "text": [
      "<_sre.SRE_Match object; span=(14, 26), match='strawberries'>\n"
     ]
    }
   ],
   "source": [
    "print(re.search(r's\\w{,}',\"i really like strawberries\"))"
   ]
  },
  {
   "cell_type": "markdown",
   "id": "01029e9d",
   "metadata": {},
   "source": [
    "# quiz"
   ]
  },
  {
   "cell_type": "code",
   "execution_count": 93,
   "id": "0e7ee3f0",
   "metadata": {},
   "outputs": [
    {
     "name": "stdout",
     "output_type": "stream",
     "text": [
      "['morning']\n",
      "['chocolate', 'afternoon']\n",
      "[]\n"
     ]
    }
   ],
   "source": [
    "import re\n",
    "def seven_words(txt):\n",
    "    pattern=r'\\w{7,}'\n",
    "    result = re.findall(pattern,txt)\n",
    "    return result \n",
    "print(seven_words(\"I like to drink coffee in the morning.\"))\n",
    "print(seven_words(\"I also have a taste for hot chocolate in the afternoon.\"))\n",
    "print(seven_words(\"I never drink tea late at night.\"))"
   ]
  },
  {
   "cell_type": "code",
   "execution_count": 123,
   "id": "9b16133a",
   "metadata": {},
   "outputs": [
    {
     "name": "stdout",
     "output_type": "stream",
     "text": [
      "['12385', 'ERROR']\n"
     ]
    }
   ],
   "source": [
    "import  re \n",
    "log = 'July 31 07:51:48 mycomputer bad_process[12385]: [ERROR] performing package upgrade'\n",
    "patterns = r'\\[(\\d+|\\w+)\\]' #r'\\{(\\d+)\\}'\n",
    "result = re.findall(patterns,log)\n",
    "print(result)"
   ]
  },
  {
   "cell_type": "code",
   "execution_count": 133,
   "id": "0945f52e",
   "metadata": {},
   "outputs": [
    {
     "name": "stdout",
     "output_type": "stream",
     "text": [
      "\n"
     ]
    }
   ],
   "source": [
    "log ='July 31 07:51:48 mycomputer bad_process: [ERROR] performing package upgrade'\n",
    "def extract_pid(line):\n",
    "    pattern = r'\\[(\\d+)\\]'\n",
    "    result = re.search(pattern,line)\n",
    "    if result is None:\n",
    "        return \"\"\n",
    "    return result[1]\n",
    "print(extract_pid(log))# it output none nothing to see  anything"
   ]
  },
  {
   "cell_type": "markdown",
   "id": "a05fb730",
   "metadata": {},
   "source": [
    "# quiz"
   ]
  },
  {
   "cell_type": "code",
   "execution_count": 186,
   "id": "976f70a7",
   "metadata": {},
   "outputs": [
    {
     "name": "stdout",
     "output_type": "stream",
     "text": [
      "12345 (ERROR)\n",
      "None\n",
      "None\n",
      "67890 (RUNNING)\n"
     ]
    }
   ],
   "source": [
    "import re\n",
    "def extract_pid(log_line):\n",
    "    regex = r\"\\[(\\d+)\\]\\:\\s+([A-Z]*)\"\n",
    "    result = re.search(regex, log_line)\n",
    "    if result is None:\n",
    "        return None\n",
    "    return \"{} ({})\".format(result[1],result[2])\n",
    "\n",
    "print(extract_pid(\"July 31 07:51:48 mycomputer bad_process[12345]: ERROR Performing package upgrade\")) # 12345 (ERROR)\n",
    "print(extract_pid(\"99 elephants in a [cage]\")) # None\n",
    "print(extract_pid(\"A string that also has numbers [34567] but no uppercase message\")) # None\n",
    "print(extract_pid(\"July 31 08:08:08 mycomputer new_process[67890]: RUNNING Performing backup\")) # 67890 (RUNNING)\n"
   ]
  },
  {
   "cell_type": "markdown",
   "id": "7bca3ad6",
   "metadata": {},
   "source": [
    "# split the words selected sign"
   ]
  },
  {
   "cell_type": "code",
   "execution_count": 192,
   "id": "81edc07a",
   "metadata": {},
   "outputs": [
    {
     "name": "stdout",
     "output_type": "stream",
     "text": [
      "['One sentence', '.', ' Another one', '?', ' And the last one', '!', '']\n"
     ]
    }
   ],
   "source": [
    "import re\n",
    "result = re.split(r'([.!?])',\"One sentence. Another one? And the last one!\")\n",
    "print(result)"
   ]
  },
  {
   "cell_type": "markdown",
   "id": "af854fa0",
   "metadata": {},
   "source": [
    "# Replace the selected words"
   ]
  },
  {
   "cell_type": "code",
   "execution_count": 204,
   "id": "071318a1",
   "metadata": {},
   "outputs": [
    {
     "name": "stdout",
     "output_type": "stream",
     "text": [
      "Received an email for 'GOT IT' finally\n"
     ]
    }
   ],
   "source": [
    "import re\n",
    "result = re.sub(r'[\\w]+@[\\w.]+',\"'GOT IT'\",\"Received an email for go_nuts95@my.example.com finally\")\n",
    "print(result)"
   ]
  },
  {
   "cell_type": "code",
   "execution_count": 242,
   "id": "ac950e6b",
   "metadata": {},
   "outputs": [
    {
     "name": "stdout",
     "output_type": "stream",
     "text": [
      "J.DHANANJEZHIAN\n"
     ]
    }
   ],
   "source": [
    "import re \n",
    "result = re.sub(r'^([\\w. ]*),([\\w. ]*)$',r'\\2\\1',\"JEZHIAN,J.DHANAN\")\n",
    "print(result)"
   ]
  },
  {
   "cell_type": "markdown",
   "id": "65d8cb09",
   "metadata": {},
   "source": [
    "# quiz"
   ]
  },
  {
   "cell_type": "markdown",
   "id": "884a1323",
   "metadata": {},
   "source": [
    "We want to split a piece of text by either the word \"a\" or \"the\", as implemented in the following code. What is the resulting split list?"
   ]
  },
  {
   "cell_type": "code",
   "execution_count": 244,
   "id": "b3b1fdd5",
   "metadata": {},
   "outputs": [
    {
     "data": {
      "text/plain": [
       "['One sentence. Ano', 'r one? And ', ' l', 'st one!']"
      ]
     },
     "execution_count": 244,
     "metadata": {},
     "output_type": "execute_result"
    }
   ],
   "source": [
    "re.split(r\"the|a\", \"One sentence. Another one? And the last one!\")"
   ]
  },
  {
   "cell_type": "markdown",
   "id": "fbc5bb10",
   "metadata": {},
   "source": [
    "['One sentence. Another one? And ', ' last one!']\n",
    "\n",
    "['One sentence. Another one? And ', 'the', ' last one!']\n",
    "\n",
    "['One sentence. Ano', 'r one? And ', ' l', 'st one!']\n",
    "\n",
    "['One sentence. Ano', 'the', 'r one? And ', 'the', ' l', 'a', 'st one!']"
   ]
  },
  {
   "cell_type": "markdown",
   "id": "493d4568",
   "metadata": {},
   "source": [
    "# practice quiz"
   ]
  },
  {
   "cell_type": "code",
   "execution_count": 285,
   "id": "92d9743c",
   "metadata": {},
   "outputs": [
    {
     "name": "stdout",
     "output_type": "stream",
     "text": [
      "Sabrina Green,+1-802-867-5309,System Administrator\n",
      "Eli Jones,+1-684-3481127,IT specialist\n",
      "Melody Daniels,+1-846-687-7436,Programmer\n",
      "Charlie Rivera,+1-698-746-3357,Web Developer\n"
     ]
    }
   ],
   "source": [
    "import re\n",
    "def transform_record(record):\n",
    "  new_record = re.sub(r'(\\w+)+,(\\d)',r'\\1,+1-\\2',record)\n",
    "  return new_record\n",
    "\n",
    "print(transform_record(\"Sabrina Green,802-867-5309,System Administrator\")) \n",
    "# Sabrina Green,+1-802-867-5309,System Administrator\n",
    "\n",
    "print(transform_record(\"Eli Jones,684-3481127,IT specialist\")) \n",
    "# Eli Jones,+1-684-3481127,IT specialist\n",
    "\n",
    "print(transform_record(\"Melody Daniels,846-687-7436,Programmer\")) \n",
    "# Melody Daniels,+1-846-687-7436,Programmer\n",
    "\n",
    "print(transform_record(\"Charlie Rivera,698-746-3357,Web Developer\")) \n",
    "# Charlie Rivera,+1-698-746-3357,Web Developer"
   ]
  },
  {
   "cell_type": "code",
   "execution_count": 447,
   "id": "2bc818f0",
   "metadata": {},
   "outputs": [
    {
     "name": "stdout",
     "output_type": "stream",
     "text": [
      "['beautiful']\n",
      "['Obviously', 'queen', 'courageous', 'gracious']\n",
      "['rambunctious', 'quietly', 'delicious']\n",
      "['queue']\n",
      "[]\n"
     ]
    }
   ],
   "source": [
    "import re\n",
    "def multi_vowel_words(text):\n",
    "  pattern = r'\\b\\w+[a,e,i,o,u]{3,}\\w+\\b'\n",
    "  result = re.findall(pattern, text)\n",
    "  return result\n",
    "\n",
    "print(multi_vowel_words(\"Life is beautiful\")) \n",
    "# ['beautiful']\n",
    "\n",
    "print(multi_vowel_words(\"Obviously, the queen is courageous and gracious.\")) \n",
    "# ['Obviously', 'queen', 'courageous', 'gracious']\n",
    "\n",
    "print(multi_vowel_words(\"The rambunctious children had to sit quietly and await their delicious dinner.\")) \n",
    "# ['rambunctious', 'quietly', 'delicious']\n",
    "\n",
    "print(multi_vowel_words(\"The order of a data queue is First In First Out (FIFO)\")) \n",
    "# ['queue']\n",
    "\n",
    "print(multi_vowel_words(\"Hello world!\")) \n",
    "# []"
   ]
  },
  {
   "cell_type": "code",
   "execution_count": 373,
   "id": "2e314b4d",
   "metadata": {},
   "outputs": [
    {
     "name": "stdout",
     "output_type": "stream",
     "text": [
      "// Start of program\n",
      "  number = 0   // Initialize the variable\n",
      "  number += 1   // Increment the variable\n",
      "  return(number)\n"
     ]
    }
   ],
   "source": [
    "import re\n",
    "def transform_comments(line_of_code):\n",
    "  result = re.sub(r\"\\###|\\##|\\#\",\"//\",line_of_code)\n",
    "  return result\n",
    "\n",
    "print(transform_comments(\"### Start of program\")) \n",
    "# Should be \"// Start of program\"\n",
    "print(transform_comments(\"  number = 0   ## Initialize the variable\")) \n",
    "# Should be \"  number = 0   // Initialize the variable\"\n",
    "print(transform_comments(\"  number += 1   # Increment the variable\")) \n",
    "# Should be \"  number += 1   // Increment the variable\"\n",
    "print(transform_comments(\"  return(number)\")) \n",
    "# Should be \"  return(number)\""
   ]
  },
  {
   "cell_type": "code",
   "execution_count": 391,
   "id": "261b47cf",
   "metadata": {},
   "outputs": [
    {
     "name": "stdout",
     "output_type": "stream",
     "text": [
      "My number is (212) 345-9999.\n",
      "Please call (888) 555-1234\n",
      "123-123-12345\n",
      "Phone number of Buckingham Palace is +44 303 123 7300\n"
     ]
    }
   ],
   "source": [
    "import re\n",
    "def convert_phone_number(phone):\n",
    "  result = re.sub(r'\\s(\\d+)-',r' (\\1) ',phone)\n",
    "  return result\n",
    "\n",
    "print(convert_phone_number(\"My number is 212-345-9999.\")) # My number is (212) 345-9999.\n",
    "print(convert_phone_number(\"Please call 888-555-1234\")) # Please call (888) 555-1234\n",
    "print(convert_phone_number(\"123-123-12345\")) # 123-123-12345\n",
    "print(convert_phone_number(\"Phone number of Buckingham Palace is +44 303 123 7300\")) # Phone number of Buckingham Palace is +44 303 123 7300"
   ]
  },
  {
   "cell_type": "markdown",
   "id": "1f4e37ff",
   "metadata": {},
   "source": [
    "# week 4"
   ]
  },
  {
   "cell_type": "code",
   "execution_count": 34,
   "id": "502b3e1e",
   "metadata": {},
   "outputs": [
    {
     "name": "stdout",
     "output_type": "stream",
     "text": [
      "['name = input(\"enter your name\")\\n', 'print(\"hello,\" +name)\\n']\n"
     ]
    }
   ],
   "source": [
    "file=open(\"hello.py\",\"r+\")\n",
    "files = file.readlines()\n",
    "file.close()\n",
    "print(files)"
   ]
  },
  {
   "cell_type": "code",
   "execution_count": 43,
   "id": "682e2358",
   "metadata": {},
   "outputs": [
    {
     "name": "stdout",
     "output_type": "stream",
     "text": [
      "welcome to the time convertion\n",
      "enter the number of hours1\n",
      "enter the number of minutes0\n",
      "enter the number of seconds0\n",
      "that's 3600 seconds\n",
      "\n",
      "Do you wnat to do another conversion?[y to continue] n\n",
      "Good bye!\n"
     ]
    }
   ],
   "source": [
    "def to_seconds(hours,minutes,seconds):\n",
    "    return hours*3600+minutes*60+seconds\n",
    "\n",
    "print(\"welcome to the time convertion\")\n",
    "\n",
    "cont = \"y\"\n",
    "while(cont.lower() == \"y\" ):\n",
    "    hours   =int(input(\"enter the number of hours\"))\n",
    "    minutes =int(input(\"enter the number of minutes\"))\n",
    "    seconds =int(input(\"enter the number of seconds\"))\n",
    "    print(\"that's {} seconds\".format(to_seconds(hours,minutes,seconds)))\n",
    "    print()\n",
    "    cont = input(\"Do you wnat to do another conversion?[y to continue] \")\n",
    "print(\"Good bye!\")"
   ]
  },
  {
   "cell_type": "code",
   "execution_count": 85,
   "id": "5c94313e",
   "metadata": {},
   "outputs": [
    {
     "name": "stdout",
     "output_type": "stream",
     "text": [
      "enter the seconds : 5000\n"
     ]
    },
    {
     "data": {
      "text/plain": [
       "(1, 23, 20)"
      ]
     },
     "execution_count": 85,
     "metadata": {},
     "output_type": "execute_result"
    }
   ],
   "source": [
    "def sec(seconds):\n",
    "    return rem_sec\n",
    "hours = int(seconds)//3600\n",
    "minutes = (int(seconds)-int(hours)*3600)//60\n",
    "second = int(seconds)-int(hours)*3600-int(minutes)*60\n",
    "rem_sec =(int(hours),int(minutes),int(second))\n",
    "sec(int(input(\"enter the seconds : \")))"
   ]
  },
  {
   "cell_type": "code",
   "execution_count": 120,
   "id": "b5f25de7",
   "metadata": {
    "collapsed": true
   },
   "outputs": [
    {
     "data": {
      "text/plain": [
       "{'CLUTTER_IM_MODULE': 'xim',\n",
       " 'LS_COLORS': 'rs=0:di=01;34:ln=01;36:mh=00:pi=40;33:so=01;35:do=01;35:bd=40;33;01:cd=40;33;01:or=40;31;01:mi=00:su=37;41:sg=30;43:ca=30;41:tw=30;42:ow=34;42:st=37;44:ex=01;32:*.tar=01;31:*.tgz=01;31:*.arc=01;31:*.arj=01;31:*.taz=01;31:*.lha=01;31:*.lz4=01;31:*.lzh=01;31:*.lzma=01;31:*.tlz=01;31:*.txz=01;31:*.tzo=01;31:*.t7z=01;31:*.zip=01;31:*.z=01;31:*.Z=01;31:*.dz=01;31:*.gz=01;31:*.lrz=01;31:*.lz=01;31:*.lzo=01;31:*.xz=01;31:*.zst=01;31:*.tzst=01;31:*.bz2=01;31:*.bz=01;31:*.tbz=01;31:*.tbz2=01;31:*.tz=01;31:*.deb=01;31:*.rpm=01;31:*.jar=01;31:*.war=01;31:*.ear=01;31:*.sar=01;31:*.rar=01;31:*.alz=01;31:*.ace=01;31:*.zoo=01;31:*.cpio=01;31:*.7z=01;31:*.rz=01;31:*.cab=01;31:*.wim=01;31:*.swm=01;31:*.dwm=01;31:*.esd=01;31:*.jpg=01;35:*.jpeg=01;35:*.mjpg=01;35:*.mjpeg=01;35:*.gif=01;35:*.bmp=01;35:*.pbm=01;35:*.pgm=01;35:*.ppm=01;35:*.tga=01;35:*.xbm=01;35:*.xpm=01;35:*.tif=01;35:*.tiff=01;35:*.png=01;35:*.svg=01;35:*.svgz=01;35:*.mng=01;35:*.pcx=01;35:*.mov=01;35:*.mpg=01;35:*.mpeg=01;35:*.m2v=01;35:*.mkv=01;35:*.webm=01;35:*.ogm=01;35:*.mp4=01;35:*.m4v=01;35:*.mp4v=01;35:*.vob=01;35:*.qt=01;35:*.nuv=01;35:*.wmv=01;35:*.asf=01;35:*.rm=01;35:*.rmvb=01;35:*.flc=01;35:*.avi=01;35:*.fli=01;35:*.flv=01;35:*.gl=01;35:*.dl=01;35:*.xcf=01;35:*.xwd=01;35:*.yuv=01;35:*.cgm=01;35:*.emf=01;35:*.ogv=01;35:*.ogx=01;35:*.aac=00;36:*.au=00;36:*.flac=00;36:*.m4a=00;36:*.mid=00;36:*.midi=00;36:*.mka=00;36:*.mp3=00;36:*.mpc=00;36:*.ogg=00;36:*.ra=00;36:*.wav=00;36:*.oga=00;36:*.opus=00;36:*.spx=00;36:*.xspf=00;36:',\n",
       " 'LC_MEASUREMENT': 'en_IN.UTF-8',\n",
       " 'LESSCLOSE': '/usr/bin/lesspipe %s %s',\n",
       " 'LC_PAPER': 'en_IN.UTF-8',\n",
       " 'LC_MONETARY': 'en_IN.UTF-8',\n",
       " 'XDG_MENU_PREFIX': 'gnome-',\n",
       " 'LANG': 'en_IN',\n",
       " 'DISPLAY': ':0',\n",
       " 'GNOME_SHELL_SESSION_MODE': 'ubuntu',\n",
       " 'COLORTERM': 'truecolor',\n",
       " 'DESKTOP_AUTOSTART_ID': '1035433dc9acfab848162986960836724100000015510007',\n",
       " 'USERNAME': 'dj21_vicky21_',\n",
       " 'XDG_VTNR': '2',\n",
       " 'SSH_AUTH_SOCK': '/run/user/1000/keyring/ssh',\n",
       " 'LC_NAME': 'en_IN.UTF-8',\n",
       " 'XDG_SESSION_ID': '2',\n",
       " 'USER': 'dj21_vicky21_',\n",
       " 'DESKTOP_SESSION': 'ubuntu',\n",
       " 'QT4_IM_MODULE': 'xim',\n",
       " 'TEXTDOMAINDIR': '/usr/share/locale/',\n",
       " 'GNOME_TERMINAL_SCREEN': '/org/gnome/Terminal/screen/fc891d93_a49f_4017_b425_92c533977b0f',\n",
       " 'PWD': '/home/dj21_vicky21_',\n",
       " 'HOME': '/home/dj21_vicky21_',\n",
       " 'TEXTDOMAIN': 'im-config',\n",
       " 'SSH_AGENT_PID': '1628',\n",
       " 'QT_ACCESSIBILITY': '1',\n",
       " 'XDG_SESSION_TYPE': 'x11',\n",
       " 'XDG_DATA_DIRS': '/usr/share/ubuntu:/usr/local/share/:/usr/share/:/var/lib/snapd/desktop',\n",
       " 'XDG_SESSION_DESKTOP': 'ubuntu',\n",
       " 'LC_ADDRESS': 'en_IN.UTF-8',\n",
       " 'LC_NUMERIC': 'en_IN.UTF-8',\n",
       " 'GTK_MODULES': 'gail:atk-bridge',\n",
       " 'PAPERSIZE': 'a4',\n",
       " 'WINDOWPATH': '2',\n",
       " 'TERM': 'xterm-color',\n",
       " 'SHELL': '/bin/bash',\n",
       " 'VTE_VERSION': '5202',\n",
       " 'QT_IM_MODULE': 'xim',\n",
       " 'XMODIFIERS': '@im=ibus',\n",
       " 'IM_CONFIG_PHASE': '2',\n",
       " 'XDG_CURRENT_DESKTOP': 'ubuntu:GNOME',\n",
       " 'GPG_AGENT_INFO': '/run/user/1000/gnupg/S.gpg-agent:0:1',\n",
       " 'GNOME_TERMINAL_SERVICE': ':1.69',\n",
       " 'XDG_SEAT': 'seat0',\n",
       " 'SHLVL': '1',\n",
       " 'LANGUAGE': 'en_IN:en',\n",
       " 'LC_TELEPHONE': 'en_IN.UTF-8',\n",
       " 'GDMSESSION': 'ubuntu',\n",
       " 'GNOME_DESKTOP_SESSION_ID': 'this-is-deprecated',\n",
       " 'LOGNAME': 'dj21_vicky21_',\n",
       " 'DBUS_SESSION_BUS_ADDRESS': 'unix:path=/run/user/1000/bus',\n",
       " 'XDG_RUNTIME_DIR': '/run/user/1000',\n",
       " 'XAUTHORITY': '/run/user/1000/gdm/Xauthority',\n",
       " 'XDG_CONFIG_DIRS': '/etc/xdg/xdg-ubuntu:/etc/xdg',\n",
       " 'PATH': '/home/dj21_vicky21_/.local/bin:/usr/local/sbin:/usr/local/bin:/usr/sbin:/usr/bin:/sbin:/bin:/usr/games:/usr/local/games:/snap/bin',\n",
       " 'LC_IDENTIFICATION': 'en_IN.UTF-8',\n",
       " 'SESSION_MANAGER': 'local/dj:@/tmp/.ICE-unix/1551,unix/dj:/tmp/.ICE-unix/1551',\n",
       " 'LESSOPEN': '| /usr/bin/lesspipe %s',\n",
       " 'GTK_IM_MODULE': 'ibus',\n",
       " 'LC_TIME': 'en_IN.UTF-8',\n",
       " '_': '/home/dj21_vicky21_/.local/bin/jupyter',\n",
       " 'JPY_PARENT_PID': '3344',\n",
       " 'CLICOLOR': '1',\n",
       " 'PAGER': 'cat',\n",
       " 'GIT_PAGER': 'cat',\n",
       " 'MPLBACKEND': 'module://ipykernel.pylab.backend_inline'}"
      ]
     },
     "execution_count": 120,
     "metadata": {},
     "output_type": "execute_result"
    }
   ],
   "source": [
    "env"
   ]
  },
  {
   "cell_type": "code",
   "execution_count": 9,
   "id": "d625e666",
   "metadata": {},
   "outputs": [
    {
     "name": "stdout",
     "output_type": "stream",
     "text": [
      "HOME:/home/dj21_vicky21_\n",
      "SHELL:/bin/bash\n",
      "DESKTOP_SESSION:ubuntu\n",
      "LC_NAME:en_IN.UTF-8\n"
     ]
    }
   ],
   "source": [
    "import os\n",
    "print(\"HOME:\" + os.environ.get(\"HOME\"))\n",
    "print(\"SHELL:\" + os.environ.get(\"SHELL\"))\n",
    "print(\"DESKTOP_SESSION:\" + os.environ.get(\"DESKTOP_SESSION\"))\n",
    "print(\"LC_NAME:\" + os.environ[\"LC_NAME\"])   #export FRUIT=apple"
   ]
  },
  {
   "cell_type": "code",
   "execution_count": 136,
   "id": "17c32251",
   "metadata": {},
   "outputs": [
    {
     "name": "stdout",
     "output_type": "stream",
     "text": [
      "enter the number: \n",
      "123+4\n"
     ]
    },
    {
     "data": {
      "text/plain": [
       "127"
      ]
     },
     "execution_count": 136,
     "metadata": {},
     "output_type": "execute_result"
    }
   ],
   "source": [
    "my=input(\"enter the number: \\n\")\n",
    "eval(my)"
   ]
  },
  {
   "cell_type": "markdown",
   "id": "91c1e103",
   "metadata": {},
   "source": [
    "# subprocess module "
   ]
  },
  {
   "cell_type": "code",
   "execution_count": 12,
   "id": "94a33abb",
   "metadata": {},
   "outputs": [
    {
     "data": {
      "text/plain": [
       "CompletedProcess(args=['date'], returncode=0)"
      ]
     },
     "execution_count": 12,
     "metadata": {},
     "output_type": "execute_result"
    }
   ],
   "source": [
    "import subprocess\n",
    "subprocess.run([\"date\"])"
   ]
  },
  {
   "cell_type": "code",
   "execution_count": 13,
   "id": "d11dd8b5",
   "metadata": {},
   "outputs": [
    {
     "data": {
      "text/plain": [
       "CompletedProcess(args=['sleep', '2'], returncode=0)"
      ]
     },
     "execution_count": 13,
     "metadata": {},
     "output_type": "execute_result"
    }
   ],
   "source": [
    "subprocess.run([\"sleep\",'2'])"
   ]
  },
  {
   "cell_type": "code",
   "execution_count": 23,
   "id": "dadecf39",
   "metadata": {},
   "outputs": [
    {
     "name": "stdout",
     "output_type": "stream",
     "text": [
      "CompletedProcess(args=['ls', 'nothing'], returncode=2)\n"
     ]
    }
   ],
   "source": [
    "result= subprocess.run([\"ls\",\"nothing\"])\n",
    "print(result)"
   ]
  },
  {
   "cell_type": "markdown",
   "id": "2c5f0d64",
   "metadata": {},
   "source": [
    "The above programe give a different<font color=\"red\"> returncode = 2</font> . which means it Error "
   ]
  },
  {
   "cell_type": "code",
   "execution_count": 3,
   "id": "66fdbcd4",
   "metadata": {},
   "outputs": [
    {
     "ename": "TypeError",
     "evalue": "__init__() got an unexpected keyword argument 'capture_output'",
     "output_type": "error",
     "traceback": [
      "\u001b[0;31m---------------------------------------------------------------------------\u001b[0m",
      "\u001b[0;31mTypeError\u001b[0m                                 Traceback (most recent call last)",
      "\u001b[0;32m<ipython-input-3-373cd9513393>\u001b[0m in \u001b[0;36m<module>\u001b[0;34m\u001b[0m\n\u001b[1;32m      1\u001b[0m \u001b[0;32mimport\u001b[0m \u001b[0msubprocess\u001b[0m\u001b[0;34m\u001b[0m\u001b[0;34m\u001b[0m\u001b[0m\n\u001b[0;32m----> 2\u001b[0;31m \u001b[0mresult\u001b[0m \u001b[0;34m=\u001b[0m \u001b[0msubprocess\u001b[0m\u001b[0;34m.\u001b[0m\u001b[0mrun\u001b[0m\u001b[0;34m(\u001b[0m\u001b[0;34m[\u001b[0m\u001b[0;34m\"host\"\u001b[0m\u001b[0;34m,\u001b[0m\u001b[0;34m'8.8.8.8'\u001b[0m\u001b[0;34m]\u001b[0m\u001b[0;34m,\u001b[0m \u001b[0mcapture_output\u001b[0m\u001b[0;34m=\u001b[0m\u001b[0;32mTrue\u001b[0m\u001b[0;34m)\u001b[0m\u001b[0;34m\u001b[0m\u001b[0;34m\u001b[0m\u001b[0m\n\u001b[0m",
      "\u001b[0;32m/usr/lib/python3.6/subprocess.py\u001b[0m in \u001b[0;36mrun\u001b[0;34m(input, timeout, check, *popenargs, **kwargs)\u001b[0m\n\u001b[1;32m    421\u001b[0m         \u001b[0mkwargs\u001b[0m\u001b[0;34m[\u001b[0m\u001b[0;34m'stdin'\u001b[0m\u001b[0;34m]\u001b[0m \u001b[0;34m=\u001b[0m \u001b[0mPIPE\u001b[0m\u001b[0;34m\u001b[0m\u001b[0;34m\u001b[0m\u001b[0m\n\u001b[1;32m    422\u001b[0m \u001b[0;34m\u001b[0m\u001b[0m\n\u001b[0;32m--> 423\u001b[0;31m     \u001b[0;32mwith\u001b[0m \u001b[0mPopen\u001b[0m\u001b[0;34m(\u001b[0m\u001b[0;34m*\u001b[0m\u001b[0mpopenargs\u001b[0m\u001b[0;34m,\u001b[0m \u001b[0;34m**\u001b[0m\u001b[0mkwargs\u001b[0m\u001b[0;34m)\u001b[0m \u001b[0;32mas\u001b[0m \u001b[0mprocess\u001b[0m\u001b[0;34m:\u001b[0m\u001b[0;34m\u001b[0m\u001b[0;34m\u001b[0m\u001b[0m\n\u001b[0m\u001b[1;32m    424\u001b[0m         \u001b[0;32mtry\u001b[0m\u001b[0;34m:\u001b[0m\u001b[0;34m\u001b[0m\u001b[0;34m\u001b[0m\u001b[0m\n\u001b[1;32m    425\u001b[0m             \u001b[0mstdout\u001b[0m\u001b[0;34m,\u001b[0m \u001b[0mstderr\u001b[0m \u001b[0;34m=\u001b[0m \u001b[0mprocess\u001b[0m\u001b[0;34m.\u001b[0m\u001b[0mcommunicate\u001b[0m\u001b[0;34m(\u001b[0m\u001b[0minput\u001b[0m\u001b[0;34m,\u001b[0m \u001b[0mtimeout\u001b[0m\u001b[0;34m=\u001b[0m\u001b[0mtimeout\u001b[0m\u001b[0;34m)\u001b[0m\u001b[0;34m\u001b[0m\u001b[0;34m\u001b[0m\u001b[0m\n",
      "\u001b[0;31mTypeError\u001b[0m: __init__() got an unexpected keyword argument 'capture_output'"
     ]
    }
   ],
   "source": [
    "import subprocess\n",
    "result = subprocess.run([\"host\",'8.8.8.8'], capture_output=True)# this gets error"
   ]
  },
  {
   "cell_type": "markdown",
   "id": "2ee96726",
   "metadata": {},
   "source": [
    "Heads up! This example uses the capture_output parameter of subprocess.run, which was introduced in Python 3.7. Please make sure you are running Python 3.7 or later to follow along."
   ]
  },
  {
   "cell_type": "markdown",
   "id": "27e43a1c",
   "metadata": {},
   "source": [
    "# quiz"
   ]
  },
  {
   "cell_type": "code",
   "execution_count": 120,
   "id": "d9354f63",
   "metadata": {},
   "outputs": [
    {
     "name": "stdout",
     "output_type": "stream",
     "text": [
      "Jul 6 14:01:23 pid:29440\n",
      "Jul 6 14:02:08 pid:29187\n",
      "Jul 6 14:02:09 pid:29187\n",
      "Jul 6 14:03:01 pid:29440\n",
      "Jul 6 14:03:40 pid:29807\n",
      "Jul 6 14:04:01 pid:29440\n",
      "Jul 6 14:05:01 pid:29440\n"
     ]
    }
   ],
   "source": [
    "import re\n",
    "def show_time_of_pid(line):\n",
    "  pattern = r\"(\\w+\\s\\d+\\s\\d+\\:\\d+\\:\\d+)\"\n",
    "  patterns = r\"\\[(\\d+)\\]\"\n",
    "  result = re.search(pattern, line)\n",
    "  ret =re.search(patterns,line)\n",
    "  return \"{} pid:{}\".format(result[1],ret[1])\n",
    "print(show_time_of_pid(\"Jul 6 14:01:23 computer.name CRON[29440]: USER (good_user)\")) # Jul 6 14:01:23 pid:29440\n",
    "\n",
    "print(show_time_of_pid(\"Jul 6 14:02:08 computer.name jam_tag=psim[29187]: (UUID:006)\")) # Jul 6 14:02:08 pid:29187\n",
    "\n",
    "print(show_time_of_pid(\"Jul 6 14:02:09 computer.name jam_tag=psim[29187]: (UUID:007)\")) # Jul 6 14:02:09 pid:29187\n",
    "\n",
    "print(show_time_of_pid(\"Jul 6 14:03:01 computer.name CRON[29440]: USER (naughty_user)\")) # Jul 6 14:03:01 pid:29440\n",
    "\n",
    "print(show_time_of_pid(\"Jul 6 14:03:40 computer.name cacheclient[29807]: start syncing from \\\"0xDEADBEEF\\\"\")) # Jul 6 14:03:40 pid:29807\n",
    "\n",
    "print(show_time_of_pid(\"Jul 6 14:04:01 computer.name CRON[29440]: USER (naughty_user)\")) # Jul 6 14:04:01 pid:29440\n",
    "\n",
    "print(show_time_of_pid(\"Jul 6 14:05:01 computer.name CRON[29440]: USER (naughty_user)\")) # Jul 6 14:05:01 pid:29440"
   ]
  },
  {
   "cell_type": "code",
   "execution_count": 130,
   "id": "95f4e196",
   "metadata": {},
   "outputs": [
    {
     "name": "stdout",
     "output_type": "stream",
     "text": [
      "Jul 6 14:01:23 pid:29440\n",
      "Jul 6 14:02:08 pid:29187\n",
      "Jul 6 14:02:09 pid:29187\n",
      "Jul 6 14:03:01 pid:29440\n",
      "Jul 6 14:03:40 pid:29807\n",
      "Jul 6 14:04:01 pid:29440\n",
      "Jul 6 14:05:01 pid:29440\n"
     ]
    }
   ],
   "source": [
    "import re\n",
    "\n",
    "def show_time_of_pid(line):\n",
    "  pattern=r\"(\\w+\\s\\d+\\s\\d+\\:\\d+\\:\\d+).*\\[(\\d+)\\]\"\n",
    "  result = re.search(pattern, line)\n",
    "  return \"{} pid:{}\".format(result[1],result[2])\n",
    "\n",
    "print(show_time_of_pid(\"Jul 6 14:01:23 computer.name CRON[29440]: USER (good_user)\"))\n",
    "\n",
    "print(show_time_of_pid(\"Jul 6 14:02:08 computer.name jam_tag=psim[29187]: (UUID:006)\")) # Jul 6 14:02:08 pid:29187\n",
    "\n",
    "print(show_time_of_pid(\"Jul 6 14:02:09 computer.name jam_tag=psim[29187]: (UUID:007)\")) # Jul 6 14:02:09 pid:29187\n",
    "\n",
    "print(show_time_of_pid(\"Jul 6 14:03:01 computer.name CRON[29440]: USER (naughty_user)\")) # Jul 6 14:03:01 pid:29440\n",
    "\n",
    "print(show_time_of_pid(\"Jul 6 14:03:40 computer.name cacheclient[29807]: start syncing from \\\"0xDEADBEEF\\\"\")) # Jul 6 14:03:40 pid:29807\n",
    "\n",
    "print(show_time_of_pid(\"Jul 6 14:04:01 computer.name CRON[29440]: USER (naughty_user)\")) # Jul 6 14:04:01 pid:29440\n",
    "\n",
    "print(show_time_of_pid(\"Jul 6 14:05:01 computer.name CRON[29440]: USER (naughty_user)\")) # Jul 6 14:05:01 pid:29440\n"
   ]
  },
  {
   "cell_type": "markdown",
   "id": "d6fa77bf",
   "metadata": {},
   "source": [
    "# dictionary"
   ]
  },
  {
   "cell_type": "code",
   "execution_count": 147,
   "id": "6455e076",
   "metadata": {},
   "outputs": [
    {
     "name": "stdout",
     "output_type": "stream",
     "text": [
      "{'good_fruits': 7}\n"
     ]
    }
   ],
   "source": [
    "user_name={}\n",
    "name=\"good_fruits\"\n",
    "user_name[name]=user_name.get(name,6)+1\n",
    "print(user_name)"
   ]
  },
  {
   "cell_type": "code",
   "execution_count": 148,
   "id": "2d0cabe3",
   "metadata": {},
   "outputs": [
    {
     "name": "stdout",
     "output_type": "stream",
     "text": [
      "{'good_fruits': 8}\n"
     ]
    }
   ],
   "source": [
    "user_name[name]=user_name.get(name,0)+1\n",
    "print(user_name)"
   ]
  },
  {
   "cell_type": "code",
   "execution_count": null,
   "id": "da3459f0",
   "metadata": {},
   "outputs": [],
   "source": []
  }
 ],
 "metadata": {
  "kernelspec": {
   "display_name": "Python 3",
   "language": "python",
   "name": "python3"
  },
  "language_info": {
   "codemirror_mode": {
    "name": "ipython",
    "version": 3
   },
   "file_extension": ".py",
   "mimetype": "text/x-python",
   "name": "python",
   "nbconvert_exporter": "python",
   "pygments_lexer": "ipython3",
   "version": "3.6.9"
  }
 },
 "nbformat": 4,
 "nbformat_minor": 5
}
