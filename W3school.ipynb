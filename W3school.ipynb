{
 "cells": [
  {
   "cell_type": "markdown",
   "id": "c8198c83",
   "metadata": {},
   "source": [
    "# w3school"
   ]
  },
  {
   "cell_type": "code",
   "execution_count": 1,
   "id": "c66daf09",
   "metadata": {},
   "outputs": [
    {
     "name": "stdout",
     "output_type": "stream",
     "text": [
      "(3+0j)\n"
     ]
    }
   ],
   "source": [
    "x=3\n",
    "print(complex(x))"
   ]
  },
  {
   "cell_type": "code",
   "execution_count": 7,
   "id": "9d852a13",
   "metadata": {},
   "outputs": [
    {
     "name": "stdout",
     "output_type": "stream",
     "text": [
      "hello world\n"
     ]
    }
   ],
   "source": [
    "x=\" hello world \"\n",
    "y=x.strip()\n",
    "print(y)"
   ]
  },
  {
   "cell_type": "code",
   "execution_count": 10,
   "id": "018c149a",
   "metadata": {},
   "outputs": [
    {
     "name": "stdout",
     "output_type": "stream",
     "text": [
      "My Name is DHANANJEZHIAN, Im 20 years old\n"
     ]
    }
   ],
   "source": [
    "age=20\n",
    "txt=\"My Name is DHANANJEZHIAN, Im {} years old\"\n",
    "print(txt.format(age))"
   ]
  },
  {
   "cell_type": "code",
   "execution_count": 11,
   "id": "5b36af17",
   "metadata": {},
   "outputs": [
    {
     "name": "stdout",
     "output_type": "stream",
     "text": [
      "True\n"
     ]
    }
   ],
   "source": [
    "print(bool(\"abc\"))"
   ]
  },
  {
   "cell_type": "code",
   "execution_count": 24,
   "id": "91d9cce3",
   "metadata": {},
   "outputs": [
    {
     "name": "stdout",
     "output_type": "stream",
     "text": [
      "{'orange', 'mango', 'goa', 'apple', 'grape', 'kiwi', 'banana'}\n"
     ]
    }
   ],
   "source": [
    "set1={\"apple\",\"banana\",\"orange\"}\n",
    "list1=[\"goa\",\"mango\",\"kiwi\",\"grape\"]\n",
    "set1.update(list1)\n",
    "print(set1)\n"
   ]
  },
  {
   "cell_type": "code",
   "execution_count": 27,
   "id": "3d783a32",
   "metadata": {},
   "outputs": [
    {
     "name": "stdout",
     "output_type": "stream",
     "text": [
      "Mustang\n"
     ]
    }
   ],
   "source": [
    "car={\"brand\": \"Ford\",\"model\": \"Mustang\",\"year\": 1964}\n",
    "print(car.get('model'))"
   ]
  },
  {
   "cell_type": "markdown",
   "id": "12b058c6",
   "metadata": {},
   "source": [
    "# single line if statement"
   ]
  },
  {
   "cell_type": "code",
   "execution_count": 31,
   "id": "b4d68edd",
   "metadata": {},
   "outputs": [
    {
     "name": "stdout",
     "output_type": "stream",
     "text": [
      "5\n",
      "2\n",
      "yes\n"
     ]
    }
   ],
   "source": [
    "print(\"yes\") if input()>input() else \"no\""
   ]
  },
  {
   "cell_type": "markdown",
   "id": "10114b49",
   "metadata": {},
   "source": [
    "# case sensitive"
   ]
  },
  {
   "cell_type": "code",
   "execution_count": 4,
   "id": "3f1e6e5b",
   "metadata": {},
   "outputs": [
    {
     "name": "stdout",
     "output_type": "stream",
     "text": [
      "large case\n",
      "small case\n"
     ]
    }
   ],
   "source": [
    "a=\"small case\"\n",
    "A=\"large case\"\n",
    "print(A) # its print  large case\n",
    "print(a) # its print small case"
   ]
  },
  {
   "cell_type": "code",
   "execution_count": 8,
   "id": "40bbf319",
   "metadata": {},
   "outputs": [
    {
     "name": "stdout",
     "output_type": "stream",
     "text": [
      "three as same its x value\n",
      "three as same its y value\n",
      "three as same its z value\n"
     ]
    }
   ],
   "source": [
    "x=y=z=\"three as same\"\n",
    "print(\"{} its x value\".format(x))    # x\n",
    "print(\"{} its y value\".format(y))    # y\n",
    "print(\"{} its z value\".format(z))    # z"
   ]
  },
  {
   "cell_type": "code",
   "execution_count": 30,
   "id": "ea641921",
   "metadata": {},
   "outputs": [
    {
     "name": "stdout",
     "output_type": "stream",
     "text": [
      "['apple', 'mango', 'banana']\n"
     ]
    }
   ],
   "source": [
    "fruit=['apple','mango','banana']\n",
    "x=y=z= fruit\n",
    "print(x)"
   ]
  },
  {
   "cell_type": "code",
   "execution_count": 43,
   "id": "dae2cb3e",
   "metadata": {},
   "outputs": [
    {
     "name": "stdout",
     "output_type": "stream",
     "text": [
      "to add the word,TO ADD THE WORD\n"
     ]
    }
   ],
   "source": [
    "x=\"to add the word\"\n",
    "y='TO ADD THE WORD'\n",
    "print(x+\",\"+y)"
   ]
  },
  {
   "cell_type": "code",
   "execution_count": 53,
   "id": "b14bc0c4",
   "metadata": {},
   "outputs": [
    {
     "name": "stdout",
     "output_type": "stream",
     "text": [
      "variable is local, x is a local X\n",
      "global variabe it is a global x\n"
     ]
    }
   ],
   "source": [
    "x='global variabe'\n",
    "def local(variable):\n",
    "    x='local X'\n",
    "    print( \"variable is \" +variable+\", x is a \"+x)\n",
    "local(\"local\")\n",
    "print(x+\" it is a global x\")"
   ]
  },
  {
   "cell_type": "code",
   "execution_count": null,
   "id": "03e4a65f",
   "metadata": {},
   "outputs": [],
   "source": []
  }
 ],
 "metadata": {
  "kernelspec": {
   "display_name": "Python 3",
   "language": "python",
   "name": "python3"
  },
  "language_info": {
   "codemirror_mode": {
    "name": "ipython",
    "version": 3
   },
   "file_extension": ".py",
   "mimetype": "text/x-python",
   "name": "python",
   "nbconvert_exporter": "python",
   "pygments_lexer": "ipython3",
   "version": "3.6.9"
  }
 },
 "nbformat": 4,
 "nbformat_minor": 5
}
