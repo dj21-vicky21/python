{
 "cells": [
  {
   "cell_type": "markdown",
   "id": "682e3e9b",
   "metadata": {},
   "source": [
    "# WEEK 1"
   ]
  },
  {
   "cell_type": "code",
   "execution_count": 60,
   "id": "e4bd29b4",
   "metadata": {},
   "outputs": [
    {
     "name": "stdout",
     "output_type": "stream",
     "text": [
      "     PERSONS  FAILERS\n",
      "MON      123       23\n",
      "TUE      456       45\n",
      "WED      789       67\n",
      "THU      987       88\n",
      "FRI      654       98\n",
      "SAT      321       65\n"
     ]
    }
   ],
   "source": [
    "import pandas\n",
    "peoples = [123,456,789,987,654,321]\n",
    "errors = [23,45,67,88,98,65]\n",
    "datas=pandas.DataFrame({\"PERSONS\":peoples ,\"FAILERS\":errors},index=['MON','TUE','WED','THU','FRI','SAT'])\n",
    "print(datas)"
   ]
  },
  {
   "cell_type": "markdown",
   "id": "910d9653",
   "metadata": {},
   "source": [
    "# using \"mean\" get the average in pandas"
   ]
  },
  {
   "cell_type": "code",
   "execution_count": 47,
   "id": "2f7ed6a8",
   "metadata": {},
   "outputs": [
    {
     "data": {
      "text/plain": [
       "64.33333333333333"
      ]
     },
     "execution_count": 47,
     "metadata": {},
     "output_type": "execute_result"
    }
   ],
   "source": [
    "datas[\"FAILERS\"].mean()"
   ]
  },
  {
   "cell_type": "code",
   "execution_count": 66,
   "id": "bfee6fe2",
   "metadata": {},
   "outputs": [
    {
     "data": {
      "text/plain": [
       "555.0"
      ]
     },
     "execution_count": 66,
     "metadata": {},
     "output_type": "execute_result"
    }
   ],
   "source": [
    "datas[\"PERSONS\"].mean()"
   ]
  },
  {
   "cell_type": "markdown",
   "id": "b8d87de1",
   "metadata": {},
   "source": [
    "#  enter the data "
   ]
  },
  {
   "cell_type": "code",
   "execution_count": 3,
   "id": "5e2a349e",
   "metadata": {},
   "outputs": [
    {
     "name": "stdout",
     "output_type": "stream",
     "text": [
      "   ONE  TWO\n",
      "1   23  678\n",
      "2   45  453\n",
      "3   67  873\n",
      "4   89  984\n",
      "5   21  657\n",
      "6   56  231\n",
      "ONE_AVERAGE--50.166666666666664\n",
      "TWO_AVERAGE--646.0\n"
     ]
    }
   ],
   "source": [
    "import pandas\n",
    "one=[23,45,67,89,21,56]\n",
    "two=[678,453,873,984,657,231]\n",
    "dats=pandas.DataFrame({\"ONE\":one,\"TWO\":two} ,index=[1,2,3,4,5,6])\n",
    "print(dats)\n",
    "print(\"{}--{}\".format('ONE_AVERAGE',dats[\"ONE\"].mean()))\n",
    "print(\"{}--{}\".format(\"TWO_AVERAGE\",dats[\"TWO\"].mean()))"
   ]
  },
  {
   "cell_type": "markdown",
   "id": "61df69ea",
   "metadata": {},
   "source": [
    "# disk usage"
   ]
  },
  {
   "cell_type": "code",
   "execution_count": 5,
   "id": "f48357e8",
   "metadata": {},
   "outputs": [
    {
     "name": "stdout",
     "output_type": "stream",
     "text": [
      "usage(total=491180957696, used=23455784960, free=442703110144)\n"
     ]
    }
   ],
   "source": [
    "import shutil\n",
    "du = shutil.disk_usage('/')\n",
    "print(du)"
   ]
  },
  {
   "cell_type": "code",
   "execution_count": 47,
   "id": "7e89e5e2",
   "metadata": {},
   "outputs": [
    {
     "name": "stdout",
     "output_type": "stream",
     "text": [
      "90.13034874572566\n"
     ]
    }
   ],
   "source": [
    "print(du.free/du.total*100)"
   ]
  },
  {
   "cell_type": "markdown",
   "id": "06bebb93",
   "metadata": {},
   "source": [
    "# check cpu_percent"
   ]
  },
  {
   "cell_type": "code",
   "execution_count": 44,
   "id": "c9aa8a0b",
   "metadata": {},
   "outputs": [
    {
     "name": "stdout",
     "output_type": "stream",
     "text": [
      "47.4\n"
     ]
    }
   ],
   "source": [
    "import psutil\n",
    "cp = psutil.cpu_percent(0.1)\n",
    "print(cp)"
   ]
  },
  {
   "cell_type": "markdown",
   "id": "02b2853e",
   "metadata": {},
   "source": [
    "# check the usage of disk  space & cpu_ percent"
   ]
  },
  {
   "cell_type": "code",
   "execution_count": 1,
   "id": "eeb68c6c",
   "metadata": {},
   "outputs": [
    {
     "name": "stdout",
     "output_type": "stream",
     "text": [
      "everything is fine\n"
     ]
    }
   ],
   "source": [
    "import shutil\n",
    "import psutil\n",
    "\n",
    "def check_usage(disk):\n",
    "    du = shutil.disk_usage(disk)\n",
    "    free = du.free/du.total *100\n",
    "    return free > 20\n",
    "def check_cpu():\n",
    "    di = psutil.cpu_percent(1)\n",
    "    return di < 75\n",
    "if  check_usage('/')  or   check_cpu():\n",
    "    print(\"everything is fine\")\n",
    "else:\n",
    "    print(\"something wrong\")"
   ]
  },
  {
   "cell_type": "markdown",
   "id": "9f8d91f1",
   "metadata": {},
   "source": [
    "# To read a file   using python3"
   ]
  },
  {
   "cell_type": "code",
   "execution_count": 81,
   "id": "9a8c7bfa",
   "metadata": {},
   "outputs": [
    {
     "name": "stdout",
     "output_type": "stream",
     "text": [
      "a = input()\n",
      "\n"
     ]
    }
   ],
   "source": [
    "file = open(\"sample.txt\")\n",
    "print(\"{}\".format(file.readline()) )# print(file.read()) ### to read the  entire txt\n",
    "#file.close() ##  to  close the file  "
   ]
  },
  {
   "cell_type": "code",
   "execution_count": 69,
   "id": "ae5a9ab6",
   "metadata": {},
   "outputs": [
    {
     "ename": "TypeError",
     "evalue": "can only concatenate list (not \"str\") to list",
     "output_type": "error",
     "traceback": [
      "\u001b[0;31m---------------------------------------------------------------------------\u001b[0m",
      "\u001b[0;31mTypeError\u001b[0m                                 Traceback (most recent call last)",
      "\u001b[0;32m<ipython-input-69-f4fbe8f98b91>\u001b[0m in \u001b[0;36m<module>\u001b[0;34m\u001b[0m\n\u001b[1;32m      1\u001b[0m \u001b[0;32mwith\u001b[0m \u001b[0mopen\u001b[0m\u001b[0;34m(\u001b[0m\u001b[0;34m\"sample.txt\"\u001b[0m\u001b[0;34m)\u001b[0m \u001b[0;32mas\u001b[0m \u001b[0mfile\u001b[0m\u001b[0;34m:\u001b[0m \u001b[0;31m# Using \"with\" function to automatically close  the file\u001b[0m\u001b[0;34m\u001b[0m\u001b[0;34m\u001b[0m\u001b[0m\n\u001b[0;32m----> 2\u001b[0;31m     \u001b[0mprint\u001b[0m\u001b[0;34m(\u001b[0m\u001b[0mfile\u001b[0m\u001b[0;34m.\u001b[0m\u001b[0mreadlines\u001b[0m\u001b[0;34m(\u001b[0m\u001b[0;34m)\u001b[0m \u001b[0;34m+\u001b[0m \u001b[0;34m\"\\n\"\u001b[0m\u001b[0;34m)\u001b[0m\u001b[0;34m\u001b[0m\u001b[0;34m\u001b[0m\u001b[0m\n\u001b[0m",
      "\u001b[0;31mTypeError\u001b[0m: can only concatenate list (not \"str\") to list"
     ]
    }
   ],
   "source": [
    "with open(\"sample.txt\") as file: # Using \"with\" function to automatically close  the file\n",
    "    print(file.readlines())"
   ]
  },
  {
   "cell_type": "code",
   "execution_count": 43,
   "id": "1e33cb8b",
   "metadata": {},
   "outputs": [
    {
     "name": "stdout",
     "output_type": "stream",
     "text": [
      "A = INPUT()\n",
      "\n",
      "B = INPUT()\n",
      "\n",
      "#  THE SUM OF TWO NUMBERS\n",
      "\n",
      "C = A+B\n",
      "\n",
      "PRINT(C)\n",
      "\n"
     ]
    }
   ],
   "source": [
    "with open(\"sample.txt\") as files:\n",
    "    for program in files:\n",
    "        print(program.upper())#use strip() method is used to remove the space ##print(program.uppera().strip())##"
   ]
  },
  {
   "cell_type": "code",
   "execution_count": 132,
   "id": "5f75902b",
   "metadata": {},
   "outputs": [
    {
     "name": "stdout",
     "output_type": "stream",
     "text": [
      "['#  the sum of two numbers\\n', 'a = input()\\n', 'b = input()\\n', 'c = a+b\\n', 'print(c)\\n']\n"
     ]
    }
   ],
   "source": [
    "file = open(\"sample.txt\")\n",
    "txt = file.readlines()\n",
    "file.close()\n",
    "txt.sort() #to create a new variable to copy the  \"sample.txt\" after closing the \"sample.txt\" file . we can access same content(sample.txt) in  the new variable\n",
    "print(txt)"
   ]
  },
  {
   "cell_type": "markdown",
   "id": "a4e3ad89",
   "metadata": {},
   "source": [
    "#  write a file  using python3"
   ]
  },
  {
   "cell_type": "markdown",
   "id": "d8630c56",
   "metadata": {},
   "source": [
    "# <font color='red'>types :</font>\n",
    "* \"r\" - read only\n",
    "* \"w\" - write only\n",
    "* \"a\" - append only\n",
    "* \"r+\" - read & write\n",
    "* \"b\" - binary mode\n",
    "* \"t\" - text mode (\"its default\")\n",
    "* \"+\" - open for updating (\"it means read and write\")"
   ]
  },
  {
   "cell_type": "code",
   "execution_count": 133,
   "id": "f4fa64b4",
   "metadata": {},
   "outputs": [
    {
     "name": "stdout",
     "output_type": "stream",
     "text": [
      " well done a = input() b = input()  c = a+b  print(c) excellent\n"
     ]
    }
   ],
   "source": [
    "file =  open(\"add2numbers.py\",\"r\")\n",
    "#print(file.write(\" excellent\"))\n",
    "print(file.read())"
   ]
  },
  {
   "cell_type": "markdown",
   "id": "f3a8d767",
   "metadata": {},
   "source": [
    "# Rename the file and remove"
   ]
  },
  {
   "cell_type": "code",
   "execution_count": 145,
   "id": "4d516f3f",
   "metadata": {},
   "outputs": [
    {
     "data": {
      "text/plain": [
       "True"
      ]
     },
     "execution_count": 145,
     "metadata": {},
     "output_type": "execute_result"
    }
   ],
   "source": [
    "import os\n",
    "#os.remove(\"sample.py\")\n",
    "#os.rename(\"add2numbers.py\",\"adding2numbers.py\")\n",
    "os.path.exists('adding2numbers.py')"
   ]
  },
  {
   "cell_type": "code",
   "execution_count": null,
   "id": "82688090",
   "metadata": {},
   "outputs": [],
   "source": []
  }
 ],
 "metadata": {
  "kernelspec": {
   "display_name": "Python 3",
   "language": "python",
   "name": "python3"
  },
  "language_info": {
   "codemirror_mode": {
    "name": "ipython",
    "version": 3
   },
   "file_extension": ".py",
   "mimetype": "text/x-python",
   "name": "python",
   "nbconvert_exporter": "python",
   "pygments_lexer": "ipython3",
   "version": "3.6.9"
  }
 },
 "nbformat": 4,
 "nbformat_minor": 5
}
