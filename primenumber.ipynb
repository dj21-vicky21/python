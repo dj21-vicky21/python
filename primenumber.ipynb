{
 "cells": [
  {
   "cell_type": "markdown",
   "id": "96f66d9d",
   "metadata": {},
   "source": [
    "check prime number"
   ]
  },
  {
   "cell_type": "code",
   "execution_count": null,
   "id": "979aa3dc",
   "metadata": {},
   "outputs": [],
   "source": [
    "num=int(input())\n",
    "if num>1: #check the num greater thn 1\n",
    "    for i in range(2,num): \n",
    "        if (num % i) == 0:\n",
    "            print(\"not a prime number\")\n",
    "            break\n",
    "    else:\n",
    "        print(\"prime\") \n",
    "else:\n",
    "    print('not a prime')"
   ]
  },
  {
   "cell_type": "code",
   "execution_count": null,
   "id": "9cf09bcf",
   "metadata": {},
   "outputs": [],
   "source": []
  }
 ],
 "metadata": {
  "kernelspec": {
   "display_name": "Python 3",
   "language": "python",
   "name": "python3"
  },
  "language_info": {
   "codemirror_mode": {
    "name": "ipython",
    "version": 3
   },
   "file_extension": ".py",
   "mimetype": "text/x-python",
   "name": "python",
   "nbconvert_exporter": "python",
   "pygments_lexer": "ipython3",
   "version": "3.6.9"
  }
 },
 "nbformat": 4,
 "nbformat_minor": 5
}
