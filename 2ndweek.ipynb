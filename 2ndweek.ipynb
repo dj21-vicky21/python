{
 "cells": [
  {
   "cell_type": "markdown",
   "id": "ead54095",
   "metadata": {},
   "source": [
    "# Inheritance"
   ]
  },
  {
   "cell_type": "code",
   "execution_count": 31,
   "id": "eab5c004",
   "metadata": {},
   "outputs": [
    {
     "name": "stdout",
     "output_type": "stream",
     "text": [
      "yellow\n"
     ]
    }
   ],
   "source": [
    "class Fruits:\n",
    "    def __init__(self,color,flavour,shape):\n",
    "        self.color=color\n",
    "        self.flavour=flavour\n",
    "        self.shape=shape\n",
    "class Apple(Fruits):\n",
    "    pass\n",
    "class Grape(Fruits):\n",
    "    pass\n",
    "try1=Apple(\"yellow\",'tart',\"like round shape\")\n",
    "try2=Grape(\"green\",\"sweet\",'circle')\n",
    "print(try1.color)#print(\"{hel} in {mel} color\".format(hel='Apple',mel=try1.color))"
   ]
  },
  {
   "cell_type": "code",
   "execution_count": 1,
   "id": "a829d960",
   "metadata": {},
   "outputs": [
    {
     "name": "stdout",
     "output_type": "stream",
     "text": [
      "oink oink I'm Try2! oink oink\n"
     ]
    }
   ],
   "source": [
    "class Animal:\n",
    "    sound=\" \"\n",
    "    def __init__(self,name):\n",
    "        self.name=name\n",
    "    def speak(self):\n",
    "        print(\"{sound} {sound} I'm {name}! {sound} {sound}\".format(name=self.name ,sound=self.sound))\n",
    "class Try1(Animal):\n",
    "    sound=\"oink\"\n",
    "try2=Try1(\"Try2\")\n",
    "try2.speak()"
   ]
  },
  {
   "cell_type": "markdown",
   "id": "f1f3fe75",
   "metadata": {},
   "source": [
    "# try1"
   ]
  },
  {
   "cell_type": "code",
   "execution_count": 38,
   "id": "ae54b4c6",
   "metadata": {},
   "outputs": [
    {
     "data": {
      "text/plain": [
       "'oink oink'"
      ]
     },
     "execution_count": 38,
     "metadata": {},
     "output_type": "execute_result"
    }
   ],
   "source": [
    "class Animal:\n",
    "    def nthing(self):\n",
    "        return (\"{na} {na}\".format(na=self.name))\n",
    "try1=Animal()\n",
    "try1.name='oink'\n",
    "try1.nthing()"
   ]
  },
  {
   "cell_type": "code",
   "execution_count": 2,
   "id": "2c91318a",
   "metadata": {},
   "outputs": [
    {
     "name": "stdout",
     "output_type": "stream",
     "text": [
      "year:2001\n",
      "month:04\n",
      "day:21\n",
      "2026\n"
     ]
    }
   ],
   "source": [
    "class Animal:\n",
    "    year=0\n",
    "    day=0\n",
    "    month=0\n",
    "    def nthing(self):\n",
    "        print(self.year+self.day+self.month)\n",
    "try1=Animal()\n",
    "try1.year=int(input(\"year:\"))\n",
    "try1.day=int(input(\"month:\"))\n",
    "try1.month=int(input(\"day:\"))\n",
    "try1.nthing()"
   ]
  },
  {
   "cell_type": "code",
   "execution_count": 4,
   "id": "62de994f",
   "metadata": {
    "scrolled": true
   },
   "outputs": [
    {
     "name": "stdout",
     "output_type": "stream",
     "text": [
      "object name: apple\n",
      "object color: red\n",
      "object flavour: sweet\n",
      "object name: mango\n",
      "object color: yellow\n",
      "object flavour: sweet\n",
      "fruit -apple ,Color-red and Flavour-sweet\n",
      "fruit -mango ,Color-yellow and Flavour-sweet\n"
     ]
    }
   ],
   "source": [
    "class Special:\n",
    "    def __init__(self,name,color,flavour):\n",
    "        self.color=color\n",
    "        self.flavour=flavour\n",
    "        self.name=name\n",
    "    def gett(self):#gett change to __str__\n",
    "        print(\"fruit -{} ,Color-{} and Flavour-{}\".format(self.name,self.color,self.flavour))\n",
    "try1=Special(str(input(\"object name: \")),str(input(\"object color: \")),str(input(\"object flavour: \")))\n",
    "try2=Special(str(input(\"object name: \")),str(input(\"object color: \")),str(input(\"object flavour: \")))\n",
    "try1.gett()#print(try1)\n",
    "try2.gett()#print(try2)"
   ]
  },
  {
   "cell_type": "code",
   "execution_count": 21,
   "id": "59a1432e",
   "metadata": {},
   "outputs": [
    {
     "name": "stdout",
     "output_type": "stream",
     "text": [
      "name-Apple,color-red,flavour-sweet\n"
     ]
    }
   ],
   "source": [
    "class Fruit:\n",
    "    def __init__(self,name,color,flavour):\n",
    "        self.name=name\n",
    "        self.color=color\n",
    "        self.flavour=flavour\n",
    "    def __str__(self):\n",
    "        return (\"name-{},color-{},flavour-{}\".format(self.name,self.color,self.flavour))\n",
    "class Apple(Fruit):\n",
    "    pass\n",
    "class Grape(Fruit):\n",
    "    pass\n",
    "apple=Apple(\"Apple\",\"red\",\"sweet\")\n",
    "grape=Grape(\"grape\",\"purple\",\"tart\")\n",
    "print(apple)\n",
    "        "
   ]
  },
  {
   "cell_type": "markdown",
   "id": "9b082fde",
   "metadata": {},
   "source": [
    "# ques"
   ]
  },
  {
   "cell_type": "code",
   "execution_count": 17,
   "id": "c8b2db58",
   "metadata": {},
   "outputs": [
    {
     "name": "stdout",
     "output_type": "stream",
     "text": [
      "10\n"
     ]
    }
   ],
   "source": [
    "class Clothing:\n",
    "  stock={ 'name': [],'material' :[], 'amount':[]}\n",
    "  def __init__(self,name):\n",
    "    material = \"\"\n",
    "    self.name = name\n",
    "  def add_item(self, name, material, amount):\n",
    "    Clothing.stock['name'].append(self.name)\n",
    "    Clothing.stock['material'].append(self.material)\n",
    "    Clothing.stock['amount'].append(amount)\n",
    "  def Stock_by_Material(self, material):\n",
    "    count=0\n",
    "    n=0\n",
    "    for item in Clothing.stock['material']:\n",
    "      if item == material:\n",
    "        count += Clothing.stock['amount'][n]\n",
    "        n+=1\n",
    "    return count\n",
    "\n",
    "class shirt(Clothing):\n",
    "  material=\"Cotton\"\n",
    "class pants(Clothing):\n",
    "  material=\"Cotton\"\n",
    "  \n",
    "polo = shirt(\"Polo\")\n",
    "sweatpants = pants(\"Sweatpants\")\n",
    "polo.add_item(polo.name, polo.material, 4)\n",
    "sweatpants.add_item(sweatpants.name, sweatpants.material, 6)\n",
    "current_stock = polo.Stock_by_Material(\"Cotton\")\n",
    "print(current_stock)"
   ]
  },
  {
   "cell_type": "markdown",
   "id": "f44ee4bb",
   "metadata": {},
   "source": [
    "# not complete"
   ]
  },
  {
   "cell_type": "code",
   "execution_count": 7,
   "id": "e981cb98",
   "metadata": {},
   "outputs": [],
   "source": [
    "class Repository:\n",
    "    def __init__(self):\n",
    "        self.packages={}\n",
    "    def add_packages(self,package):\n",
    "        self.packages[package.name]=package\n",
    "        def total_size(self):\n",
    "            result=0\n",
    "            for package in self.package.value():\n",
    "                result += package.size\n",
    "                return result\n",
    "    "
   ]
  },
  {
   "cell_type": "code",
   "execution_count": 37,
   "id": "6a6103fe",
   "metadata": {},
   "outputs": [
    {
     "data": {
      "text/plain": [
       "6"
      ]
     },
     "execution_count": 37,
     "metadata": {},
     "output_type": "execute_result"
    }
   ],
   "source": [
    "import random\n",
    "random.randint(1,66)"
   ]
  },
  {
   "cell_type": "code",
   "execution_count": 11,
   "id": "9f5c6d4d",
   "metadata": {},
   "outputs": [
    {
     "name": "stdout",
     "output_type": "stream",
     "text": [
      "2021-09-02 12:05:03.706520\n"
     ]
    }
   ],
   "source": [
    "import datetime\n",
    "try1=datetime.datetime.now()\n",
    "print(try1 + datetime.timedelta(28)) #advance time print(try1 + datetime.timedelta(28))## change the value '28'"
   ]
  },
  {
   "cell_type": "markdown",
   "id": "8f1f2e0b",
   "metadata": {},
   "source": [
    "# sorted() function "
   ]
  },
  {
   "cell_type": "code",
   "execution_count": 20,
   "id": "7973b13d",
   "metadata": {},
   "outputs": [
    {
     "name": "stdout",
     "output_type": "stream",
     "text": [
      "['dhana', 'vicky', 'tharun', 'sumathi', 'dhakshit', 'janarthanan']\n"
     ]
    }
   ],
   "source": [
    "numbers=['dhana','vicky','sumathi','janarthanan','tharun','dhakshit']\n",
    "print(sorted(numbers,key=len))"
   ]
  },
  {
   "cell_type": "code",
   "execution_count": 38,
   "id": "f72baac1",
   "metadata": {},
   "outputs": [
    {
     "name": "stdout",
     "output_type": "stream",
     "text": [
      "{'webserver.local': {'lane'}, 'myworkstation.local': set(), 'mailserver.local': set()}\n"
     ]
    }
   ],
   "source": [
    "def get_event_date(event):\n",
    "  return event.date\n",
    "\n",
    "def current_users(events):\n",
    "  events.sort(key=get_event_date)\n",
    "  machines = {}\n",
    "  for event in events:\n",
    "    if event.machine not in machines:\n",
    "      machines[event.machine] = set()\n",
    "    if event.type == \"login\":\n",
    "      machines[event.machine].add(event.user)\n",
    "    elif event.type == \"logout\"  and event.user in machines[event.machine]:\n",
    "      machines[event.machine].remove(event.user)\n",
    "  return machines\n",
    "\n",
    "def generate_report(machines):\n",
    "  for machine, users in machines.items():\n",
    "    if len(users) > 0:\n",
    "      user_list = \", \".join(users)\n",
    "      print(\"{}: {}\".format(machine, user_list))\n",
    "\n",
    "        \n",
    "        \n",
    "class Event:\n",
    "    def __init__(self, event_date, event_type, machine_name, user):\n",
    "        self.date = event_date\n",
    "        self.type = event_type\n",
    "        self.machine = machine_name\n",
    "        self.user = user\n",
    "        \n",
    "        \n",
    "        \n",
    "        \n",
    "events = [\n",
    "    Event('2020-01-21 12:45:56', 'login', 'myworkstation.local', 'jordan'),\n",
    "    Event('2020-01-22 15:53:42', 'logout', 'webserver.local', 'jordan'),\n",
    "    Event('2020-01-21 18:53:21', 'login', 'webserver.local', 'lane'),\n",
    "    Event('2020-01-22 10:25:34', 'logout', 'myworkstation.local', 'jordan'),\n",
    "    Event('2020-01-21 08:20:01', 'login', 'webserver.local', 'jordan'),\n",
    "    Event('2020-01-23 11:24:35', 'logout', 'mailserver.local', 'chris'),\n",
    "]\n",
    "\n",
    "\n",
    "users = current_users(events)\n",
    "print(users)"
   ]
  },
  {
   "cell_type": "code",
   "execution_count": 33,
   "id": "02d0e602",
   "metadata": {},
   "outputs": [
    {
     "name": "stdout",
     "output_type": "stream",
     "text": [
      "webserver.local: lane\n"
     ]
    }
   ],
   "source": [
    "generate_report(users)"
   ]
  },
  {
   "cell_type": "code",
   "execution_count": null,
   "id": "9183898c",
   "metadata": {},
   "outputs": [],
   "source": []
  },
  {
   "cell_type": "code",
   "execution_count": null,
   "id": "68f4e659",
   "metadata": {},
   "outputs": [],
   "source": []
  }
 ],
 "metadata": {
  "kernelspec": {
   "display_name": "Python 3",
   "language": "python",
   "name": "python3"
  },
  "language_info": {
   "codemirror_mode": {
    "name": "ipython",
    "version": 3
   },
   "file_extension": ".py",
   "mimetype": "text/x-python",
   "name": "python",
   "nbconvert_exporter": "python",
   "pygments_lexer": "ipython3",
   "version": "3.6.9"
  }
 },
 "nbformat": 4,
 "nbformat_minor": 5
}
