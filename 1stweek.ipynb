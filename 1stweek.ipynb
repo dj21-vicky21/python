{
 "cells": [
  {
   "cell_type": "markdown",
   "id": "0dd0d429",
   "metadata": {},
   "source": [
    "# RECURSION"
   ]
  },
  {
   "cell_type": "code",
   "execution_count": 8,
   "id": "04f0f57c",
   "metadata": {},
   "outputs": [
    {
     "name": "stdout",
     "output_type": "stream",
     "text": [
      "6\n",
      "15\n"
     ]
    }
   ],
   "source": [
    "def sum_positive_numbers(n):\n",
    "    sum=0\n",
    "    for i in range(1,n+1):\n",
    "        sum+=i\n",
    "    return sum\n",
    "            \n",
    "print(sum_positive_numbers(3))#input() function\n",
    "print(sum_positive_numbers(5))#input() function\n"
   ]
  },
  {
   "cell_type": "markdown",
   "id": "cfb07ed2",
   "metadata": {},
   "source": [
    "# area of triangle "
   ]
  },
  {
   "cell_type": "code",
   "execution_count": 12,
   "id": "d3d8f48f",
   "metadata": {},
   "outputs": [
    {
     "name": "stdout",
     "output_type": "stream",
     "text": [
      "enter first side of triangle: 2\n",
      "enter second side of triangle: 3\n",
      "enter third side of triangle: 4\n",
      "perimeter of triangle - 4.5\n",
      "the area of triangle is  -  4.21875\n"
     ]
    }
   ],
   "source": [
    "a=float(input(\"enter first side of triangle: \"))\n",
    "b=float(input(\"enter second side of triangle: \"))\n",
    "c=float(input(\"enter third side of triangle: \"))\n",
    "#find perimeter of triangle\n",
    "s=(a+b+c)/2\n",
    "print('perimeter of triangle - ' + str(s))\n",
    "#find  area of triangle\n",
    "d=(s*(s-a)*(s-b)*(s-c))**1/2\n",
    "print('the area of triangle is  - ',d ) "
   ]
  },
  {
   "cell_type": "markdown",
   "id": "cab90b58",
   "metadata": {},
   "source": [
    "# count the digits"
   ]
  },
  {
   "cell_type": "code",
   "execution_count": 42,
   "id": "548471f2",
   "metadata": {},
   "outputs": [
    {
     "name": "stdout",
     "output_type": "stream",
     "text": [
      ":123456789\n",
      "45\n"
     ]
    }
   ],
   "source": [
    "def count(number):\n",
    "    sum=0\n",
    "    for i in str(number):\n",
    "        sum += int(i)\n",
    "    return sum\n",
    "print(count(input(\":\")))"
   ]
  },
  {
   "cell_type": "code",
   "execution_count": null,
   "id": "c0c5e0b5",
   "metadata": {},
   "outputs": [],
   "source": []
  }
 ],
 "metadata": {
  "kernelspec": {
   "display_name": "Python 3",
   "language": "python",
   "name": "python3"
  },
  "language_info": {
   "codemirror_mode": {
    "name": "ipython",
    "version": 3
   },
   "file_extension": ".py",
   "mimetype": "text/x-python",
   "name": "python",
   "nbconvert_exporter": "python",
   "pygments_lexer": "ipython3",
   "version": "3.6.9"
  }
 },
 "nbformat": 4,
 "nbformat_minor": 5
}
