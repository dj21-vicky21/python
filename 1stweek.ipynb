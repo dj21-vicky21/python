{
 "cells": [
  {
   "cell_type": "markdown",
   "id": "0dd0d429",
   "metadata": {},
   "source": [
    "# RECURSION"
   ]
  },
  {
   "cell_type": "code",
   "execution_count": 8,
   "id": "04f0f57c",
   "metadata": {},
   "outputs": [
    {
     "name": "stdout",
     "output_type": "stream",
     "text": [
      "6\n",
      "15\n"
     ]
    }
   ],
   "source": [
    "def sum_positive_numbers(n):\n",
    "    sum=0\n",
    "    for i in range(1,n+1):# similar to 22nd cell\n",
    "        sum+=i\n",
    "    return sum\n",
    "            \n",
    "print(sum_positive_numbers(3))#input() function\n",
    "print(sum_positive_numbers(5))#input() function\n"
   ]
  },
  {
   "cell_type": "markdown",
   "id": "cfb07ed2",
   "metadata": {},
   "source": [
    "# area of triangle "
   ]
  },
  {
   "cell_type": "code",
   "execution_count": 3,
   "id": "d3d8f48f",
   "metadata": {},
   "outputs": [
    {
     "name": "stdout",
     "output_type": "stream",
     "text": [
      "enter first side of triangle: 2\n",
      "enter second side of triangle: 3\n",
      "enter third side of triangle: 4\n",
      "perimeter of triangle = 4.5\n",
      "the area of triangle is  =  4.21875\n"
     ]
    }
   ],
   "source": [
    "a=float(input(\"enter first side of triangle: \"))\n",
    "b=float(input(\"enter second side of triangle: \"))\n",
    "c=float(input(\"enter third side of triangle: \"))\n",
    "#find perimeter of triangle\n",
    "s=(a+b+c)/2\n",
    "print('perimeter of triangle = ' + str(s))\n",
    "#find  area of triangle\n",
    "d=(s*(s-a)*(s-b)*(s-c))**1/2\n",
    "print('the area of triangle is  = ',d ) "
   ]
  },
  {
   "cell_type": "markdown",
   "id": "cab90b58",
   "metadata": {},
   "source": [
    "# count the digits"
   ]
  },
  {
   "cell_type": "code",
   "execution_count": 35,
   "id": "548471f2",
   "metadata": {},
   "outputs": [
    {
     "name": "stdout",
     "output_type": "stream",
     "text": [
      ":45\n",
      "9\n"
     ]
    }
   ],
   "source": [
    "def count(number):\n",
    "    sum=0\n",
    "    #count=0\n",
    "    for i in str(number):\n",
    "        sum += int(i)\n",
    "        #count+=1\n",
    "    return sum #count   also using  how many digits\n",
    "print(count(input(\":\")))#1+2+3+4+5+6+7+8+9=45"
   ]
  },
  {
   "cell_type": "markdown",
   "id": "ccc4da0e",
   "metadata": {},
   "source": [
    "# calculate the seconds"
   ]
  },
  {
   "cell_type": "code",
   "execution_count": 21,
   "id": "c0c5e0b5",
   "metadata": {},
   "outputs": [
    {
     "name": "stdout",
     "output_type": "stream",
     "text": [
      ";5000\n",
      "(1, 23, 20)\n"
     ]
    }
   ],
   "source": [
    "def time(seconds):\n",
    "    hours=seconds//3600\n",
    "    minutes=(seconds-hours*3600)//60\n",
    "    rem_second=seconds-(hours*3600)-(minutes*60)\n",
    "    return hours,minutes,rem_second\n",
    "print(time(int(input(\";\"))))"
   ]
  },
  {
   "cell_type": "markdown",
   "id": "0429c06a",
   "metadata": {},
   "source": [
    "# dice"
   ]
  },
  {
   "cell_type": "code",
   "execution_count": 27,
   "id": "cd569154",
   "metadata": {},
   "outputs": [
    {
     "name": "stdout",
     "output_type": "stream",
     "text": [
      "{0|0}{0|1}{0|2}{0|3}{0|4}{0|5}{0|6}\n",
      "{1|1}{1|2}{1|3}{1|4}{1|5}{1|6}\n",
      "{2|2}{2|3}{2|4}{2|5}{2|6}\n",
      "{3|3}{3|4}{3|5}{3|6}\n",
      "{4|4}{4|5}{4|6}\n",
      "{5|5}{5|6}\n",
      "{6|6}\n"
     ]
    }
   ],
   "source": [
    "for left in range(7):\n",
    "    for right in  range(left,7):\n",
    "        print('{'+str(left) + \"|\" + str(right) + \"}\",end=\"\")\n",
    "    print()\n",
    "        "
   ]
  },
  {
   "cell_type": "code",
   "execution_count": 40,
   "id": "1e13818d",
   "metadata": {},
   "outputs": [
    {
     "name": "stdout",
     "output_type": "stream",
     "text": [
      "hellohello10\n"
     ]
    }
   ],
   "source": [
    "def counts(words):\n",
    "    final=words*2\n",
    "    finals=len(final)\n",
    "    return str(final) + str(finals)\n",
    "print(counts('hello'))\n"
   ]
  },
  {
   "cell_type": "markdown",
   "id": "a15751ed",
   "metadata": {},
   "source": [
    "# doubt"
   ]
  },
  {
   "cell_type": "code",
   "execution_count": 56,
   "id": "609f29ed",
   "metadata": {},
   "outputs": [
    {
     "name": "stdout",
     "output_type": "stream",
     "text": [
      "True\n",
      "False\n",
      "True\n"
     ]
    }
   ],
   "source": [
    "def  first_and_last(message):\n",
    "    first=message[0]\n",
    "    last=message[-1]\n",
    "    if first!=last:  \n",
    "        return False\n",
    "    return True\n",
    "print(first_and_last(\"else\"))\n",
    "print(first_and_last(\"tree\"))\n",
    "print(first_and_last(\"  \"))"
   ]
  },
  {
   "cell_type": "code",
   "execution_count": 131,
   "id": "3f50d4f2",
   "metadata": {},
   "outputs": [
    {
     "name": "stdout",
     "output_type": "stream",
     "text": [
      "USB\n",
      "LAN\n",
      "OS\n"
     ]
    }
   ],
   "source": [
    "def initials(phrase):\n",
    "    words = (phrase.upper()).split()\n",
    "    result = \"\"\n",
    "    for word in words:\n",
    "        result +=word[0]\n",
    "    return result\n",
    "\n",
    "print(initials(\"Universal Serial Bus\")) # Should be: USB\n",
    "print(initials(\"local area network\")) # Should be: LAN\n",
    "print(initials(\"Operating system\")) # Should be: OS"
   ]
  },
  {
   "cell_type": "code",
   "execution_count": 99,
   "id": "f0a280d2",
   "metadata": {},
   "outputs": [
    {
     "name": "stdout",
     "output_type": "stream",
     "text": [
      "qt\n"
     ]
    }
   ],
   "source": [
    "answers='ques tion'\n",
    "result=answer.split()\n",
    "print(result[0][0] + result[1][0])\n",
    "    "
   ]
  },
  {
   "cell_type": "markdown",
   "id": "59e6d113",
   "metadata": {},
   "source": [
    "# FORMATTING"
   ]
  },
  {
   "cell_type": "code",
   "execution_count": 182,
   "id": "6f3ee2d1",
   "metadata": {},
   "outputs": [
    {
     "name": "stdout",
     "output_type": "stream",
     "text": [
      "enter your name:dhananjezhian\n",
      "Hi dhananjezhian, your lucky numer is 39\n"
     ]
    }
   ],
   "source": [
    "name=str(input('enter your name:'))\n",
    "luck=len(name)*3\n",
    "print(\"Hi {}, your lucky numer is {}\".format(name ,luck))"
   ]
  },
  {
   "cell_type": "code",
   "execution_count": 205,
   "id": "a02a8be2",
   "metadata": {},
   "outputs": [
    {
     "name": "stdout",
     "output_type": "stream",
     "text": [
      "Correct answers: 86.36%\n"
     ]
    }
   ],
   "source": [
    "points=19\n",
    "total=22\n",
    "print('Correct answers: {:.2%}'.format(points/total))"
   ]
  },
  {
   "cell_type": "markdown",
   "id": "d55e160c",
   "metadata": {},
   "source": [
    "# reverse"
   ]
  },
  {
   "cell_type": "code",
   "execution_count": 96,
   "id": "0ed25b35",
   "metadata": {},
   "outputs": [
    {
     "name": "stdout",
     "output_type": "stream",
     "text": [
      "True\n",
      "False\n",
      "True\n"
     ]
    }
   ],
   "source": [
    "def is_palindrome(input_string):\n",
    "    new_string = input_string.replace(\" \",\"\").upper()\n",
    "    reverse_string = input_string.replace(\" \",\"\").upper()[::-1]\n",
    "    if  new_string==reverse_string:\n",
    "        return True\n",
    "    return False\n",
    "\n",
    "print(is_palindrome(\"Never Odd or Even\")) # Should be True\n",
    "print(is_palindrome(\"abc\")) # Should be False\n",
    "print(is_palindrome(\"kayak\")) # Should be True"
   ]
  },
  {
   "cell_type": "code",
   "execution_count": 126,
   "id": "0bb92064",
   "metadata": {},
   "outputs": [
    {
     "name": "stdout",
     "output_type": "stream",
     "text": [
      "It's raining cats and dogs\n",
      "She sells seashells by the seashore\n",
      "The weather is nice in May\n",
      "The weather is nice in April\n"
     ]
    }
   ],
   "source": [
    "def replace_ending(sentence, old, new):\n",
    "\t# Check if the old string is at the end of the sentence \n",
    "\tif sentence.endswith(old):\n",
    "\t\t# Using i as the slicing index, combine the part\n",
    "\t\t# of the sentence up to the matched string at the \n",
    "\t\t# end with the new string\n",
    "\t\ti = sentence.rfind(old) #rindex(old) \n",
    "\t\tnew_sentence =sentence[:i]+new\n",
    "\t\treturn new_sentence\n",
    "\n",
    "\t# Return the original sentence if there is no match \n",
    "\treturn sentence\n",
    "\t\n",
    "print(replace_ending(\"It's raining cats and cats\", \"cats\", \"dogs\")) \n",
    "# Should display \"It's raining cats and dogs\"\n",
    "print(replace_ending(\"She sells seashells by the seashore\", \"seashells\", \"donuts\")) \n",
    "# Should display \"She sells seashells by the seashore\"\n",
    "print(replace_ending(\"The weather is nice in May\", \"may\", \"april\")) \n",
    "# Should display \"The weather is nice in May\"\n",
    "print(replace_ending(\"The weather is nice in May\", \"May\", \"April\")) \n",
    "# Should display \"The weather is nice in April\"\n",
    "\n",
    "\n",
    "\n"
   ]
  },
  {
   "cell_type": "code",
   "execution_count": null,
   "id": "e9d5373d",
   "metadata": {},
   "outputs": [],
   "source": []
  },
  {
   "cell_type": "code",
   "execution_count": null,
   "id": "d59e69fa",
   "metadata": {},
   "outputs": [],
   "source": []
  }
 ],
 "metadata": {
  "kernelspec": {
   "display_name": "Python 3",
   "language": "python",
   "name": "python3"
  },
  "language_info": {
   "codemirror_mode": {
    "name": "ipython",
    "version": 3
   },
   "file_extension": ".py",
   "mimetype": "text/x-python",
   "name": "python",
   "nbconvert_exporter": "python",
   "pygments_lexer": "ipython3",
   "version": "3.6.9"
  }
 },
 "nbformat": 4,
 "nbformat_minor": 5
}
