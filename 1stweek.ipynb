{
 "cells": [
  {
   "cell_type": "markdown",
   "id": "44d1e26a",
   "metadata": {},
   "source": [
    "RECURSION:\n",
    "examples-"
   ]
  },
  {
   "cell_type": "code",
   "execution_count": 8,
   "id": "04f0f57c",
   "metadata": {},
   "outputs": [
    {
     "name": "stdout",
     "output_type": "stream",
     "text": [
      "6\n",
      "15\n"
     ]
    }
   ],
   "source": [
    "def sum_positive_numbers(n):\n",
    "    sum=0\n",
    "    for i in range(1,n+1):\n",
    "        sum+=i\n",
    "    return sum\n",
    "            \n",
    "print(sum_positive_numbers(3))#input() function\n",
    "print(sum_positive_numbers(5))#input() function\n"
   ]
  },
  {
   "cell_type": "code",
   "execution_count": null,
   "id": "5a750631",
   "metadata": {},
   "outputs": [],
   "source": []
  }
 ],
 "metadata": {
  "kernelspec": {
   "display_name": "Python 3",
   "language": "python",
   "name": "python3"
  },
  "language_info": {
   "codemirror_mode": {
    "name": "ipython",
    "version": 3
   },
   "file_extension": ".py",
   "mimetype": "text/x-python",
   "name": "python",
   "nbconvert_exporter": "python",
   "pygments_lexer": "ipython3",
   "version": "3.6.9"
  }
 },
 "nbformat": 4,
 "nbformat_minor": 5
}
